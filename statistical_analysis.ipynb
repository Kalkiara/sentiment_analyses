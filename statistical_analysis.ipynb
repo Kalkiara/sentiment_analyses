{
 "cells": [
  {
   "cell_type": "markdown",
   "id": "88876cdb",
   "metadata": {},
   "source": [
    "#### Analysis tweets"
   ]
  },
  {
   "cell_type": "code",
   "execution_count": 1,
   "id": "bf735112",
   "metadata": {},
   "outputs": [],
   "source": [
    "#pip install researchpy\n",
    "import pandas as pd\n",
    "import researchpy as rp\n",
    "import scipy.stats as stats\n",
    "import seaborn as sns\n",
    "import scipy\n",
    "import os\n",
    "import glob"
   ]
  },
  {
   "cell_type": "code",
   "execution_count": 4,
   "id": "f89e3011",
   "metadata": {},
   "outputs": [],
   "source": [
    "# grab files and make into dataframe\n",
    "def comments_to_df(path):\n",
    "    extension = 'ndjson'\n",
    "    os.chdir(path) # change directory to path\n",
    "    files = glob.glob('*.{}'.format(extension)) # get files\n",
    "\n",
    "    all_files = glob.glob(os.path.join(path, \"*\")) # alternatively\n",
    "    tweets = []\n",
    "\n",
    "    for file in all_files: \n",
    "        for line in open(file, 'r'):\n",
    "            try:\n",
    "                tweets.append(json.loads(line))\n",
    "            except:\n",
    "                pass\n",
    "    df = pd.DataFrame(tweets)\n",
    "    return df\n",
    "\n",
    "# make column for compound score\n",
    "def compound_column(df):\n",
    "    df['compound'] = df['tweets_sent_all'].str[-8:-1]\n",
    "    replace_list = [\":\",\"d\", \"'\"] # things to get rid of in df\n",
    "    n = 0\n",
    "    while n < len(replace_list):\n",
    "        df['compound'] = df['compound'].map(lambda x: str(x).replace(replace_list[n],''))\n",
    "        n+=1\n",
    "    df = pd.DataFrame(df)\n",
    "    return df"
   ]
  },
  {
   "cell_type": "code",
   "execution_count": 5,
   "id": "654b296e",
   "metadata": {},
   "outputs": [],
   "source": [
    "# read csv files\n",
    "pl = pd.read_csv(os.path.join('..','preprocessed','pl_df.csv'))\n",
    "fi = pd.read_csv(os.path.join('..','preprocessed','fi_df.csv'))\n",
    "no = pd.read_csv(os.path.join('..','preprocessed','no_df.csv'))\n",
    "dk = pd.read_csv(os.path.join('..','preprocessed','da_df.csv'))\n",
    "sv = pd.read_csv(os.path.join('..','preprocessed','sv_df.csv'))\n",
    "it = pd.read_csv(os.path.join('..','preprocessed','it_df.csv'))\n",
    "de = pd.read_csv(os.path.join('..','preprocessed','de_df.csv'))\n",
    "\n",
    "# comments\n",
    "dk_comments = pd.read_csv('/work/MariaNissenByg#2204/preprocessed/da_comments_df.csv')\n",
    "de_comments = pd.read_csv('/work/MariaNissenByg#2204/preprocessed/de_comments_df.csv')\n",
    "it_comments = pd.read_csv('/work/MariaNissenByg#2204/preprocessed/it_comments_df.csv')\n",
    "no_comments = pd.read_csv('/work/MariaNissenByg#2204/preprocessed/no_comments_df.csv')\n",
    "pl_comments = pd.read_csv('/work/MariaNissenByg#2204/preprocessed/pl_comments_df.csv')\n",
    "sv_comments = pd.read_csv('/work/MariaNissenByg#2204/preprocessed/sv_comments.csv')\n",
    "# no finnish comments\n",
    "\n",
    "# # fix sv missing column: everyone is proR\n",
    "# sv_comments_fixpro = sv_comments.assign(\n",
    "#     pro = lambda dataframe: 'ProU')\n",
    "\n",
    "# combined per country\n",
    "dk_tweets_and_comments = pd.concat([dk, dk_comments])\n",
    "de_tweets_and_comments = pd.concat([de, de_comments])\n",
    "it_tweets_and_comments = pd.concat([it, it_comments])\n",
    "no_tweets_and_comments = pd.concat([no, no_comments])\n",
    "pl_tweets_and_comments = pd.concat([pl, pl_comments])\n",
    "sv_tweets_and_comments = pd.concat([sv, sv_comments])\n",
    "# no finnish comments"
   ]
  },
  {
   "cell_type": "code",
   "execution_count": 6,
   "id": "c53875b4",
   "metadata": {},
   "outputs": [],
   "source": [
    "# rename finnish column\n",
    "fi['tweets_sent_all'] = fi['tweets_sent_multi']\n",
    "\n",
    "# get compound scores for all\n",
    "pl = compound_column(pl)\n",
    "fi = compound_column(fi)\n",
    "no = compound_column(no)\n",
    "dk = compound_column(dk) \n",
    "sv = compound_column(sv)\n",
    "it = compound_column(it)\n",
    "de = compound_column(de)\n",
    "\n",
    "pl_comments = compound_column(pl_comments)\n",
    "no_comments = compound_column(no_comments)\n",
    "dk_comments = compound_column(dk_comments) \n",
    "sv_comments = compound_column(sv_comments)\n",
    "it_comments = compound_column(it_comments)\n",
    "de_comments = compound_column(de_comments)\n",
    "\n",
    "pl_tweets_and_comments = compound_column(pl_tweets_and_comments)\n",
    "no_tweets_and_comments = compound_column(no_tweets_and_comments)\n",
    "dk_tweets_and_comments = compound_column(dk_tweets_and_comments) \n",
    "sv_tweets_and_comments = compound_column(sv_tweets_and_comments)\n",
    "it_tweets_and_comments = compound_column(it_tweets_and_comments)\n",
    "de_tweets_and_comments = compound_column(de_tweets_and_comments)"
   ]
  },
  {
   "cell_type": "code",
   "execution_count": 73,
   "id": "bca448a7",
   "metadata": {},
   "outputs": [
    {
     "name": "stdout",
     "output_type": "stream",
     "text": [
      "0.012030864197530865 0.21045401851828308\n"
     ]
    }
   ],
   "source": [
    "# get means and sd for compound scores\n",
    "m = it['compound'][it['pro'] == 'ProR'].astype(float).mean()\n",
    "sd = it['compound'][it['pro'] == 'ProR'].astype(float).std()\n",
    "\n",
    "print(m, sd)"
   ]
  },
  {
   "cell_type": "code",
   "execution_count": 7,
   "id": "ec38a35a",
   "metadata": {},
   "outputs": [],
   "source": [
    "all_countries = pd.concat([pl, fi, no, dk, sv, it, de])\n",
    "all_countries_comments = pd.concat([pl_comments, no_comments, dk_comments, sv_comments, it_comments, de_comments])\n",
    "all = pd.concat([all_countries, all_countries_comments])\n",
    "\n",
    "scandi = pd.concat([fi, no, dk, sv])\n",
    "scandi_comments = pd.concat([no_comments, dk_comments, sv_comments])\n",
    "scandi_all = pd.concat([scandi, scandi_comments])"
   ]
  },
  {
   "cell_type": "code",
   "execution_count": 9,
   "id": "4dafcdcc",
   "metadata": {},
   "outputs": [],
   "source": [
    "all_countries.to_csv(\"all_countries.csv\")\n",
    "all_countries_comments.to_csv(\"all_comments.csv\")\n",
    "\n",
    "scandi.to_csv(\"scandi.csv\")\n",
    "scandi_comments.to_csv(\"scandi_comments.csv\")"
   ]
  },
  {
   "cell_type": "code",
   "execution_count": 7,
   "id": "d324fbab",
   "metadata": {},
   "outputs": [],
   "source": [
    "# compound for combined as well\n",
    "all = compound_column(all)\n",
    "all_countries = compound_column(all_countries)\n",
    "all_countries_comments = compound_column(all_countries_comments)\n",
    "\n",
    "scandi = compound_column(scandi)\n",
    "scandi_all = compound_column(scandi_all)\n",
    "scandi_comments = compound_column(scandi_comments)"
   ]
  },
  {
   "cell_type": "code",
   "execution_count": 20,
   "id": "448e00a8",
   "metadata": {},
   "outputs": [
    {
     "name": "stdout",
     "output_type": "stream",
     "text": [
      "-0.07235231095647796 0.49235543899855316\n"
     ]
    }
   ],
   "source": [
    "m = all_countries_comments['compound'].astype(float).mean()\n",
    "sd = all_countries_comments['compound'].astype(float).std()\n",
    "\n",
    "print(m, sd)"
   ]
  },
  {
   "cell_type": "code",
   "execution_count": 30,
   "id": "710f23c6",
   "metadata": {},
   "outputs": [
    {
     "name": "stdout",
     "output_type": "stream",
     "text": [
      "-0.2570800326441785 0.3972503635661702\n"
     ]
    }
   ],
   "source": [
    "# get means and sd for compound scores collected edition\n",
    "m = all_countries['compound'][all_countries['pro'] == 'ProR'].astype(float).mean()\n",
    "sd = all_countries['compound'][all_countries['pro'] == 'ProR'].astype(float).std()\n",
    "\n",
    "print(m, sd)"
   ]
  },
  {
   "cell_type": "code",
   "execution_count": 6,
   "id": "b1710511",
   "metadata": {},
   "outputs": [
    {
     "name": "stdout",
     "output_type": "stream",
     "text": [
      "['pl' 'fi' 'no' 'da' 'sv' 'it' 'de']\n"
     ]
    }
   ],
   "source": [
    "# pl = pd.read_csv(os.path.join('..','preprocessed','pl_df.csv'))\n",
    "\n",
    "len(all_countries['lang'].unique())\n",
    "print(all_countries['lang'].unique())\n",
    "# len(pl['text']) # 303"
   ]
  },
  {
   "cell_type": "code",
   "execution_count": 11,
   "id": "0f47665e",
   "metadata": {},
   "outputs": [
    {
     "data": {
      "text/html": [
       "<div>\n",
       "<style scoped>\n",
       "    .dataframe tbody tr th:only-of-type {\n",
       "        vertical-align: middle;\n",
       "    }\n",
       "\n",
       "    .dataframe tbody tr th {\n",
       "        vertical-align: top;\n",
       "    }\n",
       "\n",
       "    .dataframe thead th {\n",
       "        text-align: right;\n",
       "    }\n",
       "</style>\n",
       "<table border=\"1\" class=\"dataframe\">\n",
       "  <thead>\n",
       "    <tr style=\"text-align: right;\">\n",
       "      <th></th>\n",
       "      <th>Unnamed: 0</th>\n",
       "      <th>source</th>\n",
       "      <th>lang</th>\n",
       "      <th>id</th>\n",
       "      <th>entities</th>\n",
       "      <th>reply_settings</th>\n",
       "      <th>public_metrics</th>\n",
       "      <th>possibly_sensitive</th>\n",
       "      <th>conversation_id</th>\n",
       "      <th>author_id</th>\n",
       "      <th>...</th>\n",
       "      <th>created_at</th>\n",
       "      <th>errors</th>\n",
       "      <th>includes</th>\n",
       "      <th>RTcount</th>\n",
       "      <th>pro</th>\n",
       "      <th>text_clean</th>\n",
       "      <th>tweets_sent_all</th>\n",
       "      <th>tweets_sent_pos</th>\n",
       "      <th>tweets_sent_neg</th>\n",
       "      <th>tweets_sent_neu</th>\n",
       "    </tr>\n",
       "  </thead>\n",
       "  <tbody>\n",
       "    <tr>\n",
       "      <th>7</th>\n",
       "      <td>10</td>\n",
       "      <td>Twitter Web App</td>\n",
       "      <td>no</td>\n",
       "      <td>1509468870716895232</td>\n",
       "      <td>{'urls': [{'start': 67, 'end': 90, 'url': 'htt...</td>\n",
       "      <td>everyone</td>\n",
       "      <td>{'retweet_count': 0, 'reply_count': 0, 'like_c...</td>\n",
       "      <td>False</td>\n",
       "      <td>1509468870716895232</td>\n",
       "      <td>19923066</td>\n",
       "      <td>...</td>\n",
       "      <td>2022-03-31 09:53:18+00:00</td>\n",
       "      <td>[]</td>\n",
       "      <td>{'users': [{'public_metrics': {'followers_coun...</td>\n",
       "      <td>NaN</td>\n",
       "      <td>ProU</td>\n",
       "      <td>0        1     Krigens første offer er sannhet...</td>\n",
       "      <td>{'neg': 0.132, 'neu': 0.778, 'pos': 0.089, 'co...</td>\n",
       "      <td>0.089</td>\n",
       "      <td>0.132</td>\n",
       "      <td>0.778</td>\n",
       "    </tr>\n",
       "    <tr>\n",
       "      <th>8</th>\n",
       "      <td>11</td>\n",
       "      <td>Twitter Web App</td>\n",
       "      <td>no</td>\n",
       "      <td>1509446356246618112</td>\n",
       "      <td>{'urls': [{'start': 146, 'end': 169, 'url': 'h...</td>\n",
       "      <td>everyone</td>\n",
       "      <td>{'retweet_count': 11, 'reply_count': 5, 'like_...</td>\n",
       "      <td>False</td>\n",
       "      <td>1509446356246618112</td>\n",
       "      <td>840198864665772032</td>\n",
       "      <td>...</td>\n",
       "      <td>2022-03-31 08:23:50+00:00</td>\n",
       "      <td>[]</td>\n",
       "      <td>{'users': [{'public_metrics': {'followers_coun...</td>\n",
       "      <td>NaN</td>\n",
       "      <td>ProU</td>\n",
       "      <td>0        1     Krigens første offer er sannhet...</td>\n",
       "      <td>{'neg': 0.132, 'neu': 0.778, 'pos': 0.089, 'co...</td>\n",
       "      <td>0.089</td>\n",
       "      <td>0.132</td>\n",
       "      <td>0.778</td>\n",
       "    </tr>\n",
       "    <tr>\n",
       "      <th>9</th>\n",
       "      <td>12</td>\n",
       "      <td>Twitter Web App</td>\n",
       "      <td>no</td>\n",
       "      <td>1505791994265845760</td>\n",
       "      <td>{'mentions': [{'start': 24, 'end': 35, 'userna...</td>\n",
       "      <td>everyone</td>\n",
       "      <td>{'retweet_count': 0, 'reply_count': 1, 'like_c...</td>\n",
       "      <td>False</td>\n",
       "      <td>1505113113506598912</td>\n",
       "      <td>262230211</td>\n",
       "      <td>...</td>\n",
       "      <td>2022-03-21 06:22:42+00:00</td>\n",
       "      <td>[]</td>\n",
       "      <td>{'users': [{'username': 'kaeggen', 'protected'...</td>\n",
       "      <td>NaN</td>\n",
       "      <td>ProU</td>\n",
       "      <td>0        1     Krigens første offer er sannhet...</td>\n",
       "      <td>{'neg': 0.132, 'neu': 0.778, 'pos': 0.089, 'co...</td>\n",
       "      <td>0.089</td>\n",
       "      <td>0.132</td>\n",
       "      <td>0.778</td>\n",
       "    </tr>\n",
       "    <tr>\n",
       "      <th>10</th>\n",
       "      <td>13</td>\n",
       "      <td>Twitter Web App</td>\n",
       "      <td>no</td>\n",
       "      <td>1505099960349564928</td>\n",
       "      <td>{'urls': [{'start': 73, 'end': 96, 'url': 'htt...</td>\n",
       "      <td>everyone</td>\n",
       "      <td>{'retweet_count': 0, 'reply_count': 0, 'like_c...</td>\n",
       "      <td>False</td>\n",
       "      <td>1505099960349564928</td>\n",
       "      <td>90818945</td>\n",
       "      <td>...</td>\n",
       "      <td>2022-03-19 08:32:48+00:00</td>\n",
       "      <td>[]</td>\n",
       "      <td>{'users': [{'username': 'dagbnor', 'protected'...</td>\n",
       "      <td>NaN</td>\n",
       "      <td>ProU</td>\n",
       "      <td>0        1     Krigens første offer er sannhet...</td>\n",
       "      <td>{'neg': 0.132, 'neu': 0.778, 'pos': 0.089, 'co...</td>\n",
       "      <td>0.089</td>\n",
       "      <td>0.132</td>\n",
       "      <td>0.778</td>\n",
       "    </tr>\n",
       "    <tr>\n",
       "      <th>11</th>\n",
       "      <td>14</td>\n",
       "      <td>Twitter Web App</td>\n",
       "      <td>no</td>\n",
       "      <td>1505087309779288064</td>\n",
       "      <td>{'urls': [{'start': 171, 'end': 194, 'url': 'h...</td>\n",
       "      <td>everyone</td>\n",
       "      <td>{'retweet_count': 17, 'reply_count': 25, 'like...</td>\n",
       "      <td>False</td>\n",
       "      <td>1505087309779288064</td>\n",
       "      <td>840198864665772032</td>\n",
       "      <td>...</td>\n",
       "      <td>2022-03-19 07:42:32+00:00</td>\n",
       "      <td>[]</td>\n",
       "      <td>{'users': [{'username': 'faktisk_no', 'protect...</td>\n",
       "      <td>NaN</td>\n",
       "      <td>ProU</td>\n",
       "      <td>0        1     Krigens første offer er sannhet...</td>\n",
       "      <td>{'neg': 0.132, 'neu': 0.778, 'pos': 0.089, 'co...</td>\n",
       "      <td>0.089</td>\n",
       "      <td>0.132</td>\n",
       "      <td>0.778</td>\n",
       "    </tr>\n",
       "  </tbody>\n",
       "</table>\n",
       "<p>5 rows × 23 columns</p>\n",
       "</div>"
      ],
      "text/plain": [
       "    Unnamed: 0           source lang                   id  \\\n",
       "7           10  Twitter Web App   no  1509468870716895232   \n",
       "8           11  Twitter Web App   no  1509446356246618112   \n",
       "9           12  Twitter Web App   no  1505791994265845760   \n",
       "10          13  Twitter Web App   no  1505099960349564928   \n",
       "11          14  Twitter Web App   no  1505087309779288064   \n",
       "\n",
       "                                             entities reply_settings  \\\n",
       "7   {'urls': [{'start': 67, 'end': 90, 'url': 'htt...       everyone   \n",
       "8   {'urls': [{'start': 146, 'end': 169, 'url': 'h...       everyone   \n",
       "9   {'mentions': [{'start': 24, 'end': 35, 'userna...       everyone   \n",
       "10  {'urls': [{'start': 73, 'end': 96, 'url': 'htt...       everyone   \n",
       "11  {'urls': [{'start': 171, 'end': 194, 'url': 'h...       everyone   \n",
       "\n",
       "                                       public_metrics  possibly_sensitive  \\\n",
       "7   {'retweet_count': 0, 'reply_count': 0, 'like_c...               False   \n",
       "8   {'retweet_count': 11, 'reply_count': 5, 'like_...               False   \n",
       "9   {'retweet_count': 0, 'reply_count': 1, 'like_c...               False   \n",
       "10  {'retweet_count': 0, 'reply_count': 0, 'like_c...               False   \n",
       "11  {'retweet_count': 17, 'reply_count': 25, 'like...               False   \n",
       "\n",
       "        conversation_id           author_id  ...                 created_at  \\\n",
       "7   1509468870716895232            19923066  ...  2022-03-31 09:53:18+00:00   \n",
       "8   1509446356246618112  840198864665772032  ...  2022-03-31 08:23:50+00:00   \n",
       "9   1505113113506598912           262230211  ...  2022-03-21 06:22:42+00:00   \n",
       "10  1505099960349564928            90818945  ...  2022-03-19 08:32:48+00:00   \n",
       "11  1505087309779288064  840198864665772032  ...  2022-03-19 07:42:32+00:00   \n",
       "\n",
       "   errors                                           includes RTcount   pro  \\\n",
       "7      []  {'users': [{'public_metrics': {'followers_coun...     NaN  ProU   \n",
       "8      []  {'users': [{'public_metrics': {'followers_coun...     NaN  ProU   \n",
       "9      []  {'users': [{'username': 'kaeggen', 'protected'...     NaN  ProU   \n",
       "10     []  {'users': [{'username': 'dagbnor', 'protected'...     NaN  ProU   \n",
       "11     []  {'users': [{'username': 'faktisk_no', 'protect...     NaN  ProU   \n",
       "\n",
       "                                           text_clean  \\\n",
       "7   0        1     Krigens første offer er sannhet...   \n",
       "8   0        1     Krigens første offer er sannhet...   \n",
       "9   0        1     Krigens første offer er sannhet...   \n",
       "10  0        1     Krigens første offer er sannhet...   \n",
       "11  0        1     Krigens første offer er sannhet...   \n",
       "\n",
       "                                      tweets_sent_all tweets_sent_pos  \\\n",
       "7   {'neg': 0.132, 'neu': 0.778, 'pos': 0.089, 'co...           0.089   \n",
       "8   {'neg': 0.132, 'neu': 0.778, 'pos': 0.089, 'co...           0.089   \n",
       "9   {'neg': 0.132, 'neu': 0.778, 'pos': 0.089, 'co...           0.089   \n",
       "10  {'neg': 0.132, 'neu': 0.778, 'pos': 0.089, 'co...           0.089   \n",
       "11  {'neg': 0.132, 'neu': 0.778, 'pos': 0.089, 'co...           0.089   \n",
       "\n",
       "   tweets_sent_neg tweets_sent_neu  \n",
       "7            0.132           0.778  \n",
       "8            0.132           0.778  \n",
       "9            0.132           0.778  \n",
       "10           0.132           0.778  \n",
       "11           0.132           0.778  \n",
       "\n",
       "[5 rows x 23 columns]"
      ]
     },
     "execution_count": 11,
     "metadata": {},
     "output_type": "execute_result"
    }
   ],
   "source": [
    "no2.tail()"
   ]
  },
  {
   "cell_type": "code",
   "execution_count": 10,
   "id": "2ec30fb9",
   "metadata": {},
   "outputs": [
    {
     "data": {
      "text/html": [
       "<div>\n",
       "<style scoped>\n",
       "    .dataframe tbody tr th:only-of-type {\n",
       "        vertical-align: middle;\n",
       "    }\n",
       "\n",
       "    .dataframe tbody tr th {\n",
       "        vertical-align: top;\n",
       "    }\n",
       "\n",
       "    .dataframe thead th {\n",
       "        text-align: right;\n",
       "    }\n",
       "</style>\n",
       "<table border=\"1\" class=\"dataframe\">\n",
       "  <thead>\n",
       "    <tr style=\"text-align: right;\">\n",
       "      <th></th>\n",
       "      <th>Unnamed: 0</th>\n",
       "      <th>id</th>\n",
       "      <th>created_at</th>\n",
       "      <th>in_reply_to_user_id</th>\n",
       "      <th>public_metrics</th>\n",
       "      <th>edit_history_tweet_ids</th>\n",
       "      <th>text</th>\n",
       "      <th>possibly_sensitive</th>\n",
       "      <th>source</th>\n",
       "      <th>entities</th>\n",
       "      <th>...</th>\n",
       "      <th>errors</th>\n",
       "      <th>includes</th>\n",
       "      <th>attachments</th>\n",
       "      <th>pro</th>\n",
       "      <th>geo</th>\n",
       "      <th>text_clean</th>\n",
       "      <th>tweets_sent_all</th>\n",
       "      <th>tweets_sent_pos</th>\n",
       "      <th>tweets_sent_neg</th>\n",
       "      <th>tweets_sent_neu</th>\n",
       "    </tr>\n",
       "  </thead>\n",
       "  <tbody>\n",
       "    <tr>\n",
       "      <th>0</th>\n",
       "      <td>0</td>\n",
       "      <td>1498745051769458690</td>\n",
       "      <td>2022-03-01T19:40:40.000Z</td>\n",
       "      <td>840198864665772032</td>\n",
       "      <td>{'retweet_count': 0, 'reply_count': 0, 'like_c...</td>\n",
       "      <td>['1498745051769458690']</td>\n",
       "      <td>@faktisk_no Håper dere gjør mye av dette. Det ...</td>\n",
       "      <td>False</td>\n",
       "      <td>Twitter Web App</td>\n",
       "      <td>{'mentions': [{'start': 0, 'end': 11, 'usernam...</td>\n",
       "      <td>...</td>\n",
       "      <td>[]</td>\n",
       "      <td>{'users': [{'public_metrics': {'followers_coun...</td>\n",
       "      <td>NaN</td>\n",
       "      <td>ProR</td>\n",
       "      <td>NaN</td>\n",
       "      <td>Håper dere gjør mye av dette. Det er helt eks...</td>\n",
       "      <td>{'neg': 0.034, 'neu': 0.905, 'pos': 0.061, 'co...</td>\n",
       "      <td>0.061</td>\n",
       "      <td>0.034</td>\n",
       "      <td>0.905</td>\n",
       "    </tr>\n",
       "    <tr>\n",
       "      <th>1</th>\n",
       "      <td>1</td>\n",
       "      <td>1507991169803984898</td>\n",
       "      <td>2022-03-27T08:01:26.000Z</td>\n",
       "      <td>36307732</td>\n",
       "      <td>{'retweet_count': 0, 'reply_count': 0, 'like_c...</td>\n",
       "      <td>['1507991169803984898']</td>\n",
       "      <td>@kjetilba …og i vanlige tider, når også endel ...</td>\n",
       "      <td>False</td>\n",
       "      <td>Twitter Web App</td>\n",
       "      <td>{'mentions': [{'start': 0, 'end': 9, 'username...</td>\n",
       "      <td>...</td>\n",
       "      <td>[]</td>\n",
       "      <td>{'users': [{'id': '306280226', 'profile_image_...</td>\n",
       "      <td>NaN</td>\n",
       "      <td>ProR</td>\n",
       "      <td>NaN</td>\n",
       "      <td>…og i vanlige tider, når også endel dritt skj...</td>\n",
       "      <td>{'neg': 0.129, 'neu': 0.804, 'pos': 0.068, 'co...</td>\n",
       "      <td>0.068</td>\n",
       "      <td>0.129</td>\n",
       "      <td>0.804</td>\n",
       "    </tr>\n",
       "    <tr>\n",
       "      <th>2</th>\n",
       "      <td>2</td>\n",
       "      <td>1507796964318093317</td>\n",
       "      <td>2022-03-26T19:09:44.000Z</td>\n",
       "      <td>36307732</td>\n",
       "      <td>{'retweet_count': 0, 'reply_count': 0, 'like_c...</td>\n",
       "      <td>['1507796964318093317']</td>\n",
       "      <td>@kjetilba For en klovne tweet av verste sort!</td>\n",
       "      <td>False</td>\n",
       "      <td>Twitter for Android</td>\n",
       "      <td>{'mentions': [{'start': 0, 'end': 9, 'username...</td>\n",
       "      <td>...</td>\n",
       "      <td>[]</td>\n",
       "      <td>{'users': [{'id': '372467774', 'profile_image_...</td>\n",
       "      <td>NaN</td>\n",
       "      <td>ProR</td>\n",
       "      <td>NaN</td>\n",
       "      <td>For en klovne tweet av verste sort!</td>\n",
       "      <td>{'neg': 0.318, 'neu': 0.435, 'pos': 0.247, 'co...</td>\n",
       "      <td>0.247</td>\n",
       "      <td>0.318</td>\n",
       "      <td>0.435</td>\n",
       "    </tr>\n",
       "    <tr>\n",
       "      <th>3</th>\n",
       "      <td>3</td>\n",
       "      <td>1504723761282572316</td>\n",
       "      <td>2022-03-18T07:37:55.000Z</td>\n",
       "      <td>36307732</td>\n",
       "      <td>{'retweet_count': 0, 'reply_count': 0, 'like_c...</td>\n",
       "      <td>['1504723761282572316']</td>\n",
       "      <td>@kjetilba Hennes deltagelse i Kompani Lauritse...</td>\n",
       "      <td>False</td>\n",
       "      <td>Twitter Web App</td>\n",
       "      <td>{'mentions': [{'start': 0, 'end': 9, 'username...</td>\n",
       "      <td>...</td>\n",
       "      <td>[]</td>\n",
       "      <td>{'users': [{'id': '926383165278773248', 'profi...</td>\n",
       "      <td>NaN</td>\n",
       "      <td>ProR</td>\n",
       "      <td>NaN</td>\n",
       "      <td>Hennes deltagelse i Kompani Lauritsen har for...</td>\n",
       "      <td>{'neg': 0.18, 'neu': 0.598, 'pos': 0.222, 'com...</td>\n",
       "      <td>0.222</td>\n",
       "      <td>0.180</td>\n",
       "      <td>0.598</td>\n",
       "    </tr>\n",
       "    <tr>\n",
       "      <th>4</th>\n",
       "      <td>4</td>\n",
       "      <td>1503707959410495493</td>\n",
       "      <td>2022-03-15T12:21:29.000Z</td>\n",
       "      <td>44972313</td>\n",
       "      <td>{'retweet_count': 0, 'reply_count': 0, 'like_c...</td>\n",
       "      <td>['1503707959410495493']</td>\n",
       "      <td>@tonemf @kjetilba Jeg mener det er MER passend...</td>\n",
       "      <td>False</td>\n",
       "      <td>Twitter for Android</td>\n",
       "      <td>{'mentions': [{'start': 0, 'end': 7, 'username...</td>\n",
       "      <td>...</td>\n",
       "      <td>[]</td>\n",
       "      <td>{'users': [{'id': '1240254594313342978', 'prof...</td>\n",
       "      <td>NaN</td>\n",
       "      <td>ProR</td>\n",
       "      <td>NaN</td>\n",
       "      <td>Jeg mener det er MER passende å sende det nå...</td>\n",
       "      <td>{'neg': 0.0, 'neu': 0.887, 'pos': 0.113, 'comp...</td>\n",
       "      <td>0.113</td>\n",
       "      <td>0.000</td>\n",
       "      <td>0.887</td>\n",
       "    </tr>\n",
       "  </tbody>\n",
       "</table>\n",
       "<p>5 rows × 25 columns</p>\n",
       "</div>"
      ],
      "text/plain": [
       "   Unnamed: 0                   id                created_at  \\\n",
       "0           0  1498745051769458690  2022-03-01T19:40:40.000Z   \n",
       "1           1  1507991169803984898  2022-03-27T08:01:26.000Z   \n",
       "2           2  1507796964318093317  2022-03-26T19:09:44.000Z   \n",
       "3           3  1504723761282572316  2022-03-18T07:37:55.000Z   \n",
       "4           4  1503707959410495493  2022-03-15T12:21:29.000Z   \n",
       "\n",
       "   in_reply_to_user_id                                     public_metrics  \\\n",
       "0   840198864665772032  {'retweet_count': 0, 'reply_count': 0, 'like_c...   \n",
       "1             36307732  {'retweet_count': 0, 'reply_count': 0, 'like_c...   \n",
       "2             36307732  {'retweet_count': 0, 'reply_count': 0, 'like_c...   \n",
       "3             36307732  {'retweet_count': 0, 'reply_count': 0, 'like_c...   \n",
       "4             44972313  {'retweet_count': 0, 'reply_count': 0, 'like_c...   \n",
       "\n",
       "    edit_history_tweet_ids                                               text  \\\n",
       "0  ['1498745051769458690']  @faktisk_no Håper dere gjør mye av dette. Det ...   \n",
       "1  ['1507991169803984898']  @kjetilba …og i vanlige tider, når også endel ...   \n",
       "2  ['1507796964318093317']      @kjetilba For en klovne tweet av verste sort!   \n",
       "3  ['1504723761282572316']  @kjetilba Hennes deltagelse i Kompani Lauritse...   \n",
       "4  ['1503707959410495493']  @tonemf @kjetilba Jeg mener det er MER passend...   \n",
       "\n",
       "   possibly_sensitive               source  \\\n",
       "0               False      Twitter Web App   \n",
       "1               False      Twitter Web App   \n",
       "2               False  Twitter for Android   \n",
       "3               False      Twitter Web App   \n",
       "4               False  Twitter for Android   \n",
       "\n",
       "                                            entities  ...  errors  \\\n",
       "0  {'mentions': [{'start': 0, 'end': 11, 'usernam...  ...      []   \n",
       "1  {'mentions': [{'start': 0, 'end': 9, 'username...  ...      []   \n",
       "2  {'mentions': [{'start': 0, 'end': 9, 'username...  ...      []   \n",
       "3  {'mentions': [{'start': 0, 'end': 9, 'username...  ...      []   \n",
       "4  {'mentions': [{'start': 0, 'end': 7, 'username...  ...      []   \n",
       "\n",
       "                                            includes  attachments   pro  geo  \\\n",
       "0  {'users': [{'public_metrics': {'followers_coun...          NaN  ProR  NaN   \n",
       "1  {'users': [{'id': '306280226', 'profile_image_...          NaN  ProR  NaN   \n",
       "2  {'users': [{'id': '372467774', 'profile_image_...          NaN  ProR  NaN   \n",
       "3  {'users': [{'id': '926383165278773248', 'profi...          NaN  ProR  NaN   \n",
       "4  {'users': [{'id': '1240254594313342978', 'prof...          NaN  ProR  NaN   \n",
       "\n",
       "                                          text_clean  \\\n",
       "0   Håper dere gjør mye av dette. Det er helt eks...   \n",
       "1   …og i vanlige tider, når også endel dritt skj...   \n",
       "2                For en klovne tweet av verste sort!   \n",
       "3   Hennes deltagelse i Kompani Lauritsen har for...   \n",
       "4    Jeg mener det er MER passende å sende det nå...   \n",
       "\n",
       "                                     tweets_sent_all tweets_sent_pos  \\\n",
       "0  {'neg': 0.034, 'neu': 0.905, 'pos': 0.061, 'co...           0.061   \n",
       "1  {'neg': 0.129, 'neu': 0.804, 'pos': 0.068, 'co...           0.068   \n",
       "2  {'neg': 0.318, 'neu': 0.435, 'pos': 0.247, 'co...           0.247   \n",
       "3  {'neg': 0.18, 'neu': 0.598, 'pos': 0.222, 'com...           0.222   \n",
       "4  {'neg': 0.0, 'neu': 0.887, 'pos': 0.113, 'comp...           0.113   \n",
       "\n",
       "  tweets_sent_neg tweets_sent_neu  \n",
       "0           0.034           0.905  \n",
       "1           0.129           0.804  \n",
       "2           0.318           0.435  \n",
       "3           0.180           0.598  \n",
       "4           0.000           0.887  \n",
       "\n",
       "[5 rows x 25 columns]"
      ]
     },
     "execution_count": 10,
     "metadata": {},
     "output_type": "execute_result"
    }
   ],
   "source": [
    "no_comments.head()"
   ]
  },
  {
   "cell_type": "code",
   "execution_count": 6,
   "id": "fdedd4dc",
   "metadata": {},
   "outputs": [
    {
     "data": {
      "text/plain": [
       "31559"
      ]
     },
     "execution_count": 6,
     "metadata": {},
     "output_type": "execute_result"
    }
   ],
   "source": [
    "# summarizing stats\n",
    "len(de_comments[de_comments['pro'] == 'ProU']) # 31559\n",
    "len(de_comments[de_comments['pro'] == 'ProR']) # 5588\n"
   ]
  },
  {
   "cell_type": "code",
   "execution_count": 10,
   "id": "4f2fb8a7",
   "metadata": {},
   "outputs": [],
   "source": [
    "# all languages in one\n",
    "df_list = [pl, fi, no, dk, sv, it, de]\n",
    "df_all = pd.concat(df_list, ignore_index=True)\n",
    "\n",
    "# scandinavian (nordic) languages\n",
    "scand_list = [fi, no, dk, sv]\n",
    "df_scand = pd.concat(scand_list, ignore_index=True)"
   ]
  },
  {
   "cell_type": "code",
   "execution_count": 11,
   "id": "00014fe8",
   "metadata": {},
   "outputs": [
    {
     "data": {
      "text/plain": [
       "MannwhitneyuResult(statistic=5921498.5, pvalue=5.009900479665327e-54)"
      ]
     },
     "execution_count": 11,
     "metadata": {},
     "output_type": "execute_result"
    }
   ],
   "source": [
    "x = df_all['tweets_sent_neg'][df_all['pro'] == 'ProR']\n",
    "y = df_all['tweets_sent_neg'][df_all['pro'] == 'ProU']\n",
    "\n",
    "scipy.stats.mannwhitneyu(x, y)"
   ]
  },
  {
   "cell_type": "code",
   "execution_count": 13,
   "id": "2f8680e2",
   "metadata": {},
   "outputs": [
    {
     "data": {
      "text/plain": [
       "MannwhitneyuResult(statistic=996940.5, pvalue=0.0083216130304692)"
      ]
     },
     "execution_count": 13,
     "metadata": {},
     "output_type": "execute_result"
    }
   ],
   "source": [
    "# try robust tests\n",
    "\n",
    "scipy.stats.mannwhitneyu(pl['tweets_sent_neg'][pl['pro'] == 'ProR'], pl['tweets_sent_neg'][pl['pro'] == 'ProU'])\n",
    "scipy.stats.mannwhitneyu(dk['tweets_sent_neg'][dk['pro'] == 'ProR'], dk['tweets_sent_neg'][dk['pro'] == 'ProU'])\n",
    "scipy.stats.mannwhitneyu(no['tweets_sent_neg'][no['pro'] == 'ProR'], no['tweets_sent_neg'][no['pro'] == 'ProU'])\n",
    "scipy.stats.mannwhitneyu(fi['tweets_sent_neg'][fi['pro'] == 'ProR'], fi['tweets_sent_neg'][fi['pro'] == 'ProU'])\n",
    "scipy.stats.mannwhitneyu(sv['tweets_sent_neg'][sv['pro'] == 'ProR'], sv['tweets_sent_neg'][sv['pro'] == 'ProU'])\n",
    "scipy.stats.mannwhitneyu(it['tweets_sent_neg'][it['pro'] == 'ProR'], it['tweets_sent_neg'][it['pro'] == 'ProU'])\n",
    "scipy.stats.mannwhitneyu(de['tweets_sent_neg'][de['pro'] == 'ProR'], de['tweets_sent_neg'][de['pro'] == 'ProU'])"
   ]
  },
  {
   "cell_type": "code",
   "execution_count": 35,
   "id": "ea253818",
   "metadata": {},
   "outputs": [],
   "source": [
    "# sns.displot(df_all, x=\"tweets_sent_neg\", hue=\"lang\")"
   ]
  },
  {
   "cell_type": "code",
   "execution_count": 34,
   "id": "9c409a38",
   "metadata": {},
   "outputs": [],
   "source": [
    "# import numpy as np\n",
    "# import matplotlib.pyplot as plt\n",
    "\n",
    "# #make this example reproducible\n",
    "# np.random.seed(0)\n",
    "\n",
    "# #log\n",
    "# df_all['SQRtweets_sent_neg'] = np.cbrt(df_all['tweets_sent_neg'])\n",
    "\n",
    "# #define grid of plots\n",
    "# fig, axs = plt.subplots(nrows=1, ncols=2)\n",
    "\n",
    "# #create histograms\n",
    "# axs[0].hist(df_all['tweets_sent_neg'], edgecolor='black')\n",
    "# axs[1].hist(df_all['SQRtweets_sent_neg'], edgecolor='black')\n",
    "\n",
    "# #add title to each histogram\n",
    "# axs[0].set_title('Original Data')\n",
    "# axs[1].set_title('SQR-Transformed Data')"
   ]
  },
  {
   "cell_type": "markdown",
   "id": "965c87e6",
   "metadata": {},
   "source": [
    "## pooled"
   ]
  },
  {
   "cell_type": "code",
   "execution_count": 14,
   "id": "667e897c",
   "metadata": {},
   "outputs": [
    {
     "name": "stdout",
     "output_type": "stream",
     "text": [
      "   Variable       N      Mean        SD        SE  95% Conf.  Interval\n",
      "0      proR  5517.0  0.018769  0.065900  0.000887   0.017029  0.020508\n",
      "1      proU  1762.0  0.012146  0.055151  0.001314   0.009570  0.014723\n",
      "2  combined  7279.0  0.017166  0.063525  0.000745   0.015706  0.018625\n",
      "------\n",
      "            Independent t-test    results\n",
      "0  Difference (proR - proU) =      0.0066\n",
      "1        Degrees of freedom =   7277.0000\n",
      "2                         t =      3.8132\n",
      "3     Two side test p value =      0.0001\n",
      "4    Difference < 0 p value =      0.9999\n",
      "5    Difference > 0 p value =      0.0001\n",
      "6                 Cohen's d =      0.1043\n",
      "7                 Hedge's g =      0.1043\n",
      "8            Glass's delta1 =      0.1005\n",
      "9          Point-Biserial r =      0.0447\n"
     ]
    },
    {
     "name": "stderr",
     "output_type": "stream",
     "text": [
      "/home/coder/.local/lib/python3.9/site-packages/researchpy/ttest.py:38: FutureWarning: The series.append method is deprecated and will be removed from pandas in a future version. Use pandas.concat instead.\n",
      "  groups = group1.append(group2, ignore_index= True)\n"
     ]
    }
   ],
   "source": [
    "# t-test: difference in positive sentiment scores\n",
    "summary, results = rp.ttest(group1= df_all['tweets_sent_pos'][df_all['pro'] == 'ProR'], group1_name= \"proR\",\n",
    "                            group2= df_all['tweets_sent_pos'][df_all['pro'] == 'ProU'], group2_name= \"proU\")\n",
    "\n",
    "print(summary)\n",
    "print('------')\n",
    "print(results)\n",
    "\n",
    "# the mean positive sentiment score for proR, M= 0.0000 (NaN, NaN), does not statistically differ from proU, M= 0.0088 (0.0054, 0.0122); t(911)= -1.1610, p > 0.05."
   ]
  },
  {
   "cell_type": "code",
   "execution_count": 12,
   "id": "72d1b83c",
   "metadata": {},
   "outputs": [
    {
     "name": "stdout",
     "output_type": "stream",
     "text": [
      "   Variable      N      Mean        SD        SE  95% Conf.  Interval\n",
      "0      proR   45.0  0.029667  0.088471  0.013189   0.003087  0.056246\n",
      "1      proU  868.0  0.029408  0.086348  0.002931   0.023655  0.035160\n",
      "2  combined  913.0  0.029421  0.086404  0.002860   0.023809  0.035033\n",
      "------\n",
      "            Independent t-test   results\n",
      "0  Difference (proR - proU) =     0.0003\n",
      "1        Degrees of freedom =   911.0000\n",
      "2                         t =     0.0196\n",
      "3     Two side test p value =     0.9844\n",
      "4    Difference < 0 p value =     0.5078\n",
      "5    Difference > 0 p value =     0.4922\n",
      "6                 Cohen's d =     0.0030\n",
      "7                 Hedge's g =     0.0030\n",
      "8            Glass's delta1 =     0.0029\n",
      "9          Point-Biserial r =     0.0006\n"
     ]
    },
    {
     "name": "stderr",
     "output_type": "stream",
     "text": [
      "/home/coder/.local/lib/python3.9/site-packages/researchpy/ttest.py:38: FutureWarning: The series.append method is deprecated and will be removed from pandas in a future version. Use pandas.concat instead.\n",
      "  groups = group1.append(group2, ignore_index= True)\n"
     ]
    }
   ],
   "source": [
    "# t-test: difference in negative sentiment scores\n",
    "summary, results = rp.ttest(group1= df_all['tweets_sent_neg'][df_all['pro'] == 'ProR'], group1_name= \"proR\",\n",
    "                            group2= df_all['tweets_sent_neg'][df_all['pro'] == 'ProU'], group2_name= \"proU\")\n",
    "\n",
    "print(summary)\n",
    "print('------')\n",
    "print(results)\n",
    "\n",
    "# the mean negative sentiment score for proR, M= 0.0297 (0.0031, 0.0562), does not statistically differ from proU, M= 0.0294 (0.0237, 0.0352); t(911)= 0.0196, p > 0.05."
   ]
  },
  {
   "cell_type": "markdown",
   "id": "df3947b9",
   "metadata": {},
   "source": [
    "## Scandinavian"
   ]
  },
  {
   "cell_type": "code",
   "execution_count": 39,
   "id": "78eb3f12",
   "metadata": {},
   "outputs": [
    {
     "name": "stdout",
     "output_type": "stream",
     "text": [
      "   Variable     N  Mean   SD   SE  95% Conf.  Interval\n",
      "0      proR   8.0   0.0  0.0  0.0        NaN       NaN\n",
      "1      proU  58.0   0.0  0.0  0.0        NaN       NaN\n",
      "2  combined  66.0   0.0  0.0  0.0        NaN       NaN\n",
      "------\n",
      "            Independent t-test  results\n",
      "0  Difference (proR - proU) =       0.0\n",
      "1        Degrees of freedom =      64.0\n",
      "2                         t =       NaN\n",
      "3     Two side test p value =       NaN\n",
      "4    Difference < 0 p value =       NaN\n",
      "5    Difference > 0 p value =       NaN\n",
      "6                 Cohen's d =       NaN\n",
      "7                 Hedge's g =       NaN\n",
      "8            Glass's delta1 =       NaN\n",
      "9          Point-Biserial r =       NaN\n"
     ]
    },
    {
     "name": "stderr",
     "output_type": "stream",
     "text": [
      "/home/coder/.local/lib/python3.9/site-packages/researchpy/ttest.py:38: FutureWarning: The series.append method is deprecated and will be removed from pandas in a future version. Use pandas.concat instead.\n",
      "  groups = group1.append(group2, ignore_index= True)\n",
      "/home/coder/.local/lib/python3.9/site-packages/researchpy/ttest.py:59: RuntimeWarning: invalid value encountered in double_scalars\n",
      "  d = (group1.mean() - group2.mean()) / numpy.sqrt(((group1.count() - 1) * group1.std()**2 + (group2.count() - 1) * group2.std()**2) / (group1.count() + group2.count() - 2))\n",
      "/home/coder/.local/lib/python3.9/site-packages/researchpy/ttest.py:63: RuntimeWarning: invalid value encountered in double_scalars\n",
      "  cles = 0 - abs(group1.mean() - group2.mean()) / numpy.sqrt(group1.var() + group2.var())\n",
      "/home/coder/.local/lib/python3.9/site-packages/researchpy/ttest.py:70: RuntimeWarning: invalid value encountered in double_scalars\n",
      "  delta = (group1.mean() - group2.mean()) / group1.std()\n",
      "/home/coder/.local/lib/python3.9/site-packages/scipy/stats/_distn_infrastructure.py:2162: RuntimeWarning: invalid value encountered in multiply\n",
      "  lower_bound = _a * scale + loc\n",
      "/home/coder/.local/lib/python3.9/site-packages/scipy/stats/_distn_infrastructure.py:2163: RuntimeWarning: invalid value encountered in multiply\n",
      "  upper_bound = _b * scale + loc\n"
     ]
    }
   ],
   "source": [
    "# t-test: difference in positive sentiment scores\n",
    "summary, results = rp.ttest(group1= df_scand['tweets_sent_pos'][df_scand['pro'] == 'ProR'], group1_name= \"proR\",\n",
    "                            group2= df_scand['tweets_sent_pos'][df_scand['pro'] == 'ProU'], group2_name= \"proU\")\n",
    "\n",
    "print(summary)\n",
    "print('------')\n",
    "print(results)\n",
    "\n",
    "# only tweets with pos score of 0"
   ]
  },
  {
   "cell_type": "code",
   "execution_count": 40,
   "id": "3bcad637",
   "metadata": {},
   "outputs": [
    {
     "name": "stdout",
     "output_type": "stream",
     "text": [
      "   Variable     N      Mean        SD        SE  95% Conf.  Interval\n",
      "0      proR   8.0  0.040750  0.078003  0.027578  -0.024462  0.105962\n",
      "1      proU  58.0  0.020121  0.056890  0.007470   0.005162  0.035079\n",
      "2  combined  66.0  0.022621  0.059493  0.007323   0.007996  0.037246\n",
      "------\n",
      "            Independent t-test  results\n",
      "0  Difference (proR - proU) =    0.0206\n",
      "1        Degrees of freedom =   64.0000\n",
      "2                         t =    0.9183\n",
      "3     Two side test p value =    0.3619\n",
      "4    Difference < 0 p value =    0.8190\n",
      "5    Difference > 0 p value =    0.1810\n",
      "6                 Cohen's d =    0.3463\n",
      "7                 Hedge's g =    0.3423\n",
      "8            Glass's delta1 =    0.2645\n",
      "9          Point-Biserial r =    0.1140\n"
     ]
    },
    {
     "name": "stderr",
     "output_type": "stream",
     "text": [
      "/home/coder/.local/lib/python3.9/site-packages/researchpy/ttest.py:38: FutureWarning: The series.append method is deprecated and will be removed from pandas in a future version. Use pandas.concat instead.\n",
      "  groups = group1.append(group2, ignore_index= True)\n"
     ]
    }
   ],
   "source": [
    "# t-test: difference in negative sentiment scores\n",
    "summary, results = rp.ttest(group1= df_scand['tweets_sent_neg'][df_scand['pro'] == 'ProR'], group1_name= \"proR\",\n",
    "                            group2= df_scand['tweets_sent_neg'][df_scand['pro'] == 'ProU'], group2_name= \"proU\")\n",
    "\n",
    "print(summary)\n",
    "print('------')\n",
    "print(results)\n",
    "\n",
    "# the mean negative sentiment score for proR, M= 0.0408 (-0.0245, 0.1060), does not statistically differ from proU, M= 0.0201 (0.0052, 0.0351); t(64)= 0.9183, p > 0.05."
   ]
  },
  {
   "cell_type": "markdown",
   "id": "67834041",
   "metadata": {},
   "source": [
    "## German"
   ]
  },
  {
   "cell_type": "code",
   "execution_count": 8,
   "id": "b24a026f",
   "metadata": {},
   "outputs": [
    {
     "name": "stdout",
     "output_type": "stream",
     "text": [
      "   Variable       N      Mean        SD        SE  95% Conf.  Interval\n",
      "0      proR  5391.0  0.018798  0.066091  0.000900   0.017033  0.020562\n",
      "1      proU   399.0  0.005536  0.029780  0.001491   0.002605  0.008467\n",
      "2  combined  5790.0  0.017884  0.064337  0.000846   0.016226  0.019541\n",
      "------\n",
      "            Independent t-test    results\n",
      "0  Difference (proR - proU) =      0.0133\n",
      "1        Degrees of freedom =   5788.0000\n",
      "2                         t =      3.9781\n",
      "3     Two side test p value =      0.0001\n",
      "4    Difference < 0 p value =      1.0000\n",
      "5    Difference > 0 p value =      0.0000\n",
      "6                 Cohen's d =      0.2064\n",
      "7                 Hedge's g =      0.2064\n",
      "8            Glass's delta1 =      0.2007\n",
      "9          Point-Biserial r =      0.0522\n"
     ]
    },
    {
     "name": "stderr",
     "output_type": "stream",
     "text": [
      "/home/coder/.local/lib/python3.9/site-packages/researchpy/ttest.py:38: FutureWarning: The series.append method is deprecated and will be removed from pandas in a future version. Use pandas.concat instead.\n",
      "  groups = group1.append(group2, ignore_index= True)\n"
     ]
    }
   ],
   "source": [
    "# t-test: difference in positive sentiment scores\n",
    "summary, results = rp.ttest(group1= de['tweets_sent_pos'][de['pro'] == 'ProR'], group1_name= \"proR\",\n",
    "                            group2= de['tweets_sent_pos'][de['pro'] == 'ProU'], group2_name= \"proU\")\n",
    "\n",
    "print(summary)\n",
    "print('------')\n",
    "print(results)\n",
    "\n",
    "# the mean positive sentiment score for proR, M= 0.0188 (0.0171, 0.0206), statistically differs from proU, M= 0.0055 (0.0026, 0.0085); t(5788)= 3.9781, p < 0.001."
   ]
  },
  {
   "cell_type": "code",
   "execution_count": 9,
   "id": "110373df",
   "metadata": {},
   "outputs": [
    {
     "name": "stdout",
     "output_type": "stream",
     "text": [
      "   Variable       N      Mean        SD        SE  95% Conf.  Interval\n",
      "0      proR  5391.0  0.101860  0.132946  0.001811   0.098310  0.105409\n",
      "1      proU   399.0  0.117466  0.136586  0.006838   0.104023  0.130909\n",
      "2  combined  5790.0  0.102935  0.133246  0.001751   0.099502  0.106368\n",
      "------\n",
      "            Independent t-test    results\n",
      "0  Difference (proR - proU) =     -0.0156\n",
      "1        Degrees of freedom =   5788.0000\n",
      "2                         t =     -2.2583\n",
      "3     Two side test p value =      0.0240\n",
      "4    Difference < 0 p value =      0.0120\n",
      "5    Difference > 0 p value =      0.9880\n",
      "6                 Cohen's d =     -0.1172\n",
      "7                 Hedge's g =     -0.1172\n",
      "8            Glass's delta1 =     -0.1174\n",
      "9          Point-Biserial r =     -0.0297\n"
     ]
    },
    {
     "name": "stderr",
     "output_type": "stream",
     "text": [
      "/home/coder/.local/lib/python3.9/site-packages/researchpy/ttest.py:38: FutureWarning: The series.append method is deprecated and will be removed from pandas in a future version. Use pandas.concat instead.\n",
      "  groups = group1.append(group2, ignore_index= True)\n"
     ]
    }
   ],
   "source": [
    "# t-test: difference in negative sentiment scores\n",
    "summary, results = rp.ttest(group1= de['tweets_sent_neg'][de['pro'] == 'ProR'], group1_name= \"proR\",\n",
    "                            group2= de['tweets_sent_neg'][de['pro'] == 'ProU'], group2_name= \"proU\")\n",
    "\n",
    "print(summary)\n",
    "print('------')\n",
    "print(results)\n",
    "\n",
    "# the mean negative sentiment score for proR, M= 0.1019 (0.0983, 0.1054), statistically differs from proU, M= 0.1175 (0.1040, 0.1309); t(5788)= -2.2583, p < 0.05"
   ]
  },
  {
   "cell_type": "code",
   "execution_count": 34,
   "id": "6b7a69d2",
   "metadata": {},
   "outputs": [
    {
     "name": "stdout",
     "output_type": "stream",
     "text": [
      "   Variable       N      Mean        SD        SE  95% Conf.  Interval\n",
      "0      proR  5391.0 -0.262676  0.396743  0.005403  -0.273269 -0.252083\n",
      "1      proU   399.0 -0.313853  0.353756  0.017710  -0.348670 -0.279036\n",
      "2  combined  5790.0 -0.266203  0.394117  0.005179  -0.276357 -0.256049\n",
      "------\n",
      "            Independent t-test    results\n",
      "0  Difference (proR - proU) =      0.0512\n",
      "1        Degrees of freedom =   5788.0000\n",
      "2                         t =      2.5039\n",
      "3     Two side test p value =      0.0123\n",
      "4    Difference < 0 p value =      0.9938\n",
      "5    Difference > 0 p value =      0.0062\n",
      "6                 Cohen's d =      0.1299\n",
      "7                 Hedge's g =      0.1299\n",
      "8            Glass's delta1 =      0.1290\n",
      "9          Point-Biserial r =      0.0329\n"
     ]
    },
    {
     "name": "stderr",
     "output_type": "stream",
     "text": [
      "/home/coder/.local/lib/python3.9/site-packages/researchpy/ttest.py:38: FutureWarning: The series.append method is deprecated and will be removed from pandas in a future version. Use pandas.concat instead.\n",
      "  groups = group1.append(group2, ignore_index= True)\n"
     ]
    }
   ],
   "source": [
    "# t-test: difference in compound scores\n",
    "summary, results = rp.ttest(group1= de['compound'][de['pro'] == 'ProR'].astype(float), group1_name= \"proR\",\n",
    "                            group2= de['compound'][de['pro'] == 'ProU'].astype(float), group2_name= \"proU\")\n",
    "\n",
    "print(summary)\n",
    "print('------')\n",
    "print(results)\n",
    "\n",
    "# the mean compound score for proR, M= -0.2627 (-0.2733, -0.2521), statistically differs from proU, M= -0.3139 (-0.3487, -0.2790); t(5788)= 2.5039, p < 0.05"
   ]
  },
  {
   "cell_type": "markdown",
   "id": "b0cb03f4",
   "metadata": {},
   "source": [
    "## German comments"
   ]
  },
  {
   "cell_type": "code",
   "execution_count": 10,
   "id": "c7543f86",
   "metadata": {},
   "outputs": [
    {
     "name": "stdout",
     "output_type": "stream",
     "text": [
      "   Variable        N      Mean        SD        SE  95% Conf.  Interval\n",
      "0      proR   5588.0  0.110467  0.147990  0.001980   0.106586  0.114348\n",
      "1      proU  31559.0  0.103674  0.137329  0.000773   0.102159  0.105189\n",
      "2  combined  37147.0  0.104696  0.139004  0.000721   0.103282  0.106109\n",
      "------\n",
      "            Independent t-test     results\n",
      "0  Difference (proR - proU) =       0.0068\n",
      "1        Degrees of freedom =   37145.0000\n",
      "2                         t =       3.3678\n",
      "3     Two side test p value =       0.0008\n",
      "4    Difference < 0 p value =       0.9996\n",
      "5    Difference > 0 p value =       0.0004\n",
      "6                 Cohen's d =       0.0489\n",
      "7                 Hedge's g =       0.0489\n",
      "8            Glass's delta1 =       0.0459\n",
      "9          Point-Biserial r =       0.0175\n"
     ]
    },
    {
     "name": "stderr",
     "output_type": "stream",
     "text": [
      "/home/coder/.local/lib/python3.9/site-packages/researchpy/ttest.py:38: FutureWarning: The series.append method is deprecated and will be removed from pandas in a future version. Use pandas.concat instead.\n",
      "  groups = group1.append(group2, ignore_index= True)\n"
     ]
    }
   ],
   "source": [
    "# t-test: difference in positive sentiment scores\n",
    "summary, results = rp.ttest(group1= de_comments['tweets_sent_pos'][de_comments['pro'] == 'ProR'], group1_name= \"proR\",\n",
    "                            group2= de_comments['tweets_sent_pos'][de_comments['pro'] == 'ProU'], group2_name= \"proU\")\n",
    "\n",
    "print(summary)\n",
    "print('------')\n",
    "print(results)\n",
    "\n",
    "# the mean positive sentiment score for proR, M= 0.1195 (0.1066, 0.1143), statistically differs from proU, M= 0.1037 (0.1022, 0.1052); t(37145)= 3.3678, p < 0.001."
   ]
  },
  {
   "cell_type": "code",
   "execution_count": 11,
   "id": "bf5e044e",
   "metadata": {},
   "outputs": [
    {
     "name": "stdout",
     "output_type": "stream",
     "text": [
      "   Variable        N      Mean        SD        SE  95% Conf.  Interval\n",
      "0      proR   5588.0  0.113066  0.148218  0.001983   0.109179  0.116953\n",
      "1      proU  31559.0  0.133517  0.153128  0.000862   0.131828  0.135207\n",
      "2  combined  37147.0  0.130441  0.152572  0.000792   0.128889  0.131992\n",
      "------\n",
      "            Independent t-test     results\n",
      "0  Difference (proR - proU) =      -0.0205\n",
      "1        Degrees of freedom =   37145.0000\n",
      "2                         t =      -9.2463\n",
      "3     Two side test p value =       0.0000\n",
      "4    Difference < 0 p value =       0.0000\n",
      "5    Difference > 0 p value =       1.0000\n",
      "6                 Cohen's d =      -0.1342\n",
      "7                 Hedge's g =      -0.1342\n",
      "8            Glass's delta1 =      -0.1380\n",
      "9          Point-Biserial r =      -0.0479\n"
     ]
    },
    {
     "name": "stderr",
     "output_type": "stream",
     "text": [
      "/home/coder/.local/lib/python3.9/site-packages/researchpy/ttest.py:38: FutureWarning: The series.append method is deprecated and will be removed from pandas in a future version. Use pandas.concat instead.\n",
      "  groups = group1.append(group2, ignore_index= True)\n"
     ]
    }
   ],
   "source": [
    "# t-test: difference in negative sentiment scores\n",
    "summary, results = rp.ttest(group1= de_comments['tweets_sent_neg'][de_comments['pro'] == 'ProR'], group1_name= \"proR\",\n",
    "                            group2= de_comments['tweets_sent_neg'][de_comments['pro'] == 'ProU'], group2_name= \"proU\")\n",
    "\n",
    "print(summary)\n",
    "print('------')\n",
    "print(results)\n",
    "\n",
    "# the mean negative sentiment score for proR, M= 0.1131 (0.1092, 0.1170), statistically differs from proU, M= 0.1335 (0.1318, 0.1352); t(37145)= -9.2463, p < 0.001."
   ]
  },
  {
   "cell_type": "code",
   "execution_count": 12,
   "id": "b5fc8578",
   "metadata": {},
   "outputs": [
    {
     "name": "stdout",
     "output_type": "stream",
     "text": [
      "   Variable        N      Mean        SD        SE  95% Conf.  Interval\n",
      "0      proR   5588.0 -0.030358  0.487366  0.006520  -0.043139 -0.017577\n",
      "1      proU  31559.0 -0.098123  0.505714  0.002847  -0.103702 -0.092543\n",
      "2  combined  37147.0 -0.087929  0.503574  0.002613  -0.093050 -0.082808\n",
      "------\n",
      "            Independent t-test     results\n",
      "0  Difference (proR - proU) =       0.0678\n",
      "1        Degrees of freedom =   37145.0000\n",
      "2                         t =       9.2826\n",
      "3     Two side test p value =       0.0000\n",
      "4    Difference < 0 p value =       1.0000\n",
      "5    Difference > 0 p value =       0.0000\n",
      "6                 Cohen's d =       0.1347\n",
      "7                 Hedge's g =       0.1347\n",
      "8            Glass's delta1 =       0.1390\n",
      "9          Point-Biserial r =       0.0481\n"
     ]
    },
    {
     "name": "stderr",
     "output_type": "stream",
     "text": [
      "/home/coder/.local/lib/python3.9/site-packages/researchpy/ttest.py:38: FutureWarning: The series.append method is deprecated and will be removed from pandas in a future version. Use pandas.concat instead.\n",
      "  groups = group1.append(group2, ignore_index= True)\n"
     ]
    }
   ],
   "source": [
    "# t-test: difference in compound scores\n",
    "summary, results = rp.ttest(group1= de_comments['compound'][de_comments['pro'] == 'ProR'].astype(float), group1_name= \"proR\",\n",
    "                            group2= de_comments['compound'][de_comments['pro'] == 'ProU'].astype(float), group2_name= \"proU\")\n",
    "\n",
    "print(summary)\n",
    "print('------')\n",
    "print(results)\n",
    "\n",
    "# the mean compound score for proR, M= -0.0304 (-0.0431, -0.0176), statistically differs from proU, M= -0.0981 (-0.1037, -0.0925); t(37145)= 9.2826, p < 0.001"
   ]
  },
  {
   "cell_type": "markdown",
   "id": "e23a1aa6",
   "metadata": {},
   "source": [
    "## German both"
   ]
  },
  {
   "cell_type": "code",
   "execution_count": 19,
   "id": "f72728c9",
   "metadata": {},
   "outputs": [
    {
     "name": "stdout",
     "output_type": "stream",
     "text": [
      "42937\n"
     ]
    },
    {
     "data": {
      "text/plain": [
       "42937"
      ]
     },
     "execution_count": 19,
     "metadata": {},
     "output_type": "execute_result"
    }
   ],
   "source": [
    "print(len(de_comments)+len(de))\n",
    "len(de_tweets_and_comments)"
   ]
  },
  {
   "cell_type": "code",
   "execution_count": 13,
   "id": "b72cabf0",
   "metadata": {},
   "outputs": [
    {
     "name": "stdout",
     "output_type": "stream",
     "text": [
      "   Variable        N      Mean        SD        SE  95% Conf.  Interval\n",
      "0      proR  10979.0  0.065455  0.124060  0.001184   0.063134  0.067776\n",
      "1      proU  31958.0  0.102448  0.136944  0.000766   0.100947  0.103950\n",
      "2  combined  42937.0  0.092989  0.134736  0.000650   0.091715  0.094264\n",
      "------\n",
      "            Independent t-test     results\n",
      "0  Difference (proR - proU) =      -0.0370\n",
      "1        Degrees of freedom =   42935.0000\n",
      "2                         t =     -24.9995\n",
      "3     Two side test p value =       0.0000\n",
      "4    Difference < 0 p value =       0.0000\n",
      "5    Difference > 0 p value =       1.0000\n",
      "6                 Cohen's d =      -0.2766\n",
      "7                 Hedge's g =      -0.2765\n",
      "8            Glass's delta1 =      -0.2982\n",
      "9          Point-Biserial r =      -0.1198\n"
     ]
    },
    {
     "name": "stderr",
     "output_type": "stream",
     "text": [
      "/home/coder/.local/lib/python3.9/site-packages/researchpy/ttest.py:38: FutureWarning: The series.append method is deprecated and will be removed from pandas in a future version. Use pandas.concat instead.\n",
      "  groups = group1.append(group2, ignore_index= True)\n"
     ]
    }
   ],
   "source": [
    "# t-test: difference in positive sentiment scores\n",
    "summary, results = rp.ttest(group1= de_tweets_and_comments['tweets_sent_pos'][de_tweets_and_comments['pro'] == 'ProR'], group1_name= \"proR\",\n",
    "                            group2= de_tweets_and_comments['tweets_sent_pos'][de_tweets_and_comments['pro'] == 'ProU'], group2_name= \"proU\")\n",
    "\n",
    "print(summary)\n",
    "print('------')\n",
    "print(results)\n"
   ]
  },
  {
   "cell_type": "code",
   "execution_count": 14,
   "id": "94f76a68",
   "metadata": {},
   "outputs": [
    {
     "name": "stdout",
     "output_type": "stream",
     "text": [
      "   Variable        N      Mean        SD        SE  95% Conf.  Interval\n",
      "0      proR  10979.0  0.107563  0.141031  0.001346   0.104925  0.110202\n",
      "1      proU  31958.0  0.133317  0.152941  0.000856   0.131640  0.134994\n",
      "2  combined  42937.0  0.126732  0.150404  0.000726   0.125309  0.128154\n",
      "------\n",
      "            Independent t-test     results\n",
      "0  Difference (proR - proU) =      -0.0258\n",
      "1        Degrees of freedom =   42935.0000\n",
      "2                         t =     -15.5219\n",
      "3     Two side test p value =       0.0000\n",
      "4    Difference < 0 p value =       0.0000\n",
      "5    Difference > 0 p value =       1.0000\n",
      "6                 Cohen's d =      -0.1717\n",
      "7                 Hedge's g =      -0.1717\n",
      "8            Glass's delta1 =      -0.1826\n",
      "9          Point-Biserial r =      -0.0747\n"
     ]
    },
    {
     "name": "stderr",
     "output_type": "stream",
     "text": [
      "/home/coder/.local/lib/python3.9/site-packages/researchpy/ttest.py:38: FutureWarning: The series.append method is deprecated and will be removed from pandas in a future version. Use pandas.concat instead.\n",
      "  groups = group1.append(group2, ignore_index= True)\n"
     ]
    }
   ],
   "source": [
    "# t-test: difference in negative sentiment scores\n",
    "summary, results = rp.ttest(group1= de_tweets_and_comments['tweets_sent_neg'][de_tweets_and_comments['pro'] == 'ProR'], group1_name= \"proR\",\n",
    "                            group2= de_tweets_and_comments['tweets_sent_neg'][de_tweets_and_comments['pro'] == 'ProU'], group2_name= \"proU\")\n",
    "\n",
    "print(summary)\n",
    "print('------')\n",
    "print(results)\n"
   ]
  },
  {
   "cell_type": "code",
   "execution_count": 15,
   "id": "8db43204",
   "metadata": {},
   "outputs": [
    {
     "name": "stdout",
     "output_type": "stream",
     "text": [
      "   Variable        N      Mean        SD        SE  95% Conf.  Interval\n",
      "0      proR  10979.0 -0.144433  0.460061  0.004391  -0.153039 -0.135826\n",
      "1      proU  31958.0 -0.100816  0.504664  0.002823  -0.106349 -0.095283\n",
      "2  combined  42937.0 -0.111969  0.494004  0.002384  -0.116642 -0.107296\n",
      "------\n",
      "            Independent t-test     results\n",
      "0  Difference (proR - proU) =      -0.0436\n",
      "1        Degrees of freedom =   42935.0000\n",
      "2                         t =      -7.9872\n",
      "3     Two side test p value =       0.0000\n",
      "4    Difference < 0 p value =       0.0000\n",
      "5    Difference > 0 p value =       1.0000\n",
      "6                 Cohen's d =      -0.0884\n",
      "7                 Hedge's g =      -0.0884\n",
      "8            Glass's delta1 =      -0.0948\n",
      "9          Point-Biserial r =      -0.0385\n"
     ]
    },
    {
     "name": "stderr",
     "output_type": "stream",
     "text": [
      "/home/coder/.local/lib/python3.9/site-packages/researchpy/ttest.py:38: FutureWarning: The series.append method is deprecated and will be removed from pandas in a future version. Use pandas.concat instead.\n",
      "  groups = group1.append(group2, ignore_index= True)\n"
     ]
    }
   ],
   "source": [
    "# t-test: difference in compound scores\n",
    "summary, results = rp.ttest(group1= de_tweets_and_comments['compound'][de_tweets_and_comments['pro'] == 'ProR'].astype(float), group1_name= \"proR\",\n",
    "                            group2= de_tweets_and_comments['compound'][de_tweets_and_comments['pro'] == 'ProU'].astype(float), group2_name= \"proU\")\n",
    "\n",
    "print(summary)\n",
    "print('------')\n",
    "print(results)\n",
    "\n",
    "# the mean compound score for proR, M= -0.1444 (-0.1530, -0.1358), statistically differs from proU, M= -0.1008 (-0.1063, -0.0953); t(42935)= -7.9872, p < 0.001"
   ]
  },
  {
   "cell_type": "markdown",
   "id": "7208ee6f",
   "metadata": {},
   "source": [
    "## Italian"
   ]
  },
  {
   "cell_type": "code",
   "execution_count": 11,
   "id": "20b6bf4e",
   "metadata": {},
   "outputs": [
    {
     "name": "stdout",
     "output_type": "stream",
     "text": [
      "   Variable      N      Mean        SD        SE  95% Conf.  Interval\n",
      "0      proR   81.0  0.024506  0.068466  0.007607   0.009367  0.039645\n",
      "1      proU  495.0  0.016228  0.058371  0.002624   0.011074  0.021383\n",
      "2  combined  576.0  0.017392  0.059898  0.002496   0.012490  0.022294\n",
      "------\n",
      "            Independent t-test   results\n",
      "0  Difference (proR - proU) =     0.0083\n",
      "1        Degrees of freedom =   574.0000\n",
      "2                         t =     1.1534\n",
      "3     Two side test p value =     0.2492\n",
      "4    Difference < 0 p value =     0.8754\n",
      "5    Difference > 0 p value =     0.1246\n",
      "6                 Cohen's d =     0.1382\n",
      "7                 Hedge's g =     0.1381\n",
      "8            Glass's delta1 =     0.1209\n",
      "9          Point-Biserial r =     0.0481\n"
     ]
    },
    {
     "name": "stderr",
     "output_type": "stream",
     "text": [
      "/home/coder/.local/lib/python3.9/site-packages/researchpy/ttest.py:38: FutureWarning: The series.append method is deprecated and will be removed from pandas in a future version. Use pandas.concat instead.\n",
      "  groups = group1.append(group2, ignore_index= True)\n"
     ]
    }
   ],
   "source": [
    "# t-test: difference in positive sentiment scores\n",
    "summary, results = rp.ttest(group1= it['tweets_sent_pos'][it['pro'] == 'ProR'], group1_name= \"proR\",\n",
    "                            group2= it['tweets_sent_pos'][it['pro'] == 'ProU'], group2_name= \"proU\")\n",
    "\n",
    "print(summary)\n",
    "print('------')\n",
    "print(results)\n",
    "\n",
    "# the mean positive sentiment score for proR, M= 0.0245 (0.0094, 0.0396), does not statistically differ from proU, M= 0.0162 (0.0111, 0.0214); t(574)= 1.1534, p > 0.05."
   ]
  },
  {
   "cell_type": "code",
   "execution_count": 12,
   "id": "31dcbe45",
   "metadata": {},
   "outputs": [
    {
     "name": "stdout",
     "output_type": "stream",
     "text": [
      "   Variable      N      Mean        SD        SE  95% Conf.  Interval\n",
      "0      proR   81.0  0.028580  0.089839  0.009982   0.008715  0.048445\n",
      "1      proU  495.0  0.033388  0.090604  0.004072   0.025387  0.041389\n",
      "2  combined  576.0  0.032712  0.090435  0.003768   0.025311  0.040113\n",
      "------\n",
      "            Independent t-test   results\n",
      "0  Difference (proR - proU) =    -0.0048\n",
      "1        Degrees of freedom =   574.0000\n",
      "2                         t =    -0.4432\n",
      "3     Two side test p value =     0.6578\n",
      "4    Difference < 0 p value =     0.3289\n",
      "5    Difference > 0 p value =     0.6711\n",
      "6                 Cohen's d =    -0.0531\n",
      "7                 Hedge's g =    -0.0531\n",
      "8            Glass's delta1 =    -0.0535\n",
      "9          Point-Biserial r =    -0.0185\n"
     ]
    },
    {
     "name": "stderr",
     "output_type": "stream",
     "text": [
      "/home/coder/.local/lib/python3.9/site-packages/researchpy/ttest.py:38: FutureWarning: The series.append method is deprecated and will be removed from pandas in a future version. Use pandas.concat instead.\n",
      "  groups = group1.append(group2, ignore_index= True)\n"
     ]
    }
   ],
   "source": [
    "# t-test: difference in negative sentiment scores\n",
    "summary, results = rp.ttest(group1= it['tweets_sent_neg'][it['pro'] == 'ProR'], group1_name= \"proR\",\n",
    "                            group2= it['tweets_sent_neg'][it['pro'] == 'ProU'], group2_name= \"proU\")\n",
    "\n",
    "print(summary)\n",
    "print('------')\n",
    "print(results)\n",
    "\n",
    "# the mean negative sentiment score for proR, M= 0.0286 (0.0087, 0.0484), does not statistically differ from proU, M= 0.0334 (-0.0254, 0.0414); t(574)= -0.4432, p > 0.05."
   ]
  },
  {
   "cell_type": "code",
   "execution_count": 52,
   "id": "f0b24d6a",
   "metadata": {},
   "outputs": [
    {
     "name": "stdout",
     "output_type": "stream",
     "text": [
      "   Variable      N      Mean        SD        SE  95% Conf.  Interval\n",
      "0      proR   81.0  0.012031  0.210454  0.023384  -0.034504  0.058566\n",
      "1      proU  495.0 -0.035221  0.232172  0.010435  -0.055724 -0.014718\n",
      "2  combined  576.0 -0.028576  0.229658  0.009569  -0.047371 -0.009782\n",
      "------\n",
      "            Independent t-test   results\n",
      "0  Difference (proR - proU) =     0.0473\n",
      "1        Degrees of freedom =   574.0000\n",
      "2                         t =     1.7195\n",
      "3     Two side test p value =     0.0861\n",
      "4    Difference < 0 p value =     0.9570\n",
      "5    Difference > 0 p value =     0.0430\n",
      "6                 Cohen's d =     0.2061\n",
      "7                 Hedge's g =     0.2058\n",
      "8            Glass's delta1 =     0.2245\n",
      "9          Point-Biserial r =     0.0716\n"
     ]
    },
    {
     "name": "stderr",
     "output_type": "stream",
     "text": [
      "/home/coder/.local/lib/python3.9/site-packages/researchpy/ttest.py:38: FutureWarning: The series.append method is deprecated and will be removed from pandas in a future version. Use pandas.concat instead.\n",
      "  groups = group1.append(group2, ignore_index= True)\n"
     ]
    }
   ],
   "source": [
    "# t-test: difference in compound scores\n",
    "summary, results = rp.ttest(group1= it['compound'][it['pro'] == 'ProR'].astype(float), group1_name= \"proR\",\n",
    "                            group2= it['compound'][it['pro'] == 'ProU'].astype(float), group2_name= \"proU\")\n",
    "\n",
    "print(summary)\n",
    "print('------')\n",
    "print(results)\n",
    "\n",
    "# the mean compound score for proR, M= 0.0120 (-0.0345, 0.0586), does not statistically differ from proU, M= -0.0352 (-0.0557, -0.0147); t(574)= 1.7195, p > 0.05"
   ]
  },
  {
   "cell_type": "markdown",
   "id": "9b6e0d66",
   "metadata": {},
   "source": [
    "## Italian comments"
   ]
  },
  {
   "cell_type": "code",
   "execution_count": 24,
   "id": "53480522",
   "metadata": {},
   "outputs": [
    {
     "name": "stdout",
     "output_type": "stream",
     "text": [
      "   Variable        N      Mean        SD        SE  95% Conf.  Interval\n",
      "0      proR   3160.0  0.115269  0.149438  0.002658   0.110056  0.120481\n",
      "1      proU  49481.0  0.102550  0.142117  0.000639   0.101298  0.103802\n",
      "2  combined  52641.0  0.103314  0.142598  0.000622   0.102096  0.104532\n",
      "------\n",
      "            Independent t-test     results\n",
      "0  Difference (proR - proU) =       0.0127\n",
      "1        Degrees of freedom =   52639.0000\n",
      "2                         t =       4.8620\n",
      "3     Two side test p value =       0.0000\n",
      "4    Difference < 0 p value =       1.0000\n",
      "5    Difference > 0 p value =       0.0000\n",
      "6                 Cohen's d =       0.0892\n",
      "7                 Hedge's g =       0.0892\n",
      "8            Glass's delta1 =       0.0851\n",
      "9          Point-Biserial r =       0.0212\n"
     ]
    },
    {
     "name": "stderr",
     "output_type": "stream",
     "text": [
      "/home/coder/.local/lib/python3.9/site-packages/researchpy/ttest.py:38: FutureWarning: The series.append method is deprecated and will be removed from pandas in a future version. Use pandas.concat instead.\n",
      "  groups = group1.append(group2, ignore_index= True)\n"
     ]
    }
   ],
   "source": [
    "# t-test: difference in positive sentiment scores\n",
    "summary, results = rp.ttest(group1= it_comments['tweets_sent_pos'][it_comments['pro'] == 'ProR'], group1_name= \"proR\",\n",
    "                            group2= it_comments['tweets_sent_pos'][it_comments['pro'] == 'ProU'], group2_name= \"proU\")\n",
    "\n",
    "print(summary)\n",
    "print('------')\n",
    "print(results)\n",
    "\n",
    "# the mean positive sentiment score for proR, M= 0.1153 (0.1101, 0.1205), statistically differs from proU, M= 0.1026 (0.1013, 0.1038); t(52639)= 4.8620, p < 0.001."
   ]
  },
  {
   "cell_type": "code",
   "execution_count": 26,
   "id": "6619d6e2",
   "metadata": {},
   "outputs": [
    {
     "name": "stdout",
     "output_type": "stream",
     "text": [
      "   Variable        N      Mean        SD        SE  95% Conf.  Interval\n",
      "0      proR   3160.0  0.142384  0.178643  0.003178   0.136153  0.148615\n",
      "1      proU  49481.0  0.136578  0.169556  0.000762   0.135084  0.138072\n",
      "2  combined  52641.0  0.136927  0.170119  0.000741   0.135474  0.138380\n",
      "------\n",
      "            Independent t-test     results\n",
      "0  Difference (proR - proU) =       0.0058\n",
      "1        Degrees of freedom =   52639.0000\n",
      "2                         t =       1.8600\n",
      "3     Two side test p value =       0.0629\n",
      "4    Difference < 0 p value =       0.9686\n",
      "5    Difference > 0 p value =       0.0314\n",
      "6                 Cohen's d =       0.0341\n",
      "7                 Hedge's g =       0.0341\n",
      "8            Glass's delta1 =       0.0325\n",
      "9          Point-Biserial r =       0.0081\n"
     ]
    },
    {
     "name": "stderr",
     "output_type": "stream",
     "text": [
      "/home/coder/.local/lib/python3.9/site-packages/researchpy/ttest.py:38: FutureWarning: The series.append method is deprecated and will be removed from pandas in a future version. Use pandas.concat instead.\n",
      "  groups = group1.append(group2, ignore_index= True)\n"
     ]
    }
   ],
   "source": [
    "# t-test: difference in negative sentiment scores\n",
    "summary, results = rp.ttest(group1= it_comments['tweets_sent_neg'][it_comments['pro'] == 'ProR'], group1_name= \"proR\",\n",
    "                            group2= it_comments['tweets_sent_neg'][it_comments['pro'] == 'ProU'], group2_name= \"proU\")\n",
    "\n",
    "print(summary)\n",
    "print('------')\n",
    "print(results)\n",
    "\n",
    "# the mean negative sentiment score for proR, M= 0.1424 (0.1362, 0.1486), does not statistically differ from proU, M= 0.1366 (0.1351, 0.1381); t(52639)= 1.8600, p > 0.05."
   ]
  },
  {
   "cell_type": "code",
   "execution_count": 53,
   "id": "9d5e69db",
   "metadata": {},
   "outputs": [
    {
     "name": "stdout",
     "output_type": "stream",
     "text": [
      "   Variable        N      Mean        SD        SE  95% Conf.  Interval\n",
      "0      proR   3160.0 -0.046790  0.481868  0.008572  -0.063597 -0.029982\n",
      "1      proU  49481.0 -0.080155  0.492499  0.002214  -0.084494 -0.075815\n",
      "2  combined  52641.0 -0.078152  0.491927  0.002144  -0.082354 -0.073950\n",
      "------\n",
      "            Independent t-test     results\n",
      "0  Difference (proR - proU) =       0.0334\n",
      "1        Degrees of freedom =   52639.0000\n",
      "2                         t =       3.6970\n",
      "3     Two side test p value =       0.0002\n",
      "4    Difference < 0 p value =       0.9999\n",
      "5    Difference > 0 p value =       0.0001\n",
      "6                 Cohen's d =       0.0678\n",
      "7                 Hedge's g =       0.0678\n",
      "8            Glass's delta1 =       0.0692\n",
      "9          Point-Biserial r =       0.0161\n"
     ]
    },
    {
     "name": "stderr",
     "output_type": "stream",
     "text": [
      "/home/coder/.local/lib/python3.9/site-packages/researchpy/ttest.py:38: FutureWarning: The series.append method is deprecated and will be removed from pandas in a future version. Use pandas.concat instead.\n",
      "  groups = group1.append(group2, ignore_index= True)\n"
     ]
    }
   ],
   "source": [
    "# t-test: difference in compound scores\n",
    "summary, results = rp.ttest(group1= it_comments['compound'][it_comments['pro'] == 'ProR'].astype(float), group1_name= \"proR\",\n",
    "                            group2= it_comments['compound'][it_comments['pro'] == 'ProU'].astype(float), group2_name= \"proU\")\n",
    "\n",
    "print(summary)\n",
    "print('------')\n",
    "print(results)\n",
    "\n",
    "# the mean compound score for proR, M= -0.0468 (-0.0636, -0.0210), statistically differs from proU, M= -0.0802 (-0.0845, -0.0758); t(52639)= 3.6970, p < 0.001"
   ]
  },
  {
   "cell_type": "markdown",
   "id": "21c35f5e",
   "metadata": {},
   "source": [
    "## Italian both"
   ]
  },
  {
   "cell_type": "code",
   "execution_count": 18,
   "id": "992618d3",
   "metadata": {},
   "outputs": [
    {
     "name": "stdout",
     "output_type": "stream",
     "text": [
      "   Variable        N      Mean        SD        SE  95% Conf.  Interval\n",
      "0      proR   3241.0  0.113000  0.148626  0.002611   0.107882  0.118119\n",
      "1      proU  49976.0  0.101695  0.141788  0.000634   0.100452  0.102938\n",
      "2  combined  53217.0  0.102384  0.142238  0.000617   0.101175  0.103592\n",
      "------\n",
      "            Independent t-test     results\n",
      "0  Difference (proR - proU) =       0.0113\n",
      "1        Degrees of freedom =   53215.0000\n",
      "2                         t =       4.3856\n",
      "3     Two side test p value =       0.0000\n",
      "4    Difference < 0 p value =       1.0000\n",
      "5    Difference > 0 p value =       0.0000\n",
      "6                 Cohen's d =       0.0795\n",
      "7                 Hedge's g =       0.0795\n",
      "8            Glass's delta1 =       0.0761\n",
      "9          Point-Biserial r =       0.0190\n"
     ]
    },
    {
     "name": "stderr",
     "output_type": "stream",
     "text": [
      "/home/coder/.local/lib/python3.9/site-packages/researchpy/ttest.py:38: FutureWarning: The series.append method is deprecated and will be removed from pandas in a future version. Use pandas.concat instead.\n",
      "  groups = group1.append(group2, ignore_index= True)\n"
     ]
    }
   ],
   "source": [
    "# t-test: difference in positive sentiment scores\n",
    "summary, results = rp.ttest(group1= it_tweets_and_comments['tweets_sent_pos'][it_tweets_and_comments['pro'] == 'ProR'], group1_name= \"proR\",\n",
    "                            group2= it_tweets_and_comments['tweets_sent_pos'][it_tweets_and_comments['pro'] == 'ProU'], group2_name= \"proU\")\n",
    "\n",
    "print(summary)\n",
    "print('------')\n",
    "print(results)"
   ]
  },
  {
   "cell_type": "code",
   "execution_count": 54,
   "id": "5329f784",
   "metadata": {},
   "outputs": [
    {
     "name": "stdout",
     "output_type": "stream",
     "text": [
      "   Variable        N      Mean        SD        SE  95% Conf.  Interval\n",
      "0      proR   3241.0 -0.045320  0.477043  0.008379  -0.061749 -0.028890\n",
      "1      proU  49976.0 -0.079710  0.490617  0.002195  -0.084011 -0.075408\n",
      "2  combined  53217.0 -0.077615  0.489866  0.002123  -0.081777 -0.073453\n",
      "------\n",
      "            Independent t-test     results\n",
      "0  Difference (proR - proU) =       0.0344\n",
      "1        Degrees of freedom =   53215.0000\n",
      "2                         t =       3.8736\n",
      "3     Two side test p value =       0.0001\n",
      "4    Difference < 0 p value =       0.9999\n",
      "5    Difference > 0 p value =       0.0001\n",
      "6                 Cohen's d =       0.0702\n",
      "7                 Hedge's g =       0.0702\n",
      "8            Glass's delta1 =       0.0721\n",
      "9          Point-Biserial r =       0.0168\n"
     ]
    },
    {
     "name": "stderr",
     "output_type": "stream",
     "text": [
      "/home/coder/.local/lib/python3.9/site-packages/researchpy/ttest.py:38: FutureWarning: The series.append method is deprecated and will be removed from pandas in a future version. Use pandas.concat instead.\n",
      "  groups = group1.append(group2, ignore_index= True)\n"
     ]
    }
   ],
   "source": [
    "# t-test: difference in compound scores\n",
    "summary, results = rp.ttest(group1= it_tweets_and_comments['compound'][it_tweets_and_comments['pro'] == 'ProR'].astype(float), group1_name= \"proR\",\n",
    "                            group2= it_tweets_and_comments['compound'][it_tweets_and_comments['pro'] == 'ProU'].astype(float), group2_name= \"proU\")\n",
    "\n",
    "print(summary)\n",
    "print('------')\n",
    "print(results)\n",
    "\n",
    "# the mean compound score for proR, M= -0.0453 (-0.0617, -0.0289), statistically differs from proU, M= -0.0797 (-0.0840, -0.0754); t(53215)= 3.8736, p < 0.001"
   ]
  },
  {
   "cell_type": "markdown",
   "id": "e00e0088",
   "metadata": {},
   "source": [
    "## Swedish"
   ]
  },
  {
   "cell_type": "code",
   "execution_count": 27,
   "id": "96ac67b8",
   "metadata": {},
   "outputs": [
    {
     "name": "stdout",
     "output_type": "stream",
     "text": [
      "   Variable     N      Mean        SD        SE  95% Conf.  Interval\n",
      "0      proR   2.0  0.111500  0.037477  0.026500  -0.225214  0.448214\n",
      "1      proU  29.0  0.120966  0.157955  0.029331   0.060883  0.181048\n",
      "2  combined  31.0  0.120355  0.152771  0.027438   0.064318  0.176392\n",
      "------\n",
      "            Independent t-test  results\n",
      "0  Difference (proR - proU) =   -0.0095\n",
      "1        Degrees of freedom =   29.0000\n",
      "2                         t =   -0.0833\n",
      "3     Two side test p value =    0.9342\n",
      "4    Difference < 0 p value =    0.4671\n",
      "5    Difference > 0 p value =    0.5329\n",
      "6                 Cohen's d =   -0.0609\n",
      "7                 Hedge's g =   -0.0593\n",
      "8            Glass's delta1 =   -0.2526\n",
      "9          Point-Biserial r =   -0.0155\n"
     ]
    },
    {
     "name": "stderr",
     "output_type": "stream",
     "text": [
      "/home/coder/.local/lib/python3.9/site-packages/researchpy/ttest.py:38: FutureWarning: The series.append method is deprecated and will be removed from pandas in a future version. Use pandas.concat instead.\n",
      "  groups = group1.append(group2, ignore_index= True)\n"
     ]
    }
   ],
   "source": [
    "# t-test: difference in positive sentiment scores\n",
    "summary, results = rp.ttest(group1= sv['tweets_sent_pos'][sv['pro'] == 'ProR'], group1_name= \"proR\",\n",
    "                            group2= sv['tweets_sent_pos'][sv['pro'] == 'ProU'], group2_name= \"proU\")\n",
    "\n",
    "print(summary)\n",
    "print('------')\n",
    "print(results)\n",
    "\n",
    "# the mean positive sentiment score for proR, M= 01115 (-0.2252, 0.4482), does not statistically differ from proU, M= 0.1210 (0.0609, 0.1810); t(29)= -0.0833, p > 0.05."
   ]
  },
  {
   "cell_type": "code",
   "execution_count": 28,
   "id": "9367b39b",
   "metadata": {},
   "outputs": [
    {
     "name": "stdout",
     "output_type": "stream",
     "text": [
      "   Variable     N      Mean        SD        SE  95% Conf.  Interval\n",
      "0      proR   2.0  0.092000  0.130108  0.092000  -1.076971  1.260971\n",
      "1      proU  29.0  0.101483  0.131228  0.024368   0.051566  0.151399\n",
      "2  combined  31.0  0.100871  0.129006  0.023170   0.053551  0.148191\n",
      "------\n",
      "            Independent t-test  results\n",
      "0  Difference (proR - proU) =   -0.0095\n",
      "1        Degrees of freedom =   29.0000\n",
      "2                         t =   -0.0989\n",
      "3     Two side test p value =    0.9219\n",
      "4    Difference < 0 p value =    0.4610\n",
      "5    Difference > 0 p value =    0.5390\n",
      "6                 Cohen's d =   -0.0723\n",
      "7                 Hedge's g =   -0.0704\n",
      "8            Glass's delta1 =   -0.0729\n",
      "9          Point-Biserial r =   -0.0184\n"
     ]
    },
    {
     "name": "stderr",
     "output_type": "stream",
     "text": [
      "/home/coder/.local/lib/python3.9/site-packages/researchpy/ttest.py:38: FutureWarning: The series.append method is deprecated and will be removed from pandas in a future version. Use pandas.concat instead.\n",
      "  groups = group1.append(group2, ignore_index= True)\n"
     ]
    }
   ],
   "source": [
    "# t-test: difference in negative sentiment scores\n",
    "summary, results = rp.ttest(group1= sv['tweets_sent_neg'][sv['pro'] == 'ProR'], group1_name= \"proR\",\n",
    "                            group2= sv['tweets_sent_neg'][sv['pro'] == 'ProU'], group2_name= \"proU\")\n",
    "\n",
    "print(summary)\n",
    "print('------')\n",
    "print(results)\n",
    "\n",
    "# the mean negative sentiment score for proR, M= 0.0920 (-1.0770, 1.2610), does not statistically differ from proU, M= 0.0101 (0.0516, 0.1514); t(29)= -0.0989, p > 0.05."
   ]
  },
  {
   "cell_type": "code",
   "execution_count": 45,
   "id": "a10b742f",
   "metadata": {},
   "outputs": [
    {
     "name": "stdout",
     "output_type": "stream",
     "text": [
      "   Variable     N      Mean        SD        SE  95% Conf.  Interval\n",
      "0      proR   2.0  0.092050  0.873348  0.617550  -7.754667  7.938767\n",
      "1      proU  29.0 -0.061545  0.446472  0.082908  -0.231374  0.108284\n",
      "2  combined  31.0 -0.051635  0.461459  0.082880  -0.220900  0.117629\n",
      "------\n",
      "            Independent t-test  results\n",
      "0  Difference (proR - proU) =    0.1536\n",
      "1        Degrees of freedom =   29.0000\n",
      "2                         t =    0.4492\n",
      "3     Two side test p value =    0.6566\n",
      "4    Difference < 0 p value =    0.6717\n",
      "5    Difference > 0 p value =    0.3283\n",
      "6                 Cohen's d =    0.3284\n",
      "7                 Hedge's g =    0.3198\n",
      "8            Glass's delta1 =    0.1759\n",
      "9          Point-Biserial r =    0.0831\n"
     ]
    },
    {
     "name": "stderr",
     "output_type": "stream",
     "text": [
      "/home/coder/.local/lib/python3.9/site-packages/researchpy/ttest.py:38: FutureWarning: The series.append method is deprecated and will be removed from pandas in a future version. Use pandas.concat instead.\n",
      "  groups = group1.append(group2, ignore_index= True)\n"
     ]
    }
   ],
   "source": [
    "# t-test: difference in compound scores\n",
    "summary, results = rp.ttest(group1= sv['compound'][sv['pro'] == 'ProR'].astype(float), group1_name= \"proR\",\n",
    "                            group2= sv['compound'][sv['pro'] == 'ProU'].astype(float), group2_name= \"proU\")\n",
    "\n",
    "print(summary)\n",
    "print('------')\n",
    "print(results)\n",
    "\n",
    "# the mean compound score for proR, M= 0.0921 (-7.7547, 7.9388), does not statistically differ from proU, M= -0.0615 (-0.2314, 0.1083); t(29)= 0.4492, p > 0.05"
   ]
  },
  {
   "cell_type": "markdown",
   "id": "eca120a4",
   "metadata": {},
   "source": [
    "## Swedish both"
   ]
  },
  {
   "cell_type": "code",
   "execution_count": 13,
   "id": "c4df8351",
   "metadata": {},
   "outputs": [
    {
     "name": "stdout",
     "output_type": "stream",
     "text": [
      "   Variable      N      Mean        SD        SE  95% Conf.  Interval\n",
      "0      proR    2.0  0.111500  0.037477  0.026500  -0.225214  0.448214\n",
      "1      proU  607.0  0.092316  0.139417  0.005659   0.081203  0.103429\n",
      "2  combined  609.0  0.092379  0.139200  0.005641   0.081302  0.103457\n",
      "------\n",
      "            Independent t-test   results\n",
      "0  Difference (proR - proU) =     0.0192\n",
      "1        Degrees of freedom =   607.0000\n",
      "2                         t =     0.1944\n",
      "3     Two side test p value =     0.8459\n",
      "4    Difference < 0 p value =     0.5770\n",
      "5    Difference > 0 p value =     0.4230\n",
      "6                 Cohen's d =     0.1377\n",
      "7                 Hedge's g =     0.1375\n",
      "8            Glass's delta1 =     0.5119\n",
      "9          Point-Biserial r =     0.0079\n"
     ]
    },
    {
     "name": "stderr",
     "output_type": "stream",
     "text": [
      "/home/coder/.local/lib/python3.9/site-packages/researchpy/ttest.py:38: FutureWarning: The series.append method is deprecated and will be removed from pandas in a future version. Use pandas.concat instead.\n",
      "  groups = group1.append(group2, ignore_index= True)\n"
     ]
    }
   ],
   "source": [
    "# t-test: difference in positive sentiment scores\n",
    "summary, results = rp.ttest(group1= sv_tweets_and_comments['tweets_sent_pos'][sv_tweets_and_comments['pro'] == 'ProR'], group1_name= \"proR\",\n",
    "                            group2= sv_tweets_and_comments['tweets_sent_pos'][sv_tweets_and_comments['pro'] == 'ProU'], group2_name= \"proU\")\n",
    "\n",
    "print(summary)\n",
    "print('------')\n",
    "print(results)"
   ]
  },
  {
   "cell_type": "code",
   "execution_count": 15,
   "id": "9a22868d",
   "metadata": {},
   "outputs": [
    {
     "name": "stdout",
     "output_type": "stream",
     "text": [
      "   Variable      N      Mean        SD        SE  95% Conf.  Interval\n",
      "0      proR    2.0  0.092000  0.130108  0.092000  -1.076971  1.260971\n",
      "1      proU  607.0  0.137155  0.180739  0.007336   0.122748  0.151562\n",
      "2  combined  609.0  0.137007  0.180537  0.007316   0.122639  0.151374\n",
      "------\n",
      "            Independent t-test   results\n",
      "0  Difference (proR - proU) =    -0.0452\n",
      "1        Degrees of freedom =   607.0000\n",
      "2                         t =    -0.3529\n",
      "3     Two side test p value =     0.7243\n",
      "4    Difference < 0 p value =     0.3622\n",
      "5    Difference > 0 p value =     0.6378\n",
      "6                 Cohen's d =    -0.2499\n",
      "7                 Hedge's g =    -0.2496\n",
      "8            Glass's delta1 =    -0.3471\n",
      "9          Point-Biserial r =    -0.0143\n"
     ]
    },
    {
     "name": "stderr",
     "output_type": "stream",
     "text": [
      "/home/coder/.local/lib/python3.9/site-packages/researchpy/ttest.py:38: FutureWarning: The series.append method is deprecated and will be removed from pandas in a future version. Use pandas.concat instead.\n",
      "  groups = group1.append(group2, ignore_index= True)\n"
     ]
    }
   ],
   "source": [
    "# t-test: difference in negative sentiment scores\n",
    "summary, results = rp.ttest(group1= sv_tweets_and_comments['tweets_sent_neg'][sv_tweets_and_comments['pro'] == 'ProR'], group1_name= \"proR\",\n",
    "                            group2= sv_tweets_and_comments['tweets_sent_neg'][sv_tweets_and_comments['pro'] == 'ProU'], group2_name= \"proU\")\n",
    "\n",
    "print(summary)\n",
    "print('------')\n",
    "print(results)"
   ]
  },
  {
   "cell_type": "code",
   "execution_count": 46,
   "id": "dff8d350",
   "metadata": {},
   "outputs": [
    {
     "name": "stdout",
     "output_type": "stream",
     "text": [
      "   Variable      N      Mean        SD        SE  95% Conf.  Interval\n",
      "0      proR    2.0  0.092050  0.873348  0.617550  -7.754667  7.938767\n",
      "1      proU  607.0 -0.098342  0.465541  0.018896  -0.135451 -0.061233\n",
      "2  combined  609.0 -0.097717  0.466250  0.018893  -0.134821 -0.060613\n",
      "------\n",
      "            Independent t-test   results\n",
      "0  Difference (proR - proU) =     0.1904\n",
      "1        Degrees of freedom =   607.0000\n",
      "2                         t =     0.5762\n",
      "3     Two side test p value =     0.5647\n",
      "4    Difference < 0 p value =     0.7177\n",
      "5    Difference > 0 p value =     0.2823\n",
      "6                 Cohen's d =     0.4081\n",
      "7                 Hedge's g =     0.4076\n",
      "8            Glass's delta1 =     0.2180\n",
      "9          Point-Biserial r =     0.0234\n"
     ]
    },
    {
     "name": "stderr",
     "output_type": "stream",
     "text": [
      "/home/coder/.local/lib/python3.9/site-packages/researchpy/ttest.py:38: FutureWarning: The series.append method is deprecated and will be removed from pandas in a future version. Use pandas.concat instead.\n",
      "  groups = group1.append(group2, ignore_index= True)\n"
     ]
    }
   ],
   "source": [
    "# t-test: difference in compound scores\n",
    "summary, results = rp.ttest(group1= sv_tweets_and_comments['compound'][sv_tweets_and_comments['pro'] == 'ProR'].astype(float), group1_name= \"proR\",\n",
    "                            group2= sv_tweets_and_comments['compound'][sv_tweets_and_comments['pro'] == 'ProU'].astype(float), group2_name= \"proU\")\n",
    "\n",
    "print(summary)\n",
    "print('------')\n",
    "print(results)\n",
    "\n",
    "# the mean compound score for proR, M= 0.0921 (-7.7547, 7.9388), does not statistically differ from proU, M= -0.0983 (-0.1355, -0.0612); t(607)= 0.5762, p > 0.05"
   ]
  },
  {
   "cell_type": "markdown",
   "id": "a5d8e144",
   "metadata": {},
   "source": [
    "## Danish"
   ]
  },
  {
   "cell_type": "code",
   "execution_count": 21,
   "id": "86999f56",
   "metadata": {},
   "outputs": [
    {
     "name": "stdout",
     "output_type": "stream",
     "text": [
      "   Variable     N  Mean   SD   SE  95% Conf.  Interval\n",
      "0      proR   2.0   0.0  0.0  0.0        NaN       NaN\n",
      "1      proU  16.0   0.0  0.0  0.0        NaN       NaN\n",
      "2  combined  18.0   0.0  0.0  0.0        NaN       NaN\n",
      "------\n",
      "            Independent t-test  results\n",
      "0  Difference (proR - proU) =       0.0\n",
      "1        Degrees of freedom =      16.0\n",
      "2                         t =       NaN\n",
      "3     Two side test p value =       NaN\n",
      "4    Difference < 0 p value =       NaN\n",
      "5    Difference > 0 p value =       NaN\n",
      "6                 Cohen's d =       NaN\n",
      "7                 Hedge's g =       NaN\n",
      "8            Glass's delta1 =       NaN\n",
      "9          Point-Biserial r =       NaN\n"
     ]
    },
    {
     "name": "stderr",
     "output_type": "stream",
     "text": [
      "/home/coder/.local/lib/python3.9/site-packages/researchpy/ttest.py:38: FutureWarning: The series.append method is deprecated and will be removed from pandas in a future version. Use pandas.concat instead.\n",
      "  groups = group1.append(group2, ignore_index= True)\n",
      "/home/coder/.local/lib/python3.9/site-packages/researchpy/ttest.py:59: RuntimeWarning: invalid value encountered in double_scalars\n",
      "  d = (group1.mean() - group2.mean()) / numpy.sqrt(((group1.count() - 1) * group1.std()**2 + (group2.count() - 1) * group2.std()**2) / (group1.count() + group2.count() - 2))\n",
      "/home/coder/.local/lib/python3.9/site-packages/researchpy/ttest.py:63: RuntimeWarning: invalid value encountered in double_scalars\n",
      "  cles = 0 - abs(group1.mean() - group2.mean()) / numpy.sqrt(group1.var() + group2.var())\n",
      "/home/coder/.local/lib/python3.9/site-packages/researchpy/ttest.py:70: RuntimeWarning: invalid value encountered in double_scalars\n",
      "  delta = (group1.mean() - group2.mean()) / group1.std()\n",
      "/home/coder/.local/lib/python3.9/site-packages/scipy/stats/_distn_infrastructure.py:2162: RuntimeWarning: invalid value encountered in multiply\n",
      "  lower_bound = _a * scale + loc\n",
      "/home/coder/.local/lib/python3.9/site-packages/scipy/stats/_distn_infrastructure.py:2163: RuntimeWarning: invalid value encountered in multiply\n",
      "  upper_bound = _b * scale + loc\n"
     ]
    }
   ],
   "source": [
    "# t-test: difference in positive sentiment scores\n",
    "summary, results = rp.ttest(group1= dk['tweets_sent_pos'][dk['pro'] == 'ProR'], group1_name= \"proR\",\n",
    "                            group2= dk['tweets_sent_pos'][dk['pro'] == 'ProU'], group2_name= \"proU\")\n",
    "\n",
    "print(summary)\n",
    "print('------')\n",
    "print(results)\n",
    "\n",
    "# only tweets with pos score of 0"
   ]
  },
  {
   "cell_type": "code",
   "execution_count": 22,
   "id": "55dbd642",
   "metadata": {},
   "outputs": [
    {
     "name": "stdout",
     "output_type": "stream",
     "text": [
      "   Variable     N      Mean        SD        SE  95% Conf.  Interval\n",
      "0      proR   2.0  0.163000  0.052326  0.037000  -0.307130  0.633130\n",
      "1      proU  16.0  0.029563  0.067131  0.016783  -0.006209  0.065334\n",
      "2  combined  18.0  0.044389  0.077456  0.018257   0.005871  0.082907\n",
      "------\n",
      "            Independent t-test  results\n",
      "0  Difference (proR - proU) =    0.1334\n",
      "1        Degrees of freedom =   16.0000\n",
      "2                         t =    2.6834\n",
      "3     Two side test p value =    0.0163\n",
      "4    Difference < 0 p value =    0.9918\n",
      "5    Difference > 0 p value =    0.0082\n",
      "6                 Cohen's d =    2.0126\n",
      "7                 Hedge's g =    1.9167\n",
      "8            Glass's delta1 =    2.5501\n",
      "9          Point-Biserial r =    0.5571\n"
     ]
    },
    {
     "name": "stderr",
     "output_type": "stream",
     "text": [
      "/home/coder/.local/lib/python3.9/site-packages/researchpy/ttest.py:38: FutureWarning: The series.append method is deprecated and will be removed from pandas in a future version. Use pandas.concat instead.\n",
      "  groups = group1.append(group2, ignore_index= True)\n"
     ]
    }
   ],
   "source": [
    "# t-test: difference in negative sentiment scores\n",
    "summary, results = rp.ttest(group1= dk['tweets_sent_neg'][dk['pro'] == 'ProR'], group1_name= \"proR\",\n",
    "                            group2= dk['tweets_sent_neg'][dk['pro'] == 'ProU'], group2_name= \"proU\")\n",
    "\n",
    "print(summary)\n",
    "print('------')\n",
    "print(results)\n",
    "\n",
    "# the mean negative sentiment score for proR, M= 0.1630 (-0.3071, 0.6331), statistically differs from proU, M= 0.0296 (-0.0062, 0.0653); t(16)= 2.6834, p < 0.05."
   ]
  },
  {
   "cell_type": "code",
   "execution_count": 42,
   "id": "1993c8b3",
   "metadata": {},
   "outputs": [
    {
     "name": "stdout",
     "output_type": "stream",
     "text": [
      "   Variable     N      Mean        SD        SE  95% Conf.  Interval\n",
      "0      proR   2.0 -0.697250  0.039103  0.027650  -1.048577 -0.345923\n",
      "1      proU  16.0 -0.110631  0.200250  0.050062  -0.217337 -0.003926\n",
      "2  combined  18.0 -0.175811  0.267318  0.063007  -0.308745 -0.042877\n",
      "------\n",
      "            Independent t-test  results\n",
      "0  Difference (proR - proU) =   -0.5866\n",
      "1        Degrees of freedom =   16.0000\n",
      "2                         t =   -4.0289\n",
      "3     Two side test p value =    0.0010\n",
      "4    Difference < 0 p value =    0.0005\n",
      "5    Difference > 0 p value =    0.9995\n",
      "6                 Cohen's d =   -3.0217\n",
      "7                 Hedge's g =   -2.8778\n",
      "8            Glass's delta1 =  -15.0019\n",
      "9          Point-Biserial r =   -0.7096\n"
     ]
    },
    {
     "name": "stderr",
     "output_type": "stream",
     "text": [
      "/home/coder/.local/lib/python3.9/site-packages/researchpy/ttest.py:38: FutureWarning: The series.append method is deprecated and will be removed from pandas in a future version. Use pandas.concat instead.\n",
      "  groups = group1.append(group2, ignore_index= True)\n"
     ]
    }
   ],
   "source": [
    "# t-test: difference in compound scores\n",
    "summary, results = rp.ttest(group1= dk['compound'][dk['pro'] == 'ProR'].astype(float), group1_name= \"proR\",\n",
    "                            group2= dk['compound'][dk['pro'] == 'ProU'].astype(float), group2_name= \"proU\")\n",
    "\n",
    "print(summary)\n",
    "print('------')\n",
    "print(results)\n",
    "\n",
    "# the mean compound score for proR, M= -0.6973 (-1.0486, -0.3459), statistically differs from proU, M= -0.1106 (-0.2173, 0.0039); t(16)= -4.0289, p < 0.05"
   ]
  },
  {
   "cell_type": "markdown",
   "id": "cce68b21",
   "metadata": {},
   "source": [
    "## Danish comments"
   ]
  },
  {
   "cell_type": "code",
   "execution_count": 17,
   "id": "5f725686",
   "metadata": {},
   "outputs": [
    {
     "name": "stdout",
     "output_type": "stream",
     "text": [
      "   Variable      N      Mean        SD        SE  95% Conf.  Interval\n",
      "0      proR  146.0  0.110863  0.110622  0.009155   0.092768  0.128958\n",
      "1      proU   96.0  0.102281  0.128809  0.013146   0.076182  0.128380\n",
      "2  combined  242.0  0.107459  0.117986  0.007584   0.092518  0.122399\n",
      "------\n",
      "            Independent t-test   results\n",
      "0  Difference (proR - proU) =     0.0086\n",
      "1        Degrees of freedom =   240.0000\n",
      "2                         t =     0.5527\n",
      "3     Two side test p value =     0.5810\n",
      "4    Difference < 0 p value =     0.7095\n",
      "5    Difference > 0 p value =     0.2905\n",
      "6                 Cohen's d =     0.0726\n",
      "7                 Hedge's g =     0.0724\n",
      "8            Glass's delta1 =     0.0776\n",
      "9          Point-Biserial r =     0.0357\n"
     ]
    },
    {
     "name": "stderr",
     "output_type": "stream",
     "text": [
      "/home/coder/.local/lib/python3.9/site-packages/researchpy/ttest.py:38: FutureWarning: The series.append method is deprecated and will be removed from pandas in a future version. Use pandas.concat instead.\n",
      "  groups = group1.append(group2, ignore_index= True)\n"
     ]
    }
   ],
   "source": [
    "# t-test: difference in positive sentiment scores\n",
    "summary, results = rp.ttest(group1= dk_comments['tweets_sent_pos'][dk_comments['pro'] == 'ProR'], group1_name= \"proR\",\n",
    "                            group2= dk_comments['tweets_sent_pos'][dk_comments['pro'] == 'ProU'], group2_name= \"proU\")\n",
    "\n",
    "print(summary)\n",
    "print('------')\n",
    "print(results)\n",
    "\n",
    "# the mean positive sentiment score for proR, M= 0.1109 (0.0928, 0.1290), does not statistically differ from proU, M= 0.1023 (0.0762, 0.1284); t(240)= 0.5527, p > 0.05."
   ]
  },
  {
   "cell_type": "code",
   "execution_count": 18,
   "id": "fd62642b",
   "metadata": {},
   "outputs": [
    {
     "name": "stdout",
     "output_type": "stream",
     "text": [
      "   Variable      N      Mean        SD        SE  95% Conf.  Interval\n",
      "0      proR  146.0  0.119027  0.093668  0.007752   0.103706  0.134349\n",
      "1      proU   96.0  0.090479  0.142897  0.014584   0.061526  0.119433\n",
      "2  combined  242.0  0.107702  0.116292  0.007476   0.092977  0.122428\n",
      "------\n",
      "            Independent t-test   results\n",
      "0  Difference (proR - proU) =     0.0285\n",
      "1        Degrees of freedom =   240.0000\n",
      "2                         t =     1.8780\n",
      "3     Two side test p value =     0.0616\n",
      "4    Difference < 0 p value =     0.9692\n",
      "5    Difference > 0 p value =     0.0308\n",
      "6                 Cohen's d =     0.2468\n",
      "7                 Hedge's g =     0.2460\n",
      "8            Glass's delta1 =     0.3048\n",
      "9          Point-Biserial r =     0.1203\n"
     ]
    },
    {
     "name": "stderr",
     "output_type": "stream",
     "text": [
      "/home/coder/.local/lib/python3.9/site-packages/researchpy/ttest.py:38: FutureWarning: The series.append method is deprecated and will be removed from pandas in a future version. Use pandas.concat instead.\n",
      "  groups = group1.append(group2, ignore_index= True)\n"
     ]
    }
   ],
   "source": [
    "# t-test: difference in negative sentiment scores\n",
    "summary, results = rp.ttest(group1= dk_comments['tweets_sent_neg'][dk_comments['pro'] == 'ProR'], group1_name= \"proR\",\n",
    "                            group2= dk_comments['tweets_sent_neg'][dk_comments['pro'] == 'ProU'], group2_name= \"proU\")\n",
    "\n",
    "print(summary)\n",
    "print('------')\n",
    "print(results)\n",
    "\n",
    "# the mean negative sentiment score for proR, M= 0.1190 (0.1037, 0.1343), does not statistically differ from proU, M= 0.0905 (0.0615, 0.1194); t(240)= 1.8780, p < 0.05."
   ]
  },
  {
   "cell_type": "code",
   "execution_count": 43,
   "id": "09a085b9",
   "metadata": {},
   "outputs": [
    {
     "name": "stdout",
     "output_type": "stream",
     "text": [
      "   Variable      N      Mean        SD        SE  95% Conf.  Interval\n",
      "0      proR  146.0 -0.020210  0.540547  0.044736  -0.108629  0.068209\n",
      "1      proU   96.0  0.060452  0.448674  0.045793  -0.030458  0.151362\n",
      "2  combined  242.0  0.011788  0.506673  0.032570  -0.052370  0.075947\n",
      "------\n",
      "            Independent t-test   results\n",
      "0  Difference (proR - proU) =    -0.0807\n",
      "1        Degrees of freedom =   240.0000\n",
      "2                         t =    -1.2128\n",
      "3     Two side test p value =     0.2264\n",
      "4    Difference < 0 p value =     0.1132\n",
      "5    Difference > 0 p value =     0.8868\n",
      "6                 Cohen's d =    -0.1594\n",
      "7                 Hedge's g =    -0.1589\n",
      "8            Glass's delta1 =    -0.1492\n",
      "9          Point-Biserial r =    -0.0780\n"
     ]
    },
    {
     "name": "stderr",
     "output_type": "stream",
     "text": [
      "/home/coder/.local/lib/python3.9/site-packages/researchpy/ttest.py:38: FutureWarning: The series.append method is deprecated and will be removed from pandas in a future version. Use pandas.concat instead.\n",
      "  groups = group1.append(group2, ignore_index= True)\n"
     ]
    }
   ],
   "source": [
    "# t-test: difference in compound scores\n",
    "summary, results = rp.ttest(group1= dk_comments['compound'][dk_comments['pro'] == 'ProR'].astype(float), group1_name= \"proR\",\n",
    "                            group2= dk_comments['compound'][dk_comments['pro'] == 'ProU'].astype(float), group2_name= \"proU\")\n",
    "\n",
    "print(summary)\n",
    "print('------')\n",
    "print(results)\n",
    "\n",
    "# the mean compound score for proR, M= -0.0202 (-0.1086, 0.0682), does not statistically differ from proU, M= 0.0605 (-0.0305, 0.1514); t(240)= -1.2128, p > 0.05"
   ]
  },
  {
   "cell_type": "markdown",
   "id": "3ed013a9",
   "metadata": {},
   "source": [
    "## Danish both\n"
   ]
  },
  {
   "cell_type": "code",
   "execution_count": 8,
   "id": "257e28d7",
   "metadata": {},
   "outputs": [
    {
     "name": "stdout",
     "output_type": "stream",
     "text": [
      "   Variable      N      Mean        SD        SE  95% Conf.  Interval\n",
      "0      proR  148.0  0.119622  0.093268  0.007667   0.104471  0.134773\n",
      "1      proU  112.0  0.081777  0.136175  0.012867   0.056279  0.107274\n",
      "2  combined  260.0  0.103319  0.115053  0.007135   0.089269  0.117370\n",
      "------\n",
      "            Independent t-test   results\n",
      "0  Difference (proR - proU) =     0.0378\n",
      "1        Degrees of freedom =   258.0000\n",
      "2                         t =     2.6570\n",
      "3     Two side test p value =     0.0084\n",
      "4    Difference < 0 p value =     0.9958\n",
      "5    Difference > 0 p value =     0.0042\n",
      "6                 Cohen's d =     0.3328\n",
      "7                 Hedge's g =     0.3318\n",
      "8            Glass's delta1 =     0.4058\n",
      "9          Point-Biserial r =     0.1632\n"
     ]
    },
    {
     "name": "stderr",
     "output_type": "stream",
     "text": [
      "/home/coder/.local/lib/python3.9/site-packages/researchpy/ttest.py:38: FutureWarning: The series.append method is deprecated and will be removed from pandas in a future version. Use pandas.concat instead.\n",
      "  groups = group1.append(group2, ignore_index= True)\n"
     ]
    }
   ],
   "source": [
    "# t-test: difference in negative sentiment scores\n",
    "summary, results = rp.ttest(group1= dk_tweets_and_comments['tweets_sent_neg'][dk_tweets_and_comments['pro'] == 'ProR'], group1_name= \"proR\",\n",
    "                            group2= dk_tweets_and_comments['tweets_sent_neg'][dk_tweets_and_comments['pro'] == 'ProU'], group2_name= \"proU\")\n",
    "\n",
    "print(summary)\n",
    "print('------')\n",
    "print(results)"
   ]
  },
  {
   "cell_type": "code",
   "execution_count": 9,
   "id": "bdd00c40",
   "metadata": {},
   "outputs": [
    {
     "name": "stdout",
     "output_type": "stream",
     "text": [
      "   Variable      N      Mean        SD        SE  95% Conf.  Interval\n",
      "0      proR  148.0  0.109365  0.110616  0.009093   0.091396  0.127334\n",
      "1      proU  112.0  0.087670  0.124469  0.011761   0.064364  0.110975\n",
      "2  combined  260.0  0.100019  0.117048  0.007259   0.085725  0.114313\n",
      "------\n",
      "            Independent t-test   results\n",
      "0  Difference (proR - proU) =     0.0217\n",
      "1        Degrees of freedom =   258.0000\n",
      "2                         t =     1.4834\n",
      "3     Two side test p value =     0.1392\n",
      "4    Difference < 0 p value =     0.9304\n",
      "5    Difference > 0 p value =     0.0696\n",
      "6                 Cohen's d =     0.1858\n",
      "7                 Hedge's g =     0.1852\n",
      "8            Glass's delta1 =     0.1961\n",
      "9          Point-Biserial r =     0.0920\n"
     ]
    },
    {
     "name": "stderr",
     "output_type": "stream",
     "text": [
      "/home/coder/.local/lib/python3.9/site-packages/researchpy/ttest.py:38: FutureWarning: The series.append method is deprecated and will be removed from pandas in a future version. Use pandas.concat instead.\n",
      "  groups = group1.append(group2, ignore_index= True)\n"
     ]
    }
   ],
   "source": [
    "# t-test: difference in positive sentiment scores\n",
    "summary, results = rp.ttest(group1= dk_tweets_and_comments['tweets_sent_pos'][dk_tweets_and_comments['pro'] == 'ProR'], group1_name= \"proR\",\n",
    "                            group2= dk_tweets_and_comments['tweets_sent_pos'][dk_tweets_and_comments['pro'] == 'ProU'], group2_name= \"proU\")\n",
    "\n",
    "print(summary)\n",
    "print('------')\n",
    "print(results)"
   ]
  },
  {
   "cell_type": "code",
   "execution_count": 44,
   "id": "b470b3ec",
   "metadata": {},
   "outputs": [
    {
     "name": "stdout",
     "output_type": "stream",
     "text": [
      "   Variable      N      Mean        SD        SE  95% Conf.  Interval\n",
      "0      proR  148.0 -0.029359  0.542566  0.044599  -0.117497  0.058778\n",
      "1      proU  112.0  0.036012  0.425824  0.040237  -0.043720  0.115743\n",
      "2  combined  260.0 -0.001200  0.495825  0.030750  -0.061751  0.059352\n",
      "------\n",
      "            Independent t-test   results\n",
      "0  Difference (proR - proU) =    -0.0654\n",
      "1        Degrees of freedom =   258.0000\n",
      "2                         t =    -1.0529\n",
      "3     Two side test p value =     0.2934\n",
      "4    Difference < 0 p value =     0.1467\n",
      "5    Difference > 0 p value =     0.8533\n",
      "6                 Cohen's d =    -0.1319\n",
      "7                 Hedge's g =    -0.1315\n",
      "8            Glass's delta1 =    -0.1205\n",
      "9          Point-Biserial r =    -0.0654\n"
     ]
    },
    {
     "name": "stderr",
     "output_type": "stream",
     "text": [
      "/home/coder/.local/lib/python3.9/site-packages/researchpy/ttest.py:38: FutureWarning: The series.append method is deprecated and will be removed from pandas in a future version. Use pandas.concat instead.\n",
      "  groups = group1.append(group2, ignore_index= True)\n"
     ]
    }
   ],
   "source": [
    "# t-test: difference in compound scores\n",
    "summary, results = rp.ttest(group1= dk_tweets_and_comments['compound'][dk_tweets_and_comments['pro'] == 'ProR'].astype(float), group1_name= \"proR\",\n",
    "                            group2= dk_tweets_and_comments['compound'][dk_tweets_and_comments['pro'] == 'ProU'].astype(float), group2_name= \"proU\")\n",
    "\n",
    "print(summary)\n",
    "print('------')\n",
    "print(results)\n",
    "\n",
    "# the mean compound score for proR, M= -0.0294 (-0.1175, 0.0588), does not statistically differ from proU, M= 0.0360 (-0.0437, 0.1157); t(258)= 0.2934, p > 0.05"
   ]
  },
  {
   "cell_type": "markdown",
   "id": "9c503961",
   "metadata": {},
   "source": [
    "## Norwegian"
   ]
  },
  {
   "cell_type": "code",
   "execution_count": 19,
   "id": "b87ff87a",
   "metadata": {},
   "outputs": [
    {
     "name": "stdout",
     "output_type": "stream",
     "text": [
      "   Variable     N  Mean   SD   SE  95% Conf.  Interval\n",
      "0      proR   2.0   0.0  0.0  0.0        NaN       NaN\n",
      "1      proU  10.0   0.0  0.0  0.0        NaN       NaN\n",
      "2  combined  12.0   0.0  0.0  0.0        NaN       NaN\n",
      "------\n",
      "            Independent t-test  results\n",
      "0  Difference (proR - proU) =       0.0\n",
      "1        Degrees of freedom =      10.0\n",
      "2                         t =       NaN\n",
      "3     Two side test p value =       NaN\n",
      "4    Difference < 0 p value =       NaN\n",
      "5    Difference > 0 p value =       NaN\n",
      "6                 Cohen's d =       NaN\n",
      "7                 Hedge's g =       NaN\n",
      "8            Glass's delta1 =       NaN\n",
      "9          Point-Biserial r =       NaN\n"
     ]
    },
    {
     "name": "stderr",
     "output_type": "stream",
     "text": [
      "/home/coder/.local/lib/python3.9/site-packages/researchpy/ttest.py:38: FutureWarning: The series.append method is deprecated and will be removed from pandas in a future version. Use pandas.concat instead.\n",
      "  groups = group1.append(group2, ignore_index= True)\n",
      "/home/coder/.local/lib/python3.9/site-packages/researchpy/ttest.py:59: RuntimeWarning: invalid value encountered in double_scalars\n",
      "  d = (group1.mean() - group2.mean()) / numpy.sqrt(((group1.count() - 1) * group1.std()**2 + (group2.count() - 1) * group2.std()**2) / (group1.count() + group2.count() - 2))\n",
      "/home/coder/.local/lib/python3.9/site-packages/researchpy/ttest.py:63: RuntimeWarning: invalid value encountered in double_scalars\n",
      "  cles = 0 - abs(group1.mean() - group2.mean()) / numpy.sqrt(group1.var() + group2.var())\n",
      "/home/coder/.local/lib/python3.9/site-packages/researchpy/ttest.py:70: RuntimeWarning: invalid value encountered in double_scalars\n",
      "  delta = (group1.mean() - group2.mean()) / group1.std()\n",
      "/home/coder/.local/lib/python3.9/site-packages/scipy/stats/_distn_infrastructure.py:2162: RuntimeWarning: invalid value encountered in multiply\n",
      "  lower_bound = _a * scale + loc\n",
      "/home/coder/.local/lib/python3.9/site-packages/scipy/stats/_distn_infrastructure.py:2163: RuntimeWarning: invalid value encountered in multiply\n",
      "  upper_bound = _b * scale + loc\n"
     ]
    }
   ],
   "source": [
    "# t-test: difference in positive sentiment scores\n",
    "summary, results = rp.ttest(group1= no['tweets_sent_pos'][no['pro'] == 'ProR'], group1_name= \"proR\",\n",
    "                            group2= no['tweets_sent_pos'][no['pro'] == 'ProU'], group2_name= \"proU\")\n",
    "\n",
    "print(summary)\n",
    "print('------')\n",
    "print(results)\n",
    "\n",
    "# only tweets with pos score of 0"
   ]
  },
  {
   "cell_type": "code",
   "execution_count": 20,
   "id": "673f74fe",
   "metadata": {},
   "outputs": [
    {
     "name": "stdout",
     "output_type": "stream",
     "text": [
      "   Variable     N    Mean        SD        SE  95% Conf.  Interval\n",
      "0      proR   2.0  0.0000  0.000000  0.000000        NaN       NaN\n",
      "1      proU  10.0  0.0324  0.057500  0.018183  -0.008733  0.073533\n",
      "2  combined  12.0  0.0270  0.053518  0.015449  -0.007004  0.061004\n",
      "------\n",
      "            Independent t-test  results\n",
      "0  Difference (proR - proU) =   -0.0324\n",
      "1        Degrees of freedom =   10.0000\n",
      "2                         t =   -0.7668\n",
      "3     Two side test p value =    0.4609\n",
      "4    Difference < 0 p value =    0.2305\n",
      "5    Difference > 0 p value =    0.7695\n",
      "6                 Cohen's d =   -0.5940\n",
      "7                 Hedge's g =   -0.5483\n",
      "8            Glass's delta1 =      -inf\n",
      "9          Point-Biserial r =   -0.2357\n"
     ]
    },
    {
     "name": "stderr",
     "output_type": "stream",
     "text": [
      "/home/coder/.local/lib/python3.9/site-packages/researchpy/ttest.py:38: FutureWarning: The series.append method is deprecated and will be removed from pandas in a future version. Use pandas.concat instead.\n",
      "  groups = group1.append(group2, ignore_index= True)\n",
      "/home/coder/.local/lib/python3.9/site-packages/researchpy/ttest.py:70: RuntimeWarning: divide by zero encountered in double_scalars\n",
      "  delta = (group1.mean() - group2.mean()) / group1.std()\n",
      "/home/coder/.local/lib/python3.9/site-packages/scipy/stats/_distn_infrastructure.py:2162: RuntimeWarning: invalid value encountered in multiply\n",
      "  lower_bound = _a * scale + loc\n",
      "/home/coder/.local/lib/python3.9/site-packages/scipy/stats/_distn_infrastructure.py:2163: RuntimeWarning: invalid value encountered in multiply\n",
      "  upper_bound = _b * scale + loc\n"
     ]
    }
   ],
   "source": [
    "# t-test: difference in negative sentiment scores\n",
    "summary, results = rp.ttest(group1= no['tweets_sent_neg'][no['pro'] == 'ProR'], group1_name= \"proR\",\n",
    "                            group2= no['tweets_sent_neg'][no['pro'] == 'ProU'], group2_name= \"proU\")\n",
    "\n",
    "print(summary)\n",
    "print('------')\n",
    "print(results)\n",
    "\n",
    "# the mean negative sentiment score for proR, M= 0 (NaN, NaN), does not statistically differ from proU, M= 0.0324 (0.0087, 0.0735); t(10)= -0.7668, p > 0.05."
   ]
  },
  {
   "cell_type": "code",
   "execution_count": 39,
   "id": "3a4bce28",
   "metadata": {},
   "outputs": [
    {
     "name": "stdout",
     "output_type": "stream",
     "text": [
      "   Variable     N    Mean        SD        SE  95% Conf.  Interval\n",
      "0      proR   2.0  0.0000  0.000000  0.000000        NaN       NaN\n",
      "1      proU  10.0 -0.0750  0.120761  0.038188  -0.161388  0.011388\n",
      "2  combined  12.0 -0.0625  0.113067  0.032640  -0.134339  0.009339\n",
      "------\n",
      "            Independent t-test  results\n",
      "0  Difference (proR - proU) =    0.0750\n",
      "1        Degrees of freedom =   10.0000\n",
      "2                         t =    0.8452\n",
      "3     Two side test p value =    0.4178\n",
      "4    Difference < 0 p value =    0.7911\n",
      "5    Difference > 0 p value =    0.2089\n",
      "6                 Cohen's d =    0.6547\n",
      "7                 Hedge's g =    0.6043\n",
      "8            Glass's delta1 =       inf\n",
      "9          Point-Biserial r =    0.2582\n"
     ]
    },
    {
     "name": "stderr",
     "output_type": "stream",
     "text": [
      "/home/coder/.local/lib/python3.9/site-packages/researchpy/ttest.py:38: FutureWarning: The series.append method is deprecated and will be removed from pandas in a future version. Use pandas.concat instead.\n",
      "  groups = group1.append(group2, ignore_index= True)\n",
      "/home/coder/.local/lib/python3.9/site-packages/researchpy/ttest.py:70: RuntimeWarning: divide by zero encountered in double_scalars\n",
      "  delta = (group1.mean() - group2.mean()) / group1.std()\n",
      "/home/coder/.local/lib/python3.9/site-packages/scipy/stats/_distn_infrastructure.py:2162: RuntimeWarning: invalid value encountered in multiply\n",
      "  lower_bound = _a * scale + loc\n",
      "/home/coder/.local/lib/python3.9/site-packages/scipy/stats/_distn_infrastructure.py:2163: RuntimeWarning: invalid value encountered in multiply\n",
      "  upper_bound = _b * scale + loc\n"
     ]
    }
   ],
   "source": [
    "# t-test: difference in compound scores\n",
    "summary, results = rp.ttest(group1= no['compound'][no['pro'] == 'ProR'].astype(float), group1_name= \"proR\",\n",
    "                            group2= no['compound'][no['pro'] == 'ProU'].astype(float), group2_name= \"proU\")\n",
    "\n",
    "print(summary)\n",
    "print('------')\n",
    "print(results)\n",
    "\n",
    "# the mean compound score for proR, M= 0.0 (NaN, NaN), does not statistically differ from proU, M= -0.0750 (-0.1614, 0.0114); t(10)= 0.8462, p > 0.05"
   ]
  },
  {
   "cell_type": "markdown",
   "id": "837dabfb",
   "metadata": {},
   "source": [
    "## Norwegian comments\n"
   ]
  },
  {
   "cell_type": "code",
   "execution_count": 11,
   "id": "f50c2341",
   "metadata": {},
   "outputs": [
    {
     "name": "stdout",
     "output_type": "stream",
     "text": [
      "   Variable      N      Mean        SD        SE  95% Conf.  Interval\n",
      "0      proR  259.0  0.093494  0.108519  0.006743   0.080216  0.106773\n",
      "1      proU  386.0  0.103896  0.131441  0.006690   0.090742  0.117050\n",
      "2  combined  645.0  0.099719  0.122770  0.004834   0.090227  0.109212\n",
      "------\n",
      "            Independent t-test   results\n",
      "0  Difference (proR - proU) =    -0.0104\n",
      "1        Degrees of freedom =   643.0000\n",
      "2                         t =    -1.0550\n",
      "3     Two side test p value =     0.2918\n",
      "4    Difference < 0 p value =     0.1459\n",
      "5    Difference > 0 p value =     0.8541\n",
      "6                 Cohen's d =    -0.0847\n",
      "7                 Hedge's g =    -0.0846\n",
      "8            Glass's delta1 =    -0.0959\n",
      "9          Point-Biserial r =    -0.0416\n"
     ]
    },
    {
     "name": "stderr",
     "output_type": "stream",
     "text": [
      "/home/coder/.local/lib/python3.9/site-packages/researchpy/ttest.py:38: FutureWarning: The series.append method is deprecated and will be removed from pandas in a future version. Use pandas.concat instead.\n",
      "  groups = group1.append(group2, ignore_index= True)\n"
     ]
    }
   ],
   "source": [
    "# t-test: difference in positive sentiment scores\n",
    "summary, results = rp.ttest(group1= no_comments['tweets_sent_pos'][no_comments['pro'] == 'ProR'], group1_name= \"proR\",\n",
    "                            group2= no_comments['tweets_sent_pos'][no_comments['pro'] == 'ProU'], group2_name= \"proU\")\n",
    "\n",
    "print(summary)\n",
    "print('------')\n",
    "print(results)\n",
    "\n",
    "# the mean positive sentiment score for proR, M= 0.0935 (0.0802, 0.1068), does not statistically differ from proU, M= 0.1039 (0.0907, 0.1171); t(643)= -1.0550, p > 0.05."
   ]
  },
  {
   "cell_type": "code",
   "execution_count": 12,
   "id": "1b282c54",
   "metadata": {},
   "outputs": [
    {
     "name": "stdout",
     "output_type": "stream",
     "text": [
      "   Variable      N      Mean        SD        SE  95% Conf.  Interval\n",
      "0      proR  259.0  0.101220  0.118660  0.007373   0.086701  0.115739\n",
      "1      proU  386.0  0.104510  0.122668  0.006244   0.092235  0.116786\n",
      "2  combined  645.0  0.103189  0.120992  0.004764   0.093834  0.112544\n",
      "------\n",
      "            Independent t-test   results\n",
      "0  Difference (proR - proU) =    -0.0033\n",
      "1        Degrees of freedom =   643.0000\n",
      "2                         t =    -0.3383\n",
      "3     Two side test p value =     0.7352\n",
      "4    Difference < 0 p value =     0.3676\n",
      "5    Difference > 0 p value =     0.6324\n",
      "6                 Cohen's d =    -0.0272\n",
      "7                 Hedge's g =    -0.0271\n",
      "8            Glass's delta1 =    -0.0277\n",
      "9          Point-Biserial r =    -0.0133\n"
     ]
    },
    {
     "name": "stderr",
     "output_type": "stream",
     "text": [
      "/home/coder/.local/lib/python3.9/site-packages/researchpy/ttest.py:38: FutureWarning: The series.append method is deprecated and will be removed from pandas in a future version. Use pandas.concat instead.\n",
      "  groups = group1.append(group2, ignore_index= True)\n"
     ]
    }
   ],
   "source": [
    "# t-test: difference in negative sentiment scores\n",
    "summary, results = rp.ttest(group1= no_comments['tweets_sent_neg'][no_comments['pro'] == 'ProR'], group1_name= \"proR\",\n",
    "                            group2= no_comments['tweets_sent_neg'][no_comments['pro'] == 'ProU'], group2_name= \"proU\")\n",
    "\n",
    "print(summary)\n",
    "print('------')\n",
    "print(results)\n",
    "\n",
    "# the mean negative sentiment score for proR, M= 0.1012 (0.0867, 0.1157), does not statistically differ from proU, M= 0.1045 (0.0922, 0.1168); t(643)= -0.3383, p > 0.05."
   ]
  },
  {
   "cell_type": "code",
   "execution_count": 40,
   "id": "a02cbbb0",
   "metadata": {},
   "outputs": [
    {
     "name": "stdout",
     "output_type": "stream",
     "text": [
      "   Variable      N      Mean        SD        SE  95% Conf.  Interval\n",
      "0      proR  259.0 -0.024086  0.485059  0.030140  -0.083438  0.035266\n",
      "1      proU  386.0 -0.038925  0.484784  0.024675  -0.087440  0.009589\n",
      "2  combined  645.0 -0.032967  0.484572  0.019080  -0.070433  0.004500\n",
      "------\n",
      "            Independent t-test   results\n",
      "0  Difference (proR - proU) =     0.0148\n",
      "1        Degrees of freedom =   643.0000\n",
      "2                         t =     0.3810\n",
      "3     Two side test p value =     0.7033\n",
      "4    Difference < 0 p value =     0.6483\n",
      "5    Difference > 0 p value =     0.3517\n",
      "6                 Cohen's d =     0.0306\n",
      "7                 Hedge's g =     0.0306\n",
      "8            Glass's delta1 =     0.0306\n",
      "9          Point-Biserial r =     0.0150\n"
     ]
    },
    {
     "name": "stderr",
     "output_type": "stream",
     "text": [
      "/home/coder/.local/lib/python3.9/site-packages/researchpy/ttest.py:38: FutureWarning: The series.append method is deprecated and will be removed from pandas in a future version. Use pandas.concat instead.\n",
      "  groups = group1.append(group2, ignore_index= True)\n"
     ]
    }
   ],
   "source": [
    "# t-test: difference in compound scores\n",
    "summary, results = rp.ttest(group1= no_comments['compound'][no_comments['pro'] == 'ProR'].astype(float), group1_name= \"proR\",\n",
    "                            group2= no_comments['compound'][no_comments['pro'] == 'ProU'].astype(float), group2_name= \"proU\")\n",
    "\n",
    "print(summary)\n",
    "print('------')\n",
    "print(results)\n",
    "\n",
    "# the mean compound score for proR, M= -0.0241 (-0.0834, 0.0353), does not statistically differ from proU, M= -0.0389 (-0.0874, 0.0010); t(643)= 0.3810, p > 0.05"
   ]
  },
  {
   "cell_type": "markdown",
   "id": "adc59133",
   "metadata": {},
   "source": [
    "## Norwegian both\n"
   ]
  },
  {
   "cell_type": "code",
   "execution_count": 5,
   "id": "001717b8",
   "metadata": {},
   "outputs": [
    {
     "name": "stdout",
     "output_type": "stream",
     "text": [
      "   Variable      N      Mean        SD        SE  95% Conf.  Interval\n",
      "0      proR  261.0  0.100444  0.118533  0.007337   0.085997  0.114892\n",
      "1      proU  396.0  0.102689  0.121943  0.006128   0.090642  0.114737\n",
      "2  combined  657.0  0.101798  0.120514  0.004702   0.092565  0.111030\n",
      "------\n",
      "            Independent t-test   results\n",
      "0  Difference (proR - proU) =    -0.0022\n",
      "1        Degrees of freedom =   655.0000\n",
      "2                         t =    -0.2335\n",
      "3     Two side test p value =     0.8155\n",
      "4    Difference < 0 p value =     0.4077\n",
      "5    Difference > 0 p value =     0.5923\n",
      "6                 Cohen's d =    -0.0186\n",
      "7                 Hedge's g =    -0.0186\n",
      "8            Glass's delta1 =    -0.0189\n",
      "9          Point-Biserial r =    -0.0091\n"
     ]
    },
    {
     "name": "stderr",
     "output_type": "stream",
     "text": [
      "/home/coder/.local/lib/python3.9/site-packages/researchpy/ttest.py:38: FutureWarning: The series.append method is deprecated and will be removed from pandas in a future version. Use pandas.concat instead.\n",
      "  groups = group1.append(group2, ignore_index= True)\n"
     ]
    }
   ],
   "source": [
    "# t-test: difference in negative sentiment scores\n",
    "summary, results = rp.ttest(group1= no_tweets_and_comments['tweets_sent_neg'][no_tweets_and_comments['pro'] == 'ProR'], group1_name= \"proR\",\n",
    "                            group2= no_tweets_and_comments['tweets_sent_neg'][no_tweets_and_comments['pro'] == 'ProU'], group2_name= \"proU\")\n",
    "\n",
    "print(summary)\n",
    "print('------')\n",
    "print(results)"
   ]
  },
  {
   "cell_type": "code",
   "execution_count": 6,
   "id": "5dfebbe4",
   "metadata": {},
   "outputs": [
    {
     "name": "stdout",
     "output_type": "stream",
     "text": [
      "   Variable      N      Mean        SD        SE  95% Conf.  Interval\n",
      "0      proR  261.0  0.092778  0.108409  0.006710   0.079564  0.105991\n",
      "1      proU  396.0  0.101273  0.130789  0.006572   0.088351  0.114194\n",
      "2  combined  657.0  0.097898  0.122374  0.004774   0.088523  0.107273\n",
      "------\n",
      "            Independent t-test   results\n",
      "0  Difference (proR - proU) =    -0.0085\n",
      "1        Degrees of freedom =   655.0000\n",
      "2                         t =    -0.8705\n",
      "3     Two side test p value =     0.3843\n",
      "4    Difference < 0 p value =     0.1922\n",
      "5    Difference > 0 p value =     0.8078\n",
      "6                 Cohen's d =    -0.0694\n",
      "7                 Hedge's g =    -0.0693\n",
      "8            Glass's delta1 =    -0.0784\n",
      "9          Point-Biserial r =    -0.0340\n"
     ]
    },
    {
     "name": "stderr",
     "output_type": "stream",
     "text": [
      "/home/coder/.local/lib/python3.9/site-packages/researchpy/ttest.py:38: FutureWarning: The series.append method is deprecated and will be removed from pandas in a future version. Use pandas.concat instead.\n",
      "  groups = group1.append(group2, ignore_index= True)\n"
     ]
    }
   ],
   "source": [
    "# t-test: difference in positive sentiment scores\n",
    "summary, results = rp.ttest(group1= no_tweets_and_comments['tweets_sent_pos'][no_tweets_and_comments['pro'] == 'ProR'], group1_name= \"proR\",\n",
    "                            group2= no_tweets_and_comments['tweets_sent_pos'][no_tweets_and_comments['pro'] == 'ProU'], group2_name= \"proU\")\n",
    "\n",
    "print(summary)\n",
    "print('------')\n",
    "print(results)"
   ]
  },
  {
   "cell_type": "code",
   "execution_count": 41,
   "id": "7f77f806",
   "metadata": {},
   "outputs": [
    {
     "name": "stdout",
     "output_type": "stream",
     "text": [
      "   Variable      N      Mean        SD        SE  95% Conf.  Interval\n",
      "0      proR  261.0 -0.023901  0.483194  0.029909  -0.082796  0.034993\n",
      "1      proU  396.0 -0.039836  0.478989  0.024070  -0.087158  0.007485\n",
      "2  combined  657.0 -0.033506  0.480359  0.018741  -0.070305  0.003293\n",
      "------\n",
      "            Independent t-test   results\n",
      "0  Difference (proR - proU) =     0.0159\n",
      "1        Degrees of freedom =   655.0000\n",
      "2                         t =     0.4158\n",
      "3     Two side test p value =     0.6777\n",
      "4    Difference < 0 p value =     0.6612\n",
      "5    Difference > 0 p value =     0.3388\n",
      "6                 Cohen's d =     0.0332\n",
      "7                 Hedge's g =     0.0331\n",
      "8            Glass's delta1 =     0.0330\n",
      "9          Point-Biserial r =     0.0162\n"
     ]
    },
    {
     "name": "stderr",
     "output_type": "stream",
     "text": [
      "/home/coder/.local/lib/python3.9/site-packages/researchpy/ttest.py:38: FutureWarning: The series.append method is deprecated and will be removed from pandas in a future version. Use pandas.concat instead.\n",
      "  groups = group1.append(group2, ignore_index= True)\n"
     ]
    }
   ],
   "source": [
    "# t-test: difference in compound scores\n",
    "summary, results = rp.ttest(group1= no_tweets_and_comments['compound'][no_tweets_and_comments['pro'] == 'ProR'].astype(float), group1_name= \"proR\",\n",
    "                            group2= no_tweets_and_comments['compound'][no_tweets_and_comments['pro'] == 'ProU'].astype(float), group2_name= \"proU\")\n",
    "\n",
    "print(summary)\n",
    "print('------')\n",
    "print(results)\n",
    "\n",
    "# the mean compound score for proR, M= -0.0239 (-0.0828, 0.0350), does not statistically differ from proU, M= -0.0398 (-0.0872, 0.0075); t(655)= 0.4158, p > 0.05"
   ]
  },
  {
   "cell_type": "markdown",
   "id": "847b1d8d",
   "metadata": {},
   "source": [
    "## Finnish"
   ]
  },
  {
   "cell_type": "code",
   "execution_count": 17,
   "id": "5e8c61e4",
   "metadata": {},
   "outputs": [
    {
     "name": "stdout",
     "output_type": "stream",
     "text": [
      "   Variable    N  Mean   SD   SE  95% Conf.  Interval\n",
      "0      proR  2.0   0.0  0.0  0.0        NaN       NaN\n",
      "1      proU  3.0   0.0  0.0  0.0        NaN       NaN\n",
      "2  combined  5.0   0.0  0.0  0.0        NaN       NaN\n",
      "------\n",
      "            Independent t-test  results\n",
      "0  Difference (proR - proU) =       0.0\n",
      "1        Degrees of freedom =       3.0\n",
      "2                         t =       NaN\n",
      "3     Two side test p value =       NaN\n",
      "4    Difference < 0 p value =       NaN\n",
      "5    Difference > 0 p value =       NaN\n",
      "6                 Cohen's d =       NaN\n",
      "7                 Hedge's g =       NaN\n",
      "8            Glass's delta1 =       NaN\n",
      "9          Point-Biserial r =       NaN\n"
     ]
    },
    {
     "name": "stderr",
     "output_type": "stream",
     "text": [
      "/home/coder/.local/lib/python3.9/site-packages/researchpy/ttest.py:38: FutureWarning: The series.append method is deprecated and will be removed from pandas in a future version. Use pandas.concat instead.\n",
      "  groups = group1.append(group2, ignore_index= True)\n",
      "/home/coder/.local/lib/python3.9/site-packages/researchpy/ttest.py:59: RuntimeWarning: invalid value encountered in double_scalars\n",
      "  d = (group1.mean() - group2.mean()) / numpy.sqrt(((group1.count() - 1) * group1.std()**2 + (group2.count() - 1) * group2.std()**2) / (group1.count() + group2.count() - 2))\n",
      "/home/coder/.local/lib/python3.9/site-packages/researchpy/ttest.py:63: RuntimeWarning: invalid value encountered in double_scalars\n",
      "  cles = 0 - abs(group1.mean() - group2.mean()) / numpy.sqrt(group1.var() + group2.var())\n",
      "/home/coder/.local/lib/python3.9/site-packages/researchpy/ttest.py:70: RuntimeWarning: invalid value encountered in double_scalars\n",
      "  delta = (group1.mean() - group2.mean()) / group1.std()\n",
      "/home/coder/.local/lib/python3.9/site-packages/scipy/stats/_distn_infrastructure.py:2162: RuntimeWarning: invalid value encountered in multiply\n",
      "  lower_bound = _a * scale + loc\n",
      "/home/coder/.local/lib/python3.9/site-packages/scipy/stats/_distn_infrastructure.py:2163: RuntimeWarning: invalid value encountered in multiply\n",
      "  upper_bound = _b * scale + loc\n"
     ]
    }
   ],
   "source": [
    "# t-test: difference in positive sentiment scores\n",
    "summary, results = rp.ttest(group1= fi['tweets_sent_pos'][fi['pro'] == 'ProR'], group1_name= \"proR\",\n",
    "                            group2= fi['tweets_sent_pos'][fi['pro'] == 'ProU'], group2_name= \"proU\")\n",
    "\n",
    "print(summary)\n",
    "print('------')\n",
    "print(results)\n",
    "\n",
    "# only tweets with pos score of 0"
   ]
  },
  {
   "cell_type": "code",
   "execution_count": 18,
   "id": "bcbc2f3f",
   "metadata": {},
   "outputs": [
    {
     "name": "stdout",
     "output_type": "stream",
     "text": [
      "   Variable    N  Mean   SD   SE  95% Conf.  Interval\n",
      "0      proR  2.0   0.0  0.0  0.0        NaN       NaN\n",
      "1      proU  3.0   0.0  0.0  0.0        NaN       NaN\n",
      "2  combined  5.0   0.0  0.0  0.0        NaN       NaN\n",
      "------\n",
      "            Independent t-test  results\n",
      "0  Difference (proR - proU) =       0.0\n",
      "1        Degrees of freedom =       3.0\n",
      "2                         t =       NaN\n",
      "3     Two side test p value =       NaN\n",
      "4    Difference < 0 p value =       NaN\n",
      "5    Difference > 0 p value =       NaN\n",
      "6                 Cohen's d =       NaN\n",
      "7                 Hedge's g =       NaN\n",
      "8            Glass's delta1 =       NaN\n",
      "9          Point-Biserial r =       NaN\n"
     ]
    },
    {
     "name": "stderr",
     "output_type": "stream",
     "text": [
      "/home/coder/.local/lib/python3.9/site-packages/researchpy/ttest.py:38: FutureWarning: The series.append method is deprecated and will be removed from pandas in a future version. Use pandas.concat instead.\n",
      "  groups = group1.append(group2, ignore_index= True)\n",
      "/home/coder/.local/lib/python3.9/site-packages/researchpy/ttest.py:59: RuntimeWarning: invalid value encountered in double_scalars\n",
      "  d = (group1.mean() - group2.mean()) / numpy.sqrt(((group1.count() - 1) * group1.std()**2 + (group2.count() - 1) * group2.std()**2) / (group1.count() + group2.count() - 2))\n",
      "/home/coder/.local/lib/python3.9/site-packages/researchpy/ttest.py:63: RuntimeWarning: invalid value encountered in double_scalars\n",
      "  cles = 0 - abs(group1.mean() - group2.mean()) / numpy.sqrt(group1.var() + group2.var())\n",
      "/home/coder/.local/lib/python3.9/site-packages/researchpy/ttest.py:70: RuntimeWarning: invalid value encountered in double_scalars\n",
      "  delta = (group1.mean() - group2.mean()) / group1.std()\n",
      "/home/coder/.local/lib/python3.9/site-packages/scipy/stats/_distn_infrastructure.py:2162: RuntimeWarning: invalid value encountered in multiply\n",
      "  lower_bound = _a * scale + loc\n",
      "/home/coder/.local/lib/python3.9/site-packages/scipy/stats/_distn_infrastructure.py:2163: RuntimeWarning: invalid value encountered in multiply\n",
      "  upper_bound = _b * scale + loc\n"
     ]
    }
   ],
   "source": [
    "# t-test: difference in negative sentiment scores\n",
    "summary, results = rp.ttest(group1= fi['tweets_sent_neg'][fi['pro'] == 'ProR'], group1_name= \"proR\",\n",
    "                            group2= fi['tweets_sent_neg'][fi['pro'] == 'ProU'], group2_name= \"proU\")\n",
    "\n",
    "print(summary)\n",
    "print('------')\n",
    "print(results)\n",
    "\n",
    "# only tweets with neg score of 0"
   ]
  },
  {
   "cell_type": "code",
   "execution_count": 38,
   "id": "82403769",
   "metadata": {},
   "outputs": [
    {
     "name": "stdout",
     "output_type": "stream",
     "text": [
      "   Variable    N  Mean   SD   SE  95% Conf.  Interval\n",
      "0      proR  2.0   0.0  0.0  0.0        NaN       NaN\n",
      "1      proU  3.0   0.0  0.0  0.0        NaN       NaN\n",
      "2  combined  5.0   0.0  0.0  0.0        NaN       NaN\n",
      "------\n",
      "            Independent t-test  results\n",
      "0  Difference (proR - proU) =       0.0\n",
      "1        Degrees of freedom =       3.0\n",
      "2                         t =       NaN\n",
      "3     Two side test p value =       NaN\n",
      "4    Difference < 0 p value =       NaN\n",
      "5    Difference > 0 p value =       NaN\n",
      "6                 Cohen's d =       NaN\n",
      "7                 Hedge's g =       NaN\n",
      "8            Glass's delta1 =       NaN\n",
      "9          Point-Biserial r =       NaN\n"
     ]
    },
    {
     "name": "stderr",
     "output_type": "stream",
     "text": [
      "/home/coder/.local/lib/python3.9/site-packages/researchpy/ttest.py:38: FutureWarning: The series.append method is deprecated and will be removed from pandas in a future version. Use pandas.concat instead.\n",
      "  groups = group1.append(group2, ignore_index= True)\n",
      "/home/coder/.local/lib/python3.9/site-packages/researchpy/ttest.py:59: RuntimeWarning: invalid value encountered in double_scalars\n",
      "  d = (group1.mean() - group2.mean()) / numpy.sqrt(((group1.count() - 1) * group1.std()**2 + (group2.count() - 1) * group2.std()**2) / (group1.count() + group2.count() - 2))\n",
      "/home/coder/.local/lib/python3.9/site-packages/researchpy/ttest.py:63: RuntimeWarning: invalid value encountered in double_scalars\n",
      "  cles = 0 - abs(group1.mean() - group2.mean()) / numpy.sqrt(group1.var() + group2.var())\n",
      "/home/coder/.local/lib/python3.9/site-packages/researchpy/ttest.py:70: RuntimeWarning: invalid value encountered in double_scalars\n",
      "  delta = (group1.mean() - group2.mean()) / group1.std()\n",
      "/home/coder/.local/lib/python3.9/site-packages/scipy/stats/_distn_infrastructure.py:2162: RuntimeWarning: invalid value encountered in multiply\n",
      "  lower_bound = _a * scale + loc\n",
      "/home/coder/.local/lib/python3.9/site-packages/scipy/stats/_distn_infrastructure.py:2163: RuntimeWarning: invalid value encountered in multiply\n",
      "  upper_bound = _b * scale + loc\n"
     ]
    }
   ],
   "source": [
    "# t-test: difference in compound scores\n",
    "summary, results = rp.ttest(group1= fi['compound'][fi['pro'] == 'ProR'].astype(float), group1_name= \"proR\",\n",
    "                            group2= fi['compound'][fi['pro'] == 'ProU'].astype(float), group2_name= \"proU\")\n",
    "\n",
    "print(summary)\n",
    "print('------')\n",
    "print(results)\n",
    "\n",
    "# the mean compound score for proR, M= 0.0 (NaN, NaN), statistically differs from proU, M= 0.0 (NaN, NaN); t(3)= NaN, p = NaN"
   ]
  },
  {
   "cell_type": "markdown",
   "id": "0bfe3c29",
   "metadata": {},
   "source": [
    "## Polish"
   ]
  },
  {
   "cell_type": "code",
   "execution_count": 13,
   "id": "3daacd35",
   "metadata": {},
   "outputs": [
    {
     "name": "stdout",
     "output_type": "stream",
     "text": [
      "   Variable      N      Mean        SD        SE  95% Conf.  Interval\n",
      "0      proR   34.0  0.086647  0.108225  0.018560   0.048885  0.124409\n",
      "1      proU  204.0  0.081632  0.134165  0.009393   0.063111  0.100154\n",
      "2  combined  238.0  0.082349  0.130583  0.008464   0.065674  0.099024\n",
      "------\n",
      "            Independent t-test   results\n",
      "0  Difference (proR - proU) =     0.0050\n",
      "1        Degrees of freedom =   236.0000\n",
      "2                         t =     0.2069\n",
      "3     Two side test p value =     0.8363\n",
      "4    Difference < 0 p value =     0.5819\n",
      "5    Difference > 0 p value =     0.4181\n",
      "6                 Cohen's d =     0.0383\n",
      "7                 Hedge's g =     0.0382\n",
      "8            Glass's delta1 =     0.0463\n",
      "9          Point-Biserial r =     0.0135\n"
     ]
    },
    {
     "name": "stderr",
     "output_type": "stream",
     "text": [
      "/home/coder/.local/lib/python3.9/site-packages/researchpy/ttest.py:38: FutureWarning: The series.append method is deprecated and will be removed from pandas in a future version. Use pandas.concat instead.\n",
      "  groups = group1.append(group2, ignore_index= True)\n"
     ]
    }
   ],
   "source": [
    "# t-test: difference in positive sentiment scores\n",
    "summary, results = rp.ttest(group1= pl['tweets_sent_pos'][pl['pro'] == 'ProR'], group1_name= \"proR\",\n",
    "                            group2= pl['tweets_sent_pos'][pl['pro'] == 'ProU'], group2_name= \"proU\")\n",
    "\n",
    "print(summary)\n",
    "print('------')\n",
    "print(results)\n",
    "\n",
    "\n",
    "# current?\n",
    "# the mean positive sentiment score for proR, M= 0.0866 (0.0489, 0.1244), does not statistically differ from proU, M= 0.0816 (0.0631, 0.1002); t(236)= 0.2069, p > 0.05."
   ]
  },
  {
   "cell_type": "code",
   "execution_count": 14,
   "id": "60a7b683",
   "metadata": {},
   "outputs": [
    {
     "name": "stdout",
     "output_type": "stream",
     "text": [
      "   Variable      N      Mean        SD        SE  95% Conf.  Interval\n",
      "0      proR   34.0  0.097000  0.109888  0.018846   0.058658  0.135342\n",
      "1      proU  204.0  0.114392  0.142503  0.009977   0.094720  0.134064\n",
      "2  combined  238.0  0.111908  0.138248  0.008961   0.094254  0.129562\n",
      "------\n",
      "            Independent t-test   results\n",
      "0  Difference (proR - proU) =    -0.0174\n",
      "1        Degrees of freedom =   236.0000\n",
      "2                         t =    -0.6784\n",
      "3     Two side test p value =     0.4982\n",
      "4    Difference < 0 p value =     0.2491\n",
      "5    Difference > 0 p value =     0.7509\n",
      "6                 Cohen's d =    -0.1257\n",
      "7                 Hedge's g =    -0.1253\n",
      "8            Glass's delta1 =    -0.1583\n",
      "9          Point-Biserial r =    -0.0441\n"
     ]
    },
    {
     "name": "stderr",
     "output_type": "stream",
     "text": [
      "/home/coder/.local/lib/python3.9/site-packages/researchpy/ttest.py:38: FutureWarning: The series.append method is deprecated and will be removed from pandas in a future version. Use pandas.concat instead.\n",
      "  groups = group1.append(group2, ignore_index= True)\n"
     ]
    }
   ],
   "source": [
    "# t-test: difference in negative sentiment scores\n",
    "summary, results = rp.ttest(group1= pl['tweets_sent_neg'][pl['pro'] == 'ProR'], group1_name= \"proR\",\n",
    "                            group2= pl['tweets_sent_neg'][pl['pro'] == 'ProU'], group2_name= \"proU\")\n",
    "\n",
    "print(summary)\n",
    "print('------')\n",
    "print(results)\n",
    "\n",
    "# the mean negative sentiment score for proR, M= 0.0970 (0.0587, 0.1353), does not statistically differ from proU, M= 0.1144 (0.0947, 0.1341); t(236)= -0.6784, p > 0.05."
   ]
  },
  {
   "cell_type": "code",
   "execution_count": 47,
   "id": "30f8273e",
   "metadata": {},
   "outputs": [
    {
     "name": "stdout",
     "output_type": "stream",
     "text": [
      "   Variable      N      Mean        SD        SE  95% Conf.  Interval\n",
      "0      proR   34.0 -0.035738  0.512759  0.087937  -0.214648  0.143172\n",
      "1      proU  204.0 -0.154963  0.462616  0.032390  -0.218826 -0.091100\n",
      "2  combined  238.0 -0.137931  0.470817  0.030519  -0.198053 -0.077809\n",
      "------\n",
      "            Independent t-test   results\n",
      "0  Difference (proR - proU) =     0.1192\n",
      "1        Degrees of freedom =   236.0000\n",
      "2                         t =     1.3696\n",
      "3     Two side test p value =     0.1721\n",
      "4    Difference < 0 p value =     0.9139\n",
      "5    Difference > 0 p value =     0.0861\n",
      "6                 Cohen's d =     0.2537\n",
      "7                 Hedge's g =     0.2529\n",
      "8            Glass's delta1 =     0.2325\n",
      "9          Point-Biserial r =     0.0888\n"
     ]
    },
    {
     "name": "stderr",
     "output_type": "stream",
     "text": [
      "/home/coder/.local/lib/python3.9/site-packages/researchpy/ttest.py:38: FutureWarning: The series.append method is deprecated and will be removed from pandas in a future version. Use pandas.concat instead.\n",
      "  groups = group1.append(group2, ignore_index= True)\n"
     ]
    }
   ],
   "source": [
    "# t-test: difference in compound scores\n",
    "summary, results = rp.ttest(group1= pl['compound'][pl['pro'] == 'ProR'].astype(float), group1_name= \"proR\",\n",
    "                            group2= pl['compound'][pl['pro'] == 'ProU'].astype(float), group2_name= \"proU\")\n",
    "\n",
    "print(summary)\n",
    "print('------')\n",
    "print(results)\n",
    "\n",
    "# the mean compound score for proR, M= -0.0357 (-0.2146, 0.1432), does not statistically differ from proU, M= -0.1550 (-0.2188, -0.0911); t(236)= 1.3696, p > 0.05"
   ]
  },
  {
   "cell_type": "markdown",
   "id": "1eca16b5",
   "metadata": {},
   "source": [
    "### Polish comments"
   ]
  },
  {
   "cell_type": "code",
   "execution_count": 21,
   "id": "da86d824",
   "metadata": {},
   "outputs": [
    {
     "name": "stdout",
     "output_type": "stream",
     "text": [
      "   Variable        N      Mean        SD        SE  95% Conf.  Interval\n",
      "0      proR     57.0  0.129842  0.166151  0.022007   0.085756  0.173928\n",
      "1      proU  19921.0  0.116006  0.157866  0.001118   0.113813  0.118198\n",
      "2  combined  19978.0  0.116045  0.157888  0.001117   0.113856  0.118235\n",
      "------\n",
      "            Independent t-test     results\n",
      "0  Difference (proR - proU) =       0.0138\n",
      "1        Degrees of freedom =   19976.0000\n",
      "2                         t =       0.6607\n",
      "3     Two side test p value =       0.5088\n",
      "4    Difference < 0 p value =       0.7456\n",
      "5    Difference > 0 p value =       0.2544\n",
      "6                 Cohen's d =       0.0876\n",
      "7                 Hedge's g =       0.0876\n",
      "8            Glass's delta1 =       0.0833\n",
      "9          Point-Biserial r =       0.0047\n"
     ]
    },
    {
     "name": "stderr",
     "output_type": "stream",
     "text": [
      "/home/coder/.local/lib/python3.9/site-packages/researchpy/ttest.py:38: FutureWarning: The series.append method is deprecated and will be removed from pandas in a future version. Use pandas.concat instead.\n",
      "  groups = group1.append(group2, ignore_index= True)\n"
     ]
    }
   ],
   "source": [
    "# t-test: difference in negative sentiment scores\n",
    "summary, results = rp.ttest(group1= pl_comments['tweets_sent_neg'][pl_comments['pro'] == 'ProR'], group1_name= \"proR\",\n",
    "                            group2= pl_comments['tweets_sent_neg'][pl_comments['pro'] == 'ProU'], group2_name= \"proU\")\n",
    "\n",
    "print(summary)\n",
    "print('------')\n",
    "print(results)\n",
    "\n",
    "# the mean negative sentiment score for proR, M= 0.1298 (0.0858, 0.1739), does not statistically differ from proU, M= 0.1160 (0.1138, 0.1182); t(19976)= 0.6607, p > 0.05."
   ]
  },
  {
   "cell_type": "code",
   "execution_count": 22,
   "id": "f6edb0b6",
   "metadata": {},
   "outputs": [
    {
     "name": "stdout",
     "output_type": "stream",
     "text": [
      "   Variable        N      Mean        SD        SE  95% Conf.  Interval\n",
      "0      proR     57.0  0.091649  0.131647  0.017437   0.056718  0.126580\n",
      "1      proU  19921.0  0.108049  0.151520  0.001074   0.105945  0.110154\n",
      "2  combined  19978.0  0.108003  0.151467  0.001072   0.105902  0.110103\n",
      "------\n",
      "            Independent t-test     results\n",
      "0  Difference (proR - proU) =      -0.0164\n",
      "1        Degrees of freedom =   19976.0000\n",
      "2                         t =      -0.8163\n",
      "3     Two side test p value =       0.4143\n",
      "4    Difference < 0 p value =       0.2072\n",
      "5    Difference > 0 p value =       0.7928\n",
      "6                 Cohen's d =      -0.1083\n",
      "7                 Hedge's g =      -0.1083\n",
      "8            Glass's delta1 =      -0.1246\n",
      "9          Point-Biserial r =      -0.0058\n"
     ]
    },
    {
     "name": "stderr",
     "output_type": "stream",
     "text": [
      "/home/coder/.local/lib/python3.9/site-packages/researchpy/ttest.py:38: FutureWarning: The series.append method is deprecated and will be removed from pandas in a future version. Use pandas.concat instead.\n",
      "  groups = group1.append(group2, ignore_index= True)\n"
     ]
    }
   ],
   "source": [
    "# t-test: difference in positive sentiment scores\n",
    "summary, results = rp.ttest(group1= pl_comments['tweets_sent_pos'][pl_comments['pro'] == 'ProR'], group1_name= \"proR\",\n",
    "                            group2= pl_comments['tweets_sent_pos'][pl_comments['pro'] == 'ProU'], group2_name= \"proU\")\n",
    "\n",
    "print(summary)\n",
    "print('------')\n",
    "print(results)\n",
    "\n",
    "# the mean positive sentiment score for proR, M= 0.0916 (0.0567, 0.1266), does not statistically differ from proU, M= 0.1080 (0.1059, 0.1102); t(19976)= -0.8163, p > 0.05."
   ]
  },
  {
   "cell_type": "code",
   "execution_count": 48,
   "id": "0cf504e9",
   "metadata": {},
   "outputs": [
    {
     "name": "stdout",
     "output_type": "stream",
     "text": [
      "   Variable        N      Mean        SD        SE  95% Conf.  Interval\n",
      "0      proR     57.0 -0.071967  0.523313  0.069315  -0.210820  0.066887\n",
      "1      proU  19921.0 -0.029472  0.470026  0.003330  -0.035999 -0.022944\n",
      "2  combined  19978.0 -0.029593  0.470178  0.003326  -0.036113 -0.023073\n",
      "------\n",
      "            Independent t-test     results\n",
      "0  Difference (proR - proU) =      -0.0425\n",
      "1        Degrees of freedom =   19976.0000\n",
      "2                         t =      -0.6814\n",
      "3     Two side test p value =       0.4956\n",
      "4    Difference < 0 p value =       0.2478\n",
      "5    Difference > 0 p value =       0.7522\n",
      "6                 Cohen's d =      -0.0904\n",
      "7                 Hedge's g =      -0.0904\n",
      "8            Glass's delta1 =      -0.0812\n",
      "9          Point-Biserial r =      -0.0048\n"
     ]
    },
    {
     "name": "stderr",
     "output_type": "stream",
     "text": [
      "/home/coder/.local/lib/python3.9/site-packages/researchpy/ttest.py:38: FutureWarning: The series.append method is deprecated and will be removed from pandas in a future version. Use pandas.concat instead.\n",
      "  groups = group1.append(group2, ignore_index= True)\n"
     ]
    }
   ],
   "source": [
    "# t-test: difference in compound scores\n",
    "summary, results = rp.ttest(group1= pl_comments['compound'][pl_comments['pro'] == 'ProR'].astype(float), group1_name= \"proR\",\n",
    "                            group2= pl_comments['compound'][pl_comments['pro'] == 'ProU'].astype(float), group2_name= \"proU\")\n",
    "\n",
    "print(summary)\n",
    "print('------')\n",
    "print(results)\n",
    "\n",
    "# the mean compound score for proR, M= -0.0720 (-0.2108, 0.0669), does not statistically differ from proU, M= -0.0295 (-0.0360, -0.0229); t(19976)= -0.6814, p > 0.05"
   ]
  },
  {
   "cell_type": "markdown",
   "id": "995a12ca",
   "metadata": {},
   "source": [
    "## Polish both"
   ]
  },
  {
   "cell_type": "code",
   "execution_count": 16,
   "id": "86bcd300",
   "metadata": {},
   "outputs": [
    {
     "name": "stdout",
     "output_type": "stream",
     "text": [
      "   Variable        N      Mean        SD        SE  95% Conf.  Interval\n",
      "0      proR     91.0  0.089780  0.122818  0.012875   0.064202  0.115358\n",
      "1      proU  20125.0  0.107782  0.151374  0.001067   0.105690  0.109873\n",
      "2  combined  20216.0  0.107701  0.151260  0.001064   0.105615  0.109786\n",
      "------\n",
      "            Independent t-test     results\n",
      "0  Difference (proR - proU) =      -0.0180\n",
      "1        Degrees of freedom =   20214.0000\n",
      "2                         t =      -1.1327\n",
      "3     Two side test p value =       0.2573\n",
      "4    Difference < 0 p value =       0.1287\n",
      "5    Difference > 0 p value =       0.8713\n",
      "6                 Cohen's d =      -0.1190\n",
      "7                 Hedge's g =      -0.1190\n",
      "8            Glass's delta1 =      -0.1466\n",
      "9          Point-Biserial r =      -0.0080\n"
     ]
    },
    {
     "name": "stderr",
     "output_type": "stream",
     "text": [
      "/home/coder/.local/lib/python3.9/site-packages/researchpy/ttest.py:38: FutureWarning: The series.append method is deprecated and will be removed from pandas in a future version. Use pandas.concat instead.\n",
      "  groups = group1.append(group2, ignore_index= True)\n"
     ]
    }
   ],
   "source": [
    "# t-test: difference in positive sentiment scores\n",
    "summary, results = rp.ttest(group1= pl_tweets_and_comments['tweets_sent_pos'][pl_tweets_and_comments['pro'] == 'ProR'], group1_name= \"proR\",\n",
    "                            group2= pl_tweets_and_comments['tweets_sent_pos'][pl_tweets_and_comments['pro'] == 'ProU'], group2_name= \"proU\")\n",
    "\n",
    "print(summary)\n",
    "print('------')\n",
    "print(results)"
   ]
  },
  {
   "cell_type": "code",
   "execution_count": 17,
   "id": "b07f6b37",
   "metadata": {},
   "outputs": [
    {
     "name": "stdout",
     "output_type": "stream",
     "text": [
      "   Variable        N      Mean        SD        SE  95% Conf.  Interval\n",
      "0      proR     91.0  0.117571  0.147852  0.015499   0.086780  0.148363\n",
      "1      proU  20125.0  0.115989  0.157715  0.001112   0.113810  0.118168\n",
      "2  combined  20216.0  0.115996  0.157668  0.001109   0.113823  0.118170\n",
      "------\n",
      "            Independent t-test     results\n",
      "0  Difference (proR - proU) =       0.0016\n",
      "1        Degrees of freedom =   20214.0000\n",
      "2                         t =       0.0955\n",
      "3     Two side test p value =       0.9239\n",
      "4    Difference < 0 p value =       0.5380\n",
      "5    Difference > 0 p value =       0.4620\n",
      "6                 Cohen's d =       0.0100\n",
      "7                 Hedge's g =       0.0100\n",
      "8            Glass's delta1 =       0.0107\n",
      "9          Point-Biserial r =       0.0007\n"
     ]
    },
    {
     "name": "stderr",
     "output_type": "stream",
     "text": [
      "/home/coder/.local/lib/python3.9/site-packages/researchpy/ttest.py:38: FutureWarning: The series.append method is deprecated and will be removed from pandas in a future version. Use pandas.concat instead.\n",
      "  groups = group1.append(group2, ignore_index= True)\n"
     ]
    }
   ],
   "source": [
    "# t-test: difference in negative sentiment scores\n",
    "summary, results = rp.ttest(group1= pl_tweets_and_comments['tweets_sent_neg'][pl_tweets_and_comments['pro'] == 'ProR'], group1_name= \"proR\",\n",
    "                            group2= pl_tweets_and_comments['tweets_sent_neg'][pl_tweets_and_comments['pro'] == 'ProU'], group2_name= \"proU\")\n",
    "\n",
    "print(summary)\n",
    "print('------')\n",
    "print(results)"
   ]
  },
  {
   "cell_type": "code",
   "execution_count": 50,
   "id": "fbd29c59",
   "metadata": {},
   "outputs": [
    {
     "name": "stdout",
     "output_type": "stream",
     "text": [
      "   Variable        N      Mean        SD        SE  95% Conf.  Interval\n",
      "0      proR     91.0 -0.058431  0.516831  0.054179  -0.166066  0.049205\n",
      "1      proU  20125.0 -0.030744  0.470108  0.003314  -0.037239 -0.024248\n",
      "2  combined  20216.0 -0.030868  0.470319  0.003308  -0.037352 -0.024385\n",
      "------\n",
      "            Independent t-test     results\n",
      "0  Difference (proR - proU) =      -0.0277\n",
      "1        Degrees of freedom =   20214.0000\n",
      "2                         t =      -0.5603\n",
      "3     Two side test p value =       0.5753\n",
      "4    Difference < 0 p value =       0.2876\n",
      "5    Difference > 0 p value =       0.7124\n",
      "6                 Cohen's d =      -0.0589\n",
      "7                 Hedge's g =      -0.0589\n",
      "8            Glass's delta1 =      -0.0536\n",
      "9          Point-Biserial r =      -0.0039\n"
     ]
    },
    {
     "name": "stderr",
     "output_type": "stream",
     "text": [
      "/home/coder/.local/lib/python3.9/site-packages/researchpy/ttest.py:38: FutureWarning: The series.append method is deprecated and will be removed from pandas in a future version. Use pandas.concat instead.\n",
      "  groups = group1.append(group2, ignore_index= True)\n"
     ]
    }
   ],
   "source": [
    "# t-test: difference in compound scores\n",
    "summary, results = rp.ttest(group1= pl_tweets_and_comments['compound'][pl_tweets_and_comments['pro'] == 'ProR'].astype(float), group1_name= \"proR\",\n",
    "                            group2= pl_tweets_and_comments['compound'][pl_tweets_and_comments['pro'] == 'ProU'].astype(float), group2_name= \"proU\")\n",
    "\n",
    "print(summary)\n",
    "print('------')\n",
    "print(results)\n",
    "\n",
    "# the mean compound score for proR, M= -0.0584 (-0.1661, 0.0492), does not statistically differ from proU, M= -0.0307 (-0.0372, -0.0242); t(20214)= -0.5603, p > 0.05"
   ]
  },
  {
   "cell_type": "markdown",
   "id": "e8068277",
   "metadata": {},
   "source": [
    "## Combined"
   ]
  },
  {
   "cell_type": "code",
   "execution_count": 9,
   "id": "8a5f5257",
   "metadata": {},
   "outputs": [
    {
     "name": "stdout",
     "output_type": "stream",
     "text": [
      "   Variable       N      Mean        SD        SE  95% Conf.  Interval\n",
      "0      proR  5514.0  0.019313  0.066641  0.000897   0.017554  0.021073\n",
      "1      proU  1156.0  0.026300  0.080666  0.002373   0.021645  0.030955\n",
      "2  combined  6670.0  0.020524  0.069319  0.000849   0.018860  0.022188\n",
      "------\n",
      "            Independent t-test    results\n",
      "0  Difference (proR - proU) =     -0.0070\n",
      "1        Degrees of freedom =   6668.0000\n",
      "2                         t =     -3.1179\n",
      "3     Two side test p value =      0.0018\n",
      "4    Difference < 0 p value =      0.0009\n",
      "5    Difference > 0 p value =      0.9991\n",
      "6                 Cohen's d =     -0.1009\n",
      "7                 Hedge's g =     -0.1008\n",
      "8            Glass's delta1 =     -0.1048\n",
      "9          Point-Biserial r =     -0.0382\n"
     ]
    },
    {
     "name": "stderr",
     "output_type": "stream",
     "text": [
      "/home/coder/.local/lib/python3.9/site-packages/researchpy/ttest.py:38: FutureWarning: The series.append method is deprecated and will be removed from pandas in a future version. Use pandas.concat instead.\n",
      "  groups = group1.append(group2, ignore_index= True)\n"
     ]
    }
   ],
   "source": [
    "# t-test: difference in positive sentiment scores\n",
    "summary, results = rp.ttest(group1= all_countries['tweets_sent_pos'][all_countries['pro'] == 'ProR'], group1_name= \"proR\",\n",
    "                            group2= all_countries['tweets_sent_pos'][all_countries['pro'] == 'ProU'], group2_name= \"proU\")\n",
    "\n",
    "print(summary)\n",
    "print('------')\n",
    "print(results)\n",
    "\n",
    "# the mean positive sentiment score for proR, M= 0.0193 (0.0176, 0.0211), statistically differs from proU, M= 0.0263 (0.0216, 0.0310); t(6668)= -3.1179, p < 0.05."
   ]
  },
  {
   "cell_type": "code",
   "execution_count": 8,
   "id": "34b80993",
   "metadata": {},
   "outputs": [
    {
     "name": "stdout",
     "output_type": "stream",
     "text": [
      "   Variable       N      Mean        SD        SE  95% Conf.  Interval\n",
      "0      proR  5514.0  0.100698  0.132513  0.001785   0.097199  0.104196\n",
      "1      proU  1156.0  0.078263  0.125362  0.003687   0.071029  0.085497\n",
      "2  combined  6670.0  0.096810  0.131567  0.001611   0.093652  0.099968\n",
      "------\n",
      "            Independent t-test    results\n",
      "0  Difference (proR - proU) =      0.0224\n",
      "1        Degrees of freedom =   6668.0000\n",
      "2                         t =      5.2820\n",
      "3     Two side test p value =      0.0000\n",
      "4    Difference < 0 p value =      1.0000\n",
      "5    Difference > 0 p value =      0.0000\n",
      "6                 Cohen's d =      0.1709\n",
      "7                 Hedge's g =      0.1708\n",
      "8            Glass's delta1 =      0.1693\n",
      "9          Point-Biserial r =      0.0645\n"
     ]
    },
    {
     "name": "stderr",
     "output_type": "stream",
     "text": [
      "/home/coder/.local/lib/python3.9/site-packages/researchpy/ttest.py:38: FutureWarning: The series.append method is deprecated and will be removed from pandas in a future version. Use pandas.concat instead.\n",
      "  groups = group1.append(group2, ignore_index= True)\n"
     ]
    }
   ],
   "source": [
    "# t-test: difference in negative sentiment scores\n",
    "summary, results = rp.ttest(group1= all_countries['tweets_sent_neg'][all_countries['pro'] == 'ProR'], group1_name= \"proR\",\n",
    "                            group2= all_countries['tweets_sent_neg'][all_countries['pro'] == 'ProU'], group2_name= \"proU\")\n",
    "\n",
    "print(summary)\n",
    "print('------')\n",
    "print(results)\n",
    "\n",
    "# the mean negative sentiment score for proR, M= 0.1007 (0.0972, 0.1042), statistically differs from proU, M= 0.1156 (0.0710, 0.0855); t(6668)= 5.2820, p < 0.05."
   ]
  },
  {
   "cell_type": "code",
   "execution_count": 55,
   "id": "20155fe3",
   "metadata": {},
   "outputs": [
    {
     "name": "stdout",
     "output_type": "stream",
     "text": [
      "   Variable       N      Mean        SD        SE  95% Conf.  Interval\n",
      "0      proR  5514.0 -0.257080  0.397250  0.005350  -0.267568 -0.246592\n",
      "1      proU  1156.0 -0.154480  0.352831  0.010377  -0.174841 -0.134120\n",
      "2  combined  6670.0 -0.239298  0.391819  0.004798  -0.248703 -0.229893\n",
      "------\n",
      "            Independent t-test    results\n",
      "0  Difference (proR - proU) =     -0.1026\n",
      "1        Degrees of freedom =   6668.0000\n",
      "2                         t =     -8.1343\n",
      "3     Two side test p value =      0.0000\n",
      "4    Difference < 0 p value =      0.0000\n",
      "5    Difference > 0 p value =      1.0000\n",
      "6                 Cohen's d =     -0.2631\n",
      "7                 Hedge's g =     -0.2631\n",
      "8            Glass's delta1 =     -0.2583\n",
      "9          Point-Biserial r =     -0.0991\n"
     ]
    },
    {
     "name": "stderr",
     "output_type": "stream",
     "text": [
      "/home/coder/.local/lib/python3.9/site-packages/researchpy/ttest.py:38: FutureWarning: The series.append method is deprecated and will be removed from pandas in a future version. Use pandas.concat instead.\n",
      "  groups = group1.append(group2, ignore_index= True)\n"
     ]
    }
   ],
   "source": [
    "# t-test: difference in compound scores\n",
    "summary, results = rp.ttest(group1= all_countries['compound'][all_countries['pro'] == 'ProR'].astype(float), group1_name= \"proR\",\n",
    "                            group2= all_countries['compound'][all_countries['pro'] == 'ProU'].astype(float), group2_name= \"proU\")\n",
    "\n",
    "print(summary)\n",
    "print('------')\n",
    "print(results)\n",
    "\n",
    "# the mean compound score for proR, M= -0.2571 (-0.2676, -0.2466), statistically differs from proU, M= -0.1545 (-0.1748, -0.1341); t(6668)= -8.1342, p < 0.001"
   ]
  },
  {
   "cell_type": "markdown",
   "id": "fd5f6cbe",
   "metadata": {},
   "source": [
    "## Combined comments"
   ]
  },
  {
   "cell_type": "code",
   "execution_count": 34,
   "id": "b3fec2e1",
   "metadata": {},
   "outputs": [
    {
     "name": "stdout",
     "output_type": "stream",
     "text": [
      "   Variable         N      Mean        SD        SE  95% Conf.  Interval\n",
      "0      proR    9210.0  0.111527  0.146945  0.001531   0.108526  0.114528\n",
      "1      proU  101443.0  0.103985  0.142521  0.000447   0.103107  0.104862\n",
      "2  combined  110653.0  0.104612  0.142909  0.000430   0.103770  0.105454\n",
      "------\n",
      "            Independent t-test      results\n",
      "0  Difference (proR - proU) =        0.0075\n",
      "1        Degrees of freedom =   110651.0000\n",
      "2                         t =        4.8502\n",
      "3     Two side test p value =        0.0000\n",
      "4    Difference < 0 p value =        1.0000\n",
      "5    Difference > 0 p value =        0.0000\n",
      "6                 Cohen's d =        0.0528\n",
      "7                 Hedge's g =        0.0528\n",
      "8            Glass's delta1 =        0.0513\n",
      "9          Point-Biserial r =        0.0146\n"
     ]
    },
    {
     "name": "stderr",
     "output_type": "stream",
     "text": [
      "/home/coder/.local/lib/python3.9/site-packages/researchpy/ttest.py:38: FutureWarning: The series.append method is deprecated and will be removed from pandas in a future version. Use pandas.concat instead.\n",
      "  groups = group1.append(group2, ignore_index= True)\n"
     ]
    }
   ],
   "source": [
    "# t-test: difference in positive sentiment scores\n",
    "summary, results = rp.ttest(group1= all_countries_comments['tweets_sent_pos'][all_countries_comments['pro'] == 'ProR'], group1_name= \"proR\",\n",
    "                            group2= all_countries_comments['tweets_sent_pos'][all_countries_comments['pro'] == 'ProU'], group2_name= \"proU\")\n",
    "\n",
    "print(summary)\n",
    "print('------')\n",
    "print(results)\n",
    "\n",
    "# the mean positive sentiment score for proR, M= 0.1115 (0.1085, 0.1145), statistically differs from proU, M= 0.1040 (0.1031, 0.1049); t(110653)= 4.8502, p < 0.001."
   ]
  },
  {
   "cell_type": "code",
   "execution_count": 35,
   "id": "a3cbe8f4",
   "metadata": {},
   "outputs": [
    {
     "name": "stdout",
     "output_type": "stream",
     "text": [
      "   Variable         N      Mean        SD        SE  95% Conf.  Interval\n",
      "0      proR    9210.0  0.122990  0.158678  0.001653   0.119749  0.126231\n",
      "1      proU  101443.0  0.131420  0.162336  0.000510   0.130421  0.132419\n",
      "2  combined  110653.0  0.130719  0.162051  0.000487   0.129764  0.131674\n",
      "------\n",
      "            Independent t-test      results\n",
      "0  Difference (proR - proU) =       -0.0084\n",
      "1        Degrees of freedom =   110651.0000\n",
      "2                         t =       -4.7806\n",
      "3     Two side test p value =        0.0000\n",
      "4    Difference < 0 p value =        0.0000\n",
      "5    Difference > 0 p value =        1.0000\n",
      "6                 Cohen's d =       -0.0520\n",
      "7                 Hedge's g =       -0.0520\n",
      "8            Glass's delta1 =       -0.0531\n",
      "9          Point-Biserial r =       -0.0144\n"
     ]
    },
    {
     "name": "stderr",
     "output_type": "stream",
     "text": [
      "/home/coder/.local/lib/python3.9/site-packages/researchpy/ttest.py:38: FutureWarning: The series.append method is deprecated and will be removed from pandas in a future version. Use pandas.concat instead.\n",
      "  groups = group1.append(group2, ignore_index= True)\n"
     ]
    }
   ],
   "source": [
    "# t-test: difference in negative sentiment scores\n",
    "summary, results = rp.ttest(group1= all_countries_comments['tweets_sent_neg'][all_countries_comments['pro'] == 'ProR'], group1_name= \"proR\",\n",
    "                            group2= all_countries_comments['tweets_sent_neg'][all_countries_comments['pro'] == 'ProU'], group2_name= \"proU\")\n",
    "\n",
    "print(summary)\n",
    "print('------')\n",
    "print(results)\n",
    "\n",
    "# the mean negative sentiment score for proR, M= 0.1230 (0.1197, 0.1262), statistically differs from proU, M= 0.1314 (0.1304, 0.1324); t(110653)= -4.7806, p < 0.001."
   ]
  },
  {
   "cell_type": "code",
   "execution_count": 56,
   "id": "98379cdd",
   "metadata": {},
   "outputs": [
    {
     "name": "stdout",
     "output_type": "stream",
     "text": [
      "   Variable         N      Mean        SD        SE  95% Conf.  Interval\n",
      "0      proR    9210.0 -0.035916  0.486506  0.005069  -0.045853 -0.025979\n",
      "1      proU  102021.0 -0.075642  0.492750  0.001543  -0.078665 -0.072618\n",
      "2  combined  111231.0 -0.072352  0.492355  0.001476  -0.075246 -0.069459\n",
      "------\n",
      "            Independent t-test      results\n",
      "0  Difference (proR - proU) =        0.0397\n",
      "1        Degrees of freedom =   111229.0000\n",
      "2                         t =        7.4176\n",
      "3     Two side test p value =        0.0000\n",
      "4    Difference < 0 p value =        1.0000\n",
      "5    Difference > 0 p value =        0.0000\n",
      "6                 Cohen's d =        0.0807\n",
      "7                 Hedge's g =        0.0807\n",
      "8            Glass's delta1 =        0.0817\n",
      "9          Point-Biserial r =        0.0222\n"
     ]
    },
    {
     "name": "stderr",
     "output_type": "stream",
     "text": [
      "/home/coder/.local/lib/python3.9/site-packages/researchpy/ttest.py:38: FutureWarning: The series.append method is deprecated and will be removed from pandas in a future version. Use pandas.concat instead.\n",
      "  groups = group1.append(group2, ignore_index= True)\n"
     ]
    }
   ],
   "source": [
    "# t-test: difference in compound scores\n",
    "summary, results = rp.ttest(group1= all_countries_comments['compound'][all_countries_comments['pro'] == 'ProR'].astype(float), group1_name= \"proR\",\n",
    "                            group2= all_countries_comments['compound'][all_countries_comments['pro'] == 'ProU'].astype(float), group2_name= \"proU\")\n",
    "\n",
    "print(summary)\n",
    "print('------')\n",
    "print(results)\n",
    "\n",
    "# the mean compound score for proR, M= -0.0359 (-0.0459, -0.0260), statistically differs from proU, M= -0.0756 (-0.0787, -0.0726); t(111229)= 7.4176, p < 0.001"
   ]
  },
  {
   "cell_type": "markdown",
   "id": "1abb5679",
   "metadata": {},
   "source": [
    "## combined both"
   ]
  },
  {
   "cell_type": "code",
   "execution_count": 25,
   "id": "ce326324",
   "metadata": {},
   "outputs": [
    {
     "name": "stdout",
     "output_type": "stream",
     "text": [
      "   Variable         N      Mean        SD        SE  95% Conf.  Interval\n",
      "0      proR   14724.0  0.076994  0.131000  0.001080   0.074878  0.079110\n",
      "1      proU  103177.0  0.103041  0.142192  0.000443   0.102173  0.103908\n",
      "2  combined  117901.0  0.099788  0.141105  0.000411   0.098982  0.100593\n",
      "------\n",
      "            Independent t-test      results\n",
      "0  Difference (proR - proU) =       -0.0260\n",
      "1        Degrees of freedom =   117899.0000\n",
      "2                         t =      -20.9926\n",
      "3     Two side test p value =        0.0000\n",
      "4    Difference < 0 p value =        0.0000\n",
      "5    Difference > 0 p value =        1.0000\n",
      "6                 Cohen's d =       -0.1849\n",
      "7                 Hedge's g =       -0.1849\n",
      "8            Glass's delta1 =       -0.1988\n",
      "9          Point-Biserial r =       -0.0610\n"
     ]
    },
    {
     "name": "stderr",
     "output_type": "stream",
     "text": [
      "/home/coder/.local/lib/python3.9/site-packages/researchpy/ttest.py:38: FutureWarning: The series.append method is deprecated and will be removed from pandas in a future version. Use pandas.concat instead.\n",
      "  groups = group1.append(group2, ignore_index= True)\n"
     ]
    }
   ],
   "source": [
    "# t-test: difference in positive sentiment scores\n",
    "summary, results = rp.ttest(group1= all['tweets_sent_pos'][all['pro'] == 'ProR'], group1_name= \"proR\",\n",
    "                            group2= all['tweets_sent_pos'][all['pro'] == 'ProU'], group2_name= \"proU\")\n",
    "\n",
    "print(summary)\n",
    "print('------')\n",
    "print(results)"
   ]
  },
  {
   "cell_type": "code",
   "execution_count": 26,
   "id": "df18bed2",
   "metadata": {},
   "outputs": [
    {
     "name": "stdout",
     "output_type": "stream",
     "text": [
      "   Variable         N      Mean        SD        SE  95% Conf.  Interval\n",
      "0      proR   14724.0  0.114642  0.149802  0.001235   0.112222  0.117062\n",
      "1      proU  103177.0  0.130867  0.162186  0.000505   0.129877  0.131857\n",
      "2  combined  117901.0  0.128841  0.160781  0.000468   0.127923  0.129758\n",
      "------\n",
      "            Independent t-test      results\n",
      "0  Difference (proR - proU) =       -0.0162\n",
      "1        Degrees of freedom =   117899.0000\n",
      "2                         t =      -11.4614\n",
      "3     Two side test p value =        0.0000\n",
      "4    Difference < 0 p value =        0.0000\n",
      "5    Difference > 0 p value =        1.0000\n",
      "6                 Cohen's d =       -0.1010\n",
      "7                 Hedge's g =       -0.1010\n",
      "8            Glass's delta1 =       -0.1083\n",
      "9          Point-Biserial r =       -0.0334\n"
     ]
    },
    {
     "name": "stderr",
     "output_type": "stream",
     "text": [
      "/home/coder/.local/lib/python3.9/site-packages/researchpy/ttest.py:38: FutureWarning: The series.append method is deprecated and will be removed from pandas in a future version. Use pandas.concat instead.\n",
      "  groups = group1.append(group2, ignore_index= True)\n"
     ]
    }
   ],
   "source": [
    "# t-test: difference in negative sentiment scores\n",
    "summary, results = rp.ttest(group1= all['tweets_sent_neg'][all['pro'] == 'ProR'], group1_name= \"proR\",\n",
    "                            group2= all['tweets_sent_neg'][all['pro'] == 'ProU'], group2_name= \"proU\")\n",
    "\n",
    "print(summary)\n",
    "print('------')\n",
    "print(results)"
   ]
  },
  {
   "cell_type": "code",
   "execution_count": 57,
   "id": "430c95fc",
   "metadata": {},
   "outputs": [
    {
     "name": "stdout",
     "output_type": "stream",
     "text": [
      "   Variable         N      Mean        SD        SE  95% Conf.  Interval\n",
      "0      proR   14724.0 -0.118740  0.467541  0.003853  -0.126292 -0.111187\n",
      "1      proU  103177.0 -0.076525  0.491472  0.001530  -0.079524 -0.073526\n",
      "2  combined  117901.0 -0.081797  0.488745  0.001423  -0.084587 -0.079007\n",
      "------\n",
      "            Independent t-test      results\n",
      "0  Difference (proR - proU) =       -0.0422\n",
      "1        Degrees of freedom =   117899.0000\n",
      "2                         t =       -9.8085\n",
      "3     Two side test p value =        0.0000\n",
      "4    Difference < 0 p value =        0.0000\n",
      "5    Difference > 0 p value =        1.0000\n",
      "6                 Cohen's d =       -0.0864\n",
      "7                 Hedge's g =       -0.0864\n",
      "8            Glass's delta1 =       -0.0903\n",
      "9          Point-Biserial r =       -0.0286\n"
     ]
    },
    {
     "name": "stderr",
     "output_type": "stream",
     "text": [
      "/home/coder/.local/lib/python3.9/site-packages/researchpy/ttest.py:38: FutureWarning: The series.append method is deprecated and will be removed from pandas in a future version. Use pandas.concat instead.\n",
      "  groups = group1.append(group2, ignore_index= True)\n"
     ]
    }
   ],
   "source": [
    "# t-test: difference in compound scores\n",
    "summary, results = rp.ttest(group1= all['compound'][all['pro'] == 'ProR'].astype(float), group1_name= \"proR\",\n",
    "                            group2= all['compound'][all['pro'] == 'ProU'].astype(float), group2_name= \"proU\")\n",
    "\n",
    "print(summary)\n",
    "print('------')\n",
    "print(results)\n",
    "\n",
    "# the mean compound score for proR, M= -0.1187 (-0.1263, -0.1112), statistically differs from proU, M= -0.0765 (-0.0795, -0.0735); t(117899)= -9.8085, p < 0.001"
   ]
  },
  {
   "cell_type": "markdown",
   "id": "14caee07",
   "metadata": {},
   "source": [
    "## Combined Scandinavian"
   ]
  },
  {
   "cell_type": "code",
   "execution_count": 10,
   "id": "dfca40de",
   "metadata": {},
   "outputs": [
    {
     "name": "stdout",
     "output_type": "stream",
     "text": [
      "   Variable     N      Mean        SD        SE  95% Conf.  Interval\n",
      "0      proR   8.0  0.027875  0.053523  0.018923  -0.016871  0.072621\n",
      "1      proU  58.0  0.060483  0.126406  0.016598   0.027246  0.093719\n",
      "2  combined  66.0  0.056530  0.120147  0.014789   0.026994  0.086066\n",
      "------\n",
      "            Independent t-test  results\n",
      "0  Difference (proR - proU) =   -0.0326\n",
      "1        Degrees of freedom =   64.0000\n",
      "2                         t =   -0.7169\n",
      "3     Two side test p value =    0.4760\n",
      "4    Difference < 0 p value =    0.2380\n",
      "5    Difference > 0 p value =    0.7620\n",
      "6                 Cohen's d =   -0.2704\n",
      "7                 Hedge's g =   -0.2672\n",
      "8            Glass's delta1 =   -0.6092\n",
      "9          Point-Biserial r =   -0.0893\n"
     ]
    },
    {
     "name": "stderr",
     "output_type": "stream",
     "text": [
      "/home/coder/.local/lib/python3.9/site-packages/researchpy/ttest.py:38: FutureWarning: The series.append method is deprecated and will be removed from pandas in a future version. Use pandas.concat instead.\n",
      "  groups = group1.append(group2, ignore_index= True)\n"
     ]
    }
   ],
   "source": [
    "# t-test: difference in positive sentiment scores\n",
    "summary, results = rp.ttest(group1= scandi['tweets_sent_pos'][scandi['pro'] == 'ProR'], group1_name= \"proR\",\n",
    "                            group2= scandi['tweets_sent_pos'][scandi['pro'] == 'ProU'], group2_name= \"proU\")\n",
    "\n",
    "print(summary)\n",
    "print('------')\n",
    "print(results)\n",
    "\n",
    "# the mean positive sentiment score for proR, M= 0.0278 (-0.0169, 0.0726), does not statistically differ from proU, M= 0.0604 (0.0272, 0.0937); t(64)= -0.7169, p > 0.05."
   ]
  },
  {
   "cell_type": "code",
   "execution_count": 37,
   "id": "1e0690f6",
   "metadata": {},
   "outputs": [
    {
     "name": "stdout",
     "output_type": "stream",
     "text": [
      "   Variable     N      Mean        SD        SE  95% Conf.  Interval\n",
      "0      proR   8.0  0.063750  0.090411  0.031965  -0.011836  0.139336\n",
      "1      proU  58.0  0.064483  0.107729  0.014145   0.036157  0.092809\n",
      "2  combined  66.0  0.064394  0.105155  0.012944   0.038544  0.090244\n",
      "------\n",
      "            Independent t-test  results\n",
      "0  Difference (proR - proU) =   -0.0007\n",
      "1        Degrees of freedom =   64.0000\n",
      "2                         t =   -0.0183\n",
      "3     Two side test p value =    0.9854\n",
      "4    Difference < 0 p value =    0.4927\n",
      "5    Difference > 0 p value =    0.5073\n",
      "6                 Cohen's d =   -0.0069\n",
      "7                 Hedge's g =   -0.0068\n",
      "8            Glass's delta1 =   -0.0081\n",
      "9          Point-Biserial r =   -0.0023\n"
     ]
    },
    {
     "name": "stderr",
     "output_type": "stream",
     "text": [
      "/home/coder/.local/lib/python3.9/site-packages/researchpy/ttest.py:38: FutureWarning: The series.append method is deprecated and will be removed from pandas in a future version. Use pandas.concat instead.\n",
      "  groups = group1.append(group2, ignore_index= True)\n"
     ]
    }
   ],
   "source": [
    "# t-test: difference in negative sentiment scores\n",
    "summary, results = rp.ttest(group1= scandi['tweets_sent_neg'][scandi['pro'] == 'ProR'], group1_name= \"proR\",\n",
    "                            group2= scandi['tweets_sent_neg'][scandi['pro'] == 'ProU'], group2_name= \"proU\")\n",
    "\n",
    "print(summary)\n",
    "print('------')\n",
    "print(results)\n",
    "\n",
    "# the mean negative sentiment score for proR, M= 0.0638 (-0.0118, 0.1393), does not statistically differ from proU, M= 0.0645 (0.0362, 0.0928); t(64)= -0.0183, p > 0.05."
   ]
  },
  {
   "cell_type": "code",
   "execution_count": 58,
   "id": "73934015",
   "metadata": {},
   "outputs": [
    {
     "name": "stdout",
     "output_type": "stream",
     "text": [
      "   Variable     N      Mean        SD        SE  95% Conf.  Interval\n",
      "0      proR   8.0 -0.151300  0.473647  0.167460  -0.547279  0.244679\n",
      "1      proU  58.0 -0.074222  0.333945  0.043849  -0.162029  0.013584\n",
      "2  combined  66.0 -0.083565  0.350138  0.043099  -0.169640  0.002509\n",
      "------\n",
      "            Independent t-test  results\n",
      "0  Difference (proR - proU) =   -0.0771\n",
      "1        Degrees of freedom =   64.0000\n",
      "2                         t =   -0.5807\n",
      "3     Two side test p value =    0.5635\n",
      "4    Difference < 0 p value =    0.2817\n",
      "5    Difference > 0 p value =    0.7183\n",
      "6                 Cohen's d =   -0.2190\n",
      "7                 Hedge's g =   -0.2164\n",
      "8            Glass's delta1 =   -0.1627\n",
      "9          Point-Biserial r =   -0.0724\n"
     ]
    },
    {
     "name": "stderr",
     "output_type": "stream",
     "text": [
      "/home/coder/.local/lib/python3.9/site-packages/researchpy/ttest.py:38: FutureWarning: The series.append method is deprecated and will be removed from pandas in a future version. Use pandas.concat instead.\n",
      "  groups = group1.append(group2, ignore_index= True)\n"
     ]
    }
   ],
   "source": [
    "# t-test: difference in compound scores\n",
    "summary, results = rp.ttest(group1= scandi['compound'][scandi['pro'] == 'ProR'].astype(float), group1_name= \"proR\",\n",
    "                            group2= scandi['compound'][scandi['pro'] == 'ProU'].astype(float), group2_name= \"proU\")\n",
    "\n",
    "print(summary)\n",
    "print('------')\n",
    "print(results)\n",
    "\n",
    "# the mean compound score for proR, M= -0.1513 (-0.5473, 0.2447), statistically differs from proU, M= -0.0742 (-0.1620, 0.0136); t(64)= -0.5807, p > 0.05"
   ]
  },
  {
   "cell_type": "markdown",
   "id": "ba1398e8",
   "metadata": {},
   "source": [
    "## Scandinavian comments"
   ]
  },
  {
   "cell_type": "code",
   "execution_count": 39,
   "id": "21a269f2",
   "metadata": {},
   "outputs": [
    {
     "name": "stdout",
     "output_type": "stream",
     "text": [
      "   Variable      N      Mean        SD        SE  95% Conf.  Interval\n",
      "0      proR  405.0  0.099756  0.109464  0.005439   0.089063  0.110448\n",
      "1      proU  482.0  0.103575  0.130790  0.005957   0.091869  0.115280\n",
      "2  combined  887.0  0.101831  0.121466  0.004078   0.093826  0.109835\n",
      "------\n",
      "            Independent t-test   results\n",
      "0  Difference (proR - proU) =    -0.0038\n",
      "1        Degrees of freedom =   885.0000\n",
      "2                         t =    -0.4662\n",
      "3     Two side test p value =     0.6412\n",
      "4    Difference < 0 p value =     0.3206\n",
      "5    Difference > 0 p value =     0.6794\n",
      "6                 Cohen's d =    -0.0314\n",
      "7                 Hedge's g =    -0.0314\n",
      "8            Glass's delta1 =    -0.0349\n",
      "9          Point-Biserial r =    -0.0157\n"
     ]
    },
    {
     "name": "stderr",
     "output_type": "stream",
     "text": [
      "/home/coder/.local/lib/python3.9/site-packages/researchpy/ttest.py:38: FutureWarning: The series.append method is deprecated and will be removed from pandas in a future version. Use pandas.concat instead.\n",
      "  groups = group1.append(group2, ignore_index= True)\n"
     ]
    }
   ],
   "source": [
    "# t-test: difference in positive sentiment scores\n",
    "summary, results = rp.ttest(group1= scandi_comments['tweets_sent_pos'][scandi_comments['pro'] == 'ProR'], group1_name= \"proR\",\n",
    "                            group2= scandi_comments['tweets_sent_pos'][scandi_comments['pro'] == 'ProU'], group2_name= \"proU\")\n",
    "\n",
    "print(summary)\n",
    "print('------')\n",
    "print(results)\n",
    "\n",
    "# the mean positive sentiment score for proR, M= 0.0998 (0.0891, 0.1104), does not statistically differ from proU, M= 0.1036 (0.0919, 0.1153); t(885)= -0.4662, p > 0.05."
   ]
  },
  {
   "cell_type": "code",
   "execution_count": 40,
   "id": "46947ad6",
   "metadata": {},
   "outputs": [
    {
     "name": "stdout",
     "output_type": "stream",
     "text": [
      "   Variable      N      Mean        SD        SE  95% Conf.  Interval\n",
      "0      proR  405.0  0.107640  0.110517  0.005492   0.096844  0.118435\n",
      "1      proU  482.0  0.101716  0.126920  0.005781   0.090357  0.113075\n",
      "2  combined  887.0  0.104421  0.119680  0.004018   0.096534  0.112307\n",
      "------\n",
      "            Independent t-test   results\n",
      "0  Difference (proR - proU) =     0.0059\n",
      "1        Degrees of freedom =   885.0000\n",
      "2                         t =     0.7341\n",
      "3     Two side test p value =     0.4631\n",
      "4    Difference < 0 p value =     0.7685\n",
      "5    Difference > 0 p value =     0.2315\n",
      "6                 Cohen's d =     0.0495\n",
      "7                 Hedge's g =     0.0494\n",
      "8            Glass's delta1 =     0.0536\n",
      "9          Point-Biserial r =     0.0247\n"
     ]
    },
    {
     "name": "stderr",
     "output_type": "stream",
     "text": [
      "/home/coder/.local/lib/python3.9/site-packages/researchpy/ttest.py:38: FutureWarning: The series.append method is deprecated and will be removed from pandas in a future version. Use pandas.concat instead.\n",
      "  groups = group1.append(group2, ignore_index= True)\n"
     ]
    }
   ],
   "source": [
    "# t-test: difference in negative sentiment scores\n",
    "summary, results = rp.ttest(group1= scandi_comments['tweets_sent_neg'][scandi_comments['pro'] == 'ProR'], group1_name= \"proR\",\n",
    "                            group2= scandi_comments['tweets_sent_neg'][scandi_comments['pro'] == 'ProU'], group2_name= \"proU\")\n",
    "\n",
    "print(summary)\n",
    "print('------')\n",
    "print(results)\n",
    "\n",
    "# the mean negative sentiment score for proR, M= 0.1076 (0.0968, 0.1184), does not statistically differ from proU, M= 0.1017 (0.0904, 0.1131); t(885)= 0.7341, p > 0.05."
   ]
  },
  {
   "cell_type": "code",
   "execution_count": 59,
   "id": "6fd112a9",
   "metadata": {},
   "outputs": [
    {
     "name": "stdout",
     "output_type": "stream",
     "text": [
      "   Variable       N      Mean        SD        SE  95% Conf.  Interval\n",
      "0      proR   405.0 -0.022689  0.505102  0.025099  -0.072029  0.026652\n",
      "1      proU  1060.0 -0.063331  0.473875  0.014555  -0.091891 -0.034771\n",
      "2  combined  1465.0 -0.052095  0.482878  0.012616  -0.076842 -0.027348\n",
      "------\n",
      "            Independent t-test    results\n",
      "0  Difference (proR - proU) =      0.0406\n",
      "1        Degrees of freedom =   1463.0000\n",
      "2                         t =      1.4413\n",
      "3     Two side test p value =      0.1497\n",
      "4    Difference < 0 p value =      0.9251\n",
      "5    Difference > 0 p value =      0.0749\n",
      "6                 Cohen's d =      0.0842\n",
      "7                 Hedge's g =      0.0842\n",
      "8            Glass's delta1 =      0.0805\n",
      "9          Point-Biserial r =      0.0377\n"
     ]
    },
    {
     "name": "stderr",
     "output_type": "stream",
     "text": [
      "/home/coder/.local/lib/python3.9/site-packages/researchpy/ttest.py:38: FutureWarning: The series.append method is deprecated and will be removed from pandas in a future version. Use pandas.concat instead.\n",
      "  groups = group1.append(group2, ignore_index= True)\n"
     ]
    }
   ],
   "source": [
    "# t-test: difference in compound scores\n",
    "summary, results = rp.ttest(group1= scandi_comments['compound'][scandi_comments['pro'] == 'ProR'].astype(float), group1_name= \"proR\",\n",
    "                            group2= scandi_comments['compound'][scandi_comments['pro'] == 'ProU'].astype(float), group2_name= \"proU\")\n",
    "\n",
    "print(summary)\n",
    "print('------')\n",
    "print(results)\n",
    "\n",
    "# the mean compound score for proR, M= -0.0227 (-0.0720, 0.0267), does not statistically differ from proU, M= -0.0633 (-0.0919, -0.0348); t(1463)= 1.4413, p > 0.05"
   ]
  },
  {
   "cell_type": "markdown",
   "id": "4d4b73bb",
   "metadata": {},
   "source": [
    "## Scandi both"
   ]
  },
  {
   "cell_type": "code",
   "execution_count": 23,
   "id": "bd059cde",
   "metadata": {},
   "outputs": [
    {
     "name": "stdout",
     "output_type": "stream",
     "text": [
      "   Variable       N      Mean        SD        SE  95% Conf.  Interval\n",
      "0      proR   413.0  0.098363  0.109072  0.005367   0.087813  0.108914\n",
      "1      proU  1118.0  0.094775  0.134837  0.004033   0.086863  0.102688\n",
      "2  combined  1531.0  0.095743  0.128373  0.003281   0.089308  0.102179\n",
      "------\n",
      "            Independent t-test    results\n",
      "0  Difference (proR - proU) =      0.0036\n",
      "1        Degrees of freedom =   1529.0000\n",
      "2                         t =      0.4852\n",
      "3     Two side test p value =      0.6276\n",
      "4    Difference < 0 p value =      0.6862\n",
      "5    Difference > 0 p value =      0.3138\n",
      "6                 Cohen's d =      0.0279\n",
      "7                 Hedge's g =      0.0279\n",
      "8            Glass's delta1 =      0.0329\n",
      "9          Point-Biserial r =      0.0124\n"
     ]
    },
    {
     "name": "stderr",
     "output_type": "stream",
     "text": [
      "/home/coder/.local/lib/python3.9/site-packages/researchpy/ttest.py:38: FutureWarning: The series.append method is deprecated and will be removed from pandas in a future version. Use pandas.concat instead.\n",
      "  groups = group1.append(group2, ignore_index= True)\n"
     ]
    }
   ],
   "source": [
    "# t-test: difference in positive sentiment scores\n",
    "summary, results = rp.ttest(group1= scandi_all['tweets_sent_pos'][scandi_all['pro'] == 'ProR'], group1_name= \"proR\",\n",
    "                            group2= scandi_all['tweets_sent_pos'][scandi_all['pro'] == 'ProU'], group2_name= \"proU\")\n",
    "\n",
    "print(summary)\n",
    "print('------')\n",
    "print(results)"
   ]
  },
  {
   "cell_type": "code",
   "execution_count": 24,
   "id": "81d4dcad",
   "metadata": {},
   "outputs": [
    {
     "name": "stdout",
     "output_type": "stream",
     "text": [
      "   Variable       N      Mean        SD        SE  95% Conf.  Interval\n",
      "0      proR   413.0  0.106789  0.110238  0.005424   0.096126  0.117452\n",
      "1      proU  1118.0  0.119031  0.158978  0.004755   0.109702  0.128360\n",
      "2  combined  1531.0  0.115729  0.147491  0.003769   0.108335  0.123123\n",
      "------\n",
      "            Independent t-test    results\n",
      "0  Difference (proR - proU) =     -0.0122\n",
      "1        Degrees of freedom =   1529.0000\n",
      "2                         t =     -1.4419\n",
      "3     Two side test p value =      0.1495\n",
      "4    Difference < 0 p value =      0.0748\n",
      "5    Difference > 0 p value =      0.9252\n",
      "6                 Cohen's d =     -0.0830\n",
      "7                 Hedge's g =     -0.0830\n",
      "8            Glass's delta1 =     -0.1111\n",
      "9          Point-Biserial r =     -0.0369\n"
     ]
    },
    {
     "name": "stderr",
     "output_type": "stream",
     "text": [
      "/home/coder/.local/lib/python3.9/site-packages/researchpy/ttest.py:38: FutureWarning: The series.append method is deprecated and will be removed from pandas in a future version. Use pandas.concat instead.\n",
      "  groups = group1.append(group2, ignore_index= True)\n"
     ]
    }
   ],
   "source": [
    "# t-test: difference in negative sentiment scores\n",
    "summary, results = rp.ttest(group1= scandi_all['tweets_sent_neg'][scandi_all['pro'] == 'ProR'], group1_name= \"proR\",\n",
    "                            group2= scandi_all['tweets_sent_neg'][scandi_all['pro'] == 'ProU'], group2_name= \"proU\")\n",
    "\n",
    "print(summary)\n",
    "print('------')\n",
    "print(results)"
   ]
  },
  {
   "cell_type": "code",
   "execution_count": 60,
   "id": "6bb0d204",
   "metadata": {},
   "outputs": [
    {
     "name": "stdout",
     "output_type": "stream",
     "text": [
      "   Variable       N      Mean        SD        SE  95% Conf.  Interval\n",
      "0      proR   413.0 -0.025180  0.504283  0.024814  -0.073958  0.023598\n",
      "1      proU  1118.0 -0.063896  0.467540  0.013983  -0.091332 -0.036460\n",
      "2  combined  1531.0 -0.053452  0.477872  0.012213  -0.077408 -0.029496\n",
      "------\n",
      "            Independent t-test    results\n",
      "0  Difference (proR - proU) =      0.0387\n",
      "1        Degrees of freedom =   1529.0000\n",
      "2                         t =      1.4074\n",
      "3     Two side test p value =      0.1595\n",
      "4    Difference < 0 p value =      0.9202\n",
      "5    Difference > 0 p value =      0.0798\n",
      "6                 Cohen's d =      0.0810\n",
      "7                 Hedge's g =      0.0810\n",
      "8            Glass's delta1 =      0.0768\n",
      "9          Point-Biserial r =      0.0360\n"
     ]
    },
    {
     "name": "stderr",
     "output_type": "stream",
     "text": [
      "/home/coder/.local/lib/python3.9/site-packages/researchpy/ttest.py:38: FutureWarning: The series.append method is deprecated and will be removed from pandas in a future version. Use pandas.concat instead.\n",
      "  groups = group1.append(group2, ignore_index= True)\n"
     ]
    }
   ],
   "source": [
    "# t-test: difference in compound scores\n",
    "summary, results = rp.ttest(group1= scandi_all['compound'][scandi_all['pro'] == 'ProR'].astype(float), group1_name= \"proR\",\n",
    "                            group2= scandi_all['compound'][scandi_all['pro'] == 'ProU'].astype(float), group2_name= \"proU\")\n",
    "\n",
    "print(summary)\n",
    "print('------')\n",
    "print(results)\n",
    "\n",
    "# the mean compound score for proR, M= -0.0252 (-0.0740, 0.0236), does not statistically differ from proU, M= -0.0639 (-0.0913, -0.0364); t(1529)= 1.4074, p > 0.05"
   ]
  }
 ],
 "metadata": {
  "kernelspec": {
   "display_name": "Python 3.9.2 64-bit",
   "language": "python",
   "name": "python3"
  },
  "language_info": {
   "codemirror_mode": {
    "name": "ipython",
    "version": 3
   },
   "file_extension": ".py",
   "mimetype": "text/x-python",
   "name": "python",
   "nbconvert_exporter": "python",
   "pygments_lexer": "ipython3",
   "version": "3.9.2"
  },
  "vscode": {
   "interpreter": {
    "hash": "31f2aee4e71d21fbe5cf8b01ff0e069b9275f58929596ceb00d14d90e3e16cd6"
   }
  }
 },
 "nbformat": 4,
 "nbformat_minor": 5
}
